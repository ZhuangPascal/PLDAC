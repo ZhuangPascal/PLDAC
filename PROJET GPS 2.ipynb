{
 "cells": [
  {
   "cell_type": "markdown",
   "id": "finnish-polish",
   "metadata": {},
   "source": [
    "### Importation de librairies"
   ]
  },
  {
   "cell_type": "code",
   "execution_count": 1,
   "id": "expected-drill",
   "metadata": {},
   "outputs": [
    {
     "data": {
      "text/html": [
       "        <script type=\"text/javascript\">\n",
       "        window.PlotlyConfig = {MathJaxConfig: 'local'};\n",
       "        if (window.MathJax) {MathJax.Hub.Config({SVG: {font: \"STIX-Web\"}});}\n",
       "        if (typeof require !== 'undefined') {\n",
       "        require.undef(\"plotly\");\n",
       "        requirejs.config({\n",
       "            paths: {\n",
       "                'plotly': ['https://cdn.plot.ly/plotly-latest.min']\n",
       "            }\n",
       "        });\n",
       "        require(['plotly'], function(Plotly) {\n",
       "            window._Plotly = Plotly;\n",
       "        });\n",
       "        }\n",
       "        </script>\n",
       "        "
      ]
     },
     "metadata": {},
     "output_type": "display_data"
    }
   ],
   "source": [
    "%matplotlib inline\n",
    "#Importation de librairies\n",
    "import math\n",
    "import numpy as np\n",
    "import pandas as pd\n",
    "import seaborn as sns\n",
    "import matplotlib.pyplot as plt\n",
    "\n",
    "#pyplot\n",
    "import plotly.express as px\n",
    "import plotly.graph_objects as go\n",
    "from plotly.offline import init_notebook_mode, iplot,plot\n",
    "init_notebook_mode(connected=True)\n",
    "\n",
    "#Importation de fichiers contenant des fonctions\n",
    "import dataSource as ds\n",
    "import dataVisualization as dv"
   ]
  },
  {
   "cell_type": "markdown",
   "id": "operating-vegetable",
   "metadata": {},
   "source": [
    "### Lecture du fichier"
   ]
  },
  {
   "cell_type": "code",
   "execution_count": 2,
   "id": "centered-bernard",
   "metadata": {},
   "outputs": [],
   "source": [
    "# Lecture du fichier csv : 1,000,000 premières lignes\n",
    "df = pd.read_csv(\"../DataGpsDas.csv\", nrows=1000000)"
   ]
  },
  {
   "cell_type": "markdown",
   "id": "operational-aruba",
   "metadata": {},
   "source": [
    "### Trie des données"
   ]
  },
  {
   "cell_type": "code",
   "execution_count": 3,
   "id": "historical-judges",
   "metadata": {},
   "outputs": [
    {
     "data": {
      "text/html": [
       "<div>\n",
       "<style scoped>\n",
       "    .dataframe tbody tr th:only-of-type {\n",
       "        vertical-align: middle;\n",
       "    }\n",
       "\n",
       "    .dataframe tbody tr th {\n",
       "        vertical-align: top;\n",
       "    }\n",
       "\n",
       "    .dataframe thead th {\n",
       "        text-align: right;\n",
       "    }\n",
       "</style>\n",
       "<table border=\"1\" class=\"dataframe\">\n",
       "  <thead>\n",
       "    <tr style=\"text-align: right;\">\n",
       "      <th></th>\n",
       "      <th>Trip</th>\n",
       "      <th>GpsTime</th>\n",
       "      <th>GpsHeading</th>\n",
       "      <th>GpsSpeed</th>\n",
       "      <th>Latitude</th>\n",
       "      <th>Longitude</th>\n",
       "    </tr>\n",
       "  </thead>\n",
       "  <tbody>\n",
       "    <tr>\n",
       "      <th>120957</th>\n",
       "      <td>268</td>\n",
       "      <td>506824400</td>\n",
       "      <td>239.485600</td>\n",
       "      <td>7.54</td>\n",
       "      <td>42.285965</td>\n",
       "      <td>-83.733940</td>\n",
       "    </tr>\n",
       "    <tr>\n",
       "      <th>120958</th>\n",
       "      <td>268</td>\n",
       "      <td>506824600</td>\n",
       "      <td>239.828290</td>\n",
       "      <td>7.49</td>\n",
       "      <td>42.285957</td>\n",
       "      <td>-83.733955</td>\n",
       "    </tr>\n",
       "    <tr>\n",
       "      <th>120959</th>\n",
       "      <td>268</td>\n",
       "      <td>506824800</td>\n",
       "      <td>239.733800</td>\n",
       "      <td>7.42</td>\n",
       "      <td>42.285954</td>\n",
       "      <td>-83.733971</td>\n",
       "    </tr>\n",
       "    <tr>\n",
       "      <th>120960</th>\n",
       "      <td>268</td>\n",
       "      <td>506825000</td>\n",
       "      <td>239.743190</td>\n",
       "      <td>7.42</td>\n",
       "      <td>42.285946</td>\n",
       "      <td>-83.733986</td>\n",
       "    </tr>\n",
       "    <tr>\n",
       "      <th>120961</th>\n",
       "      <td>268</td>\n",
       "      <td>506825200</td>\n",
       "      <td>239.775100</td>\n",
       "      <td>7.38</td>\n",
       "      <td>42.285938</td>\n",
       "      <td>-83.734001</td>\n",
       "    </tr>\n",
       "    <tr>\n",
       "      <th>...</th>\n",
       "      <td>...</td>\n",
       "      <td>...</td>\n",
       "      <td>...</td>\n",
       "      <td>...</td>\n",
       "      <td>...</td>\n",
       "      <td>...</td>\n",
       "    </tr>\n",
       "    <tr>\n",
       "      <th>997735</th>\n",
       "      <td>28</td>\n",
       "      <td>492287200</td>\n",
       "      <td>60.193279</td>\n",
       "      <td>11.00</td>\n",
       "      <td>42.285923</td>\n",
       "      <td>-83.733826</td>\n",
       "    </tr>\n",
       "    <tr>\n",
       "      <th>997736</th>\n",
       "      <td>28</td>\n",
       "      <td>492287400</td>\n",
       "      <td>60.422611</td>\n",
       "      <td>10.99</td>\n",
       "      <td>42.285934</td>\n",
       "      <td>-83.733803</td>\n",
       "    </tr>\n",
       "    <tr>\n",
       "      <th>997737</th>\n",
       "      <td>28</td>\n",
       "      <td>492287600</td>\n",
       "      <td>60.365929</td>\n",
       "      <td>10.98</td>\n",
       "      <td>42.285942</td>\n",
       "      <td>-83.733780</td>\n",
       "    </tr>\n",
       "    <tr>\n",
       "      <th>997738</th>\n",
       "      <td>28</td>\n",
       "      <td>492287800</td>\n",
       "      <td>60.441559</td>\n",
       "      <td>10.90</td>\n",
       "      <td>42.285954</td>\n",
       "      <td>-83.733749</td>\n",
       "    </tr>\n",
       "    <tr>\n",
       "      <th>997739</th>\n",
       "      <td>28</td>\n",
       "      <td>492288000</td>\n",
       "      <td>60.577381</td>\n",
       "      <td>10.82</td>\n",
       "      <td>42.285961</td>\n",
       "      <td>-83.733727</td>\n",
       "    </tr>\n",
       "  </tbody>\n",
       "</table>\n",
       "<p>35372 rows × 6 columns</p>\n",
       "</div>"
      ],
      "text/plain": [
       "        Trip    GpsTime  GpsHeading  GpsSpeed   Latitude  Longitude\n",
       "120957   268  506824400  239.485600      7.54  42.285965 -83.733940\n",
       "120958   268  506824600  239.828290      7.49  42.285957 -83.733955\n",
       "120959   268  506824800  239.733800      7.42  42.285954 -83.733971\n",
       "120960   268  506825000  239.743190      7.42  42.285946 -83.733986\n",
       "120961   268  506825200  239.775100      7.38  42.285938 -83.734001\n",
       "...      ...        ...         ...       ...        ...        ...\n",
       "997735    28  492287200   60.193279     11.00  42.285923 -83.733826\n",
       "997736    28  492287400   60.422611     10.99  42.285934 -83.733803\n",
       "997737    28  492287600   60.365929     10.98  42.285942 -83.733780\n",
       "997738    28  492287800   60.441559     10.90  42.285954 -83.733749\n",
       "997739    28  492288000   60.577381     10.82  42.285961 -83.733727\n",
       "\n",
       "[35372 rows x 6 columns]"
      ]
     },
     "execution_count": 3,
     "metadata": {},
     "output_type": "execute_result"
    }
   ],
   "source": [
    "#On réduit le dataset sur une zone définie\n",
    "df = df[(df[\"Latitude\"] >= 42.282970-0.003) & (df[\"Latitude\"] <= 42.282970+0.003) \n",
    "        & (df[\"Longitude\"] >= -83.735390-0.003) & (df[\"Longitude\"] <= -83.735390+0.003)]\n",
    "\n",
    "#On prend les trajectoires avec au moins 100 points\n",
    "trips, counts = np.unique(df[\"Trip\"], return_counts=True)\n",
    "trips = trips[counts>100]\n",
    "df = df[df['Trip'].isin(trips)]\n",
    "\n",
    "#Supprimer les colonnes non utiles\n",
    "drop_columns = ['Device', 'Time', 'GpsWeek', 'Altitude', 'NumberOfSats', 'Differential', 'FixMode', 'Pdop',\n",
    "                'GpsBytes', 'UtcTime', 'UtcWeek']\n",
    "df = df.drop(drop_columns, axis=1)\n",
    "\n",
    "df"
   ]
  },
  {
   "cell_type": "markdown",
   "id": "architectural-jersey",
   "metadata": {},
   "source": [
    "**Variables centrées réduites**"
   ]
  },
  {
   "cell_type": "code",
   "execution_count": 4,
   "id": "continent-thesaurus",
   "metadata": {},
   "outputs": [],
   "source": [
    "df['Latitude'] = (df['Latitude'] - df['Latitude'].mean())/df['Latitude'].std()\n",
    "df['Longitude'] = (df['Longitude'] - df['Longitude'].mean())/df['Longitude'].std()\n",
    "df['GpsSpeed'] = (df['GpsSpeed'] - df['GpsSpeed'].mean())/df['GpsSpeed'].std()\n",
    "df['GpsHeading'] = (df['GpsHeading'] - df['GpsHeading'].mean())/df['GpsHeading'].std()\n",
    "df['GpsTime'] = (df['GpsTime'] - df['GpsTime'].mean())/df['GpsTime'].std()"
   ]
  },
  {
   "cell_type": "markdown",
   "id": "early-commercial",
   "metadata": {},
   "source": [
    "**Paramètres**"
   ]
  },
  {
   "cell_type": "code",
   "execution_count": 5,
   "id": "artificial-rhythm",
   "metadata": {
    "scrolled": false
   },
   "outputs": [
    {
     "data": {
      "text/html": [
       "<div>\n",
       "<style scoped>\n",
       "    .dataframe tbody tr th:only-of-type {\n",
       "        vertical-align: middle;\n",
       "    }\n",
       "\n",
       "    .dataframe tbody tr th {\n",
       "        vertical-align: top;\n",
       "    }\n",
       "\n",
       "    .dataframe thead th {\n",
       "        text-align: right;\n",
       "    }\n",
       "</style>\n",
       "<table border=\"1\" class=\"dataframe\">\n",
       "  <thead>\n",
       "    <tr style=\"text-align: right;\">\n",
       "      <th></th>\n",
       "      <th>Trip</th>\n",
       "      <th>GpsTime</th>\n",
       "      <th>GpsHeading</th>\n",
       "      <th>GpsSpeed</th>\n",
       "      <th>Latitude</th>\n",
       "      <th>Longitude</th>\n",
       "      <th>Effectif_case</th>\n",
       "      <th>Vitesse_moy_case</th>\n",
       "      <th>Vitesse_var_case</th>\n",
       "    </tr>\n",
       "  </thead>\n",
       "  <tbody>\n",
       "    <tr>\n",
       "      <th>120957</th>\n",
       "      <td>268</td>\n",
       "      <td>1.070533</td>\n",
       "      <td>0.295090</td>\n",
       "      <td>0.554161</td>\n",
       "      <td>2.053696</td>\n",
       "      <td>1.169331</td>\n",
       "      <td>1273.0</td>\n",
       "      <td>1.078802</td>\n",
       "      <td>0.648729</td>\n",
       "    </tr>\n",
       "    <tr>\n",
       "      <th>120958</th>\n",
       "      <td>268</td>\n",
       "      <td>1.070536</td>\n",
       "      <td>0.298763</td>\n",
       "      <td>0.543117</td>\n",
       "      <td>2.048391</td>\n",
       "      <td>1.156753</td>\n",
       "      <td>1273.0</td>\n",
       "      <td>1.078802</td>\n",
       "      <td>0.648729</td>\n",
       "    </tr>\n",
       "    <tr>\n",
       "      <th>120959</th>\n",
       "      <td>268</td>\n",
       "      <td>1.070539</td>\n",
       "      <td>0.297750</td>\n",
       "      <td>0.527656</td>\n",
       "      <td>2.046402</td>\n",
       "      <td>1.143337</td>\n",
       "      <td>1273.0</td>\n",
       "      <td>1.078802</td>\n",
       "      <td>0.648729</td>\n",
       "    </tr>\n",
       "    <tr>\n",
       "      <th>120960</th>\n",
       "      <td>268</td>\n",
       "      <td>1.070543</td>\n",
       "      <td>0.297851</td>\n",
       "      <td>0.527656</td>\n",
       "      <td>2.041096</td>\n",
       "      <td>1.130759</td>\n",
       "      <td>1273.0</td>\n",
       "      <td>1.078802</td>\n",
       "      <td>0.648729</td>\n",
       "    </tr>\n",
       "    <tr>\n",
       "      <th>120961</th>\n",
       "      <td>268</td>\n",
       "      <td>1.070546</td>\n",
       "      <td>0.298193</td>\n",
       "      <td>0.518821</td>\n",
       "      <td>2.035791</td>\n",
       "      <td>1.118182</td>\n",
       "      <td>1273.0</td>\n",
       "      <td>1.078802</td>\n",
       "      <td>0.648729</td>\n",
       "    </tr>\n",
       "    <tr>\n",
       "      <th>...</th>\n",
       "      <td>...</td>\n",
       "      <td>...</td>\n",
       "      <td>...</td>\n",
       "      <td>...</td>\n",
       "      <td>...</td>\n",
       "      <td>...</td>\n",
       "      <td>...</td>\n",
       "      <td>...</td>\n",
       "      <td>...</td>\n",
       "    </tr>\n",
       "    <tr>\n",
       "      <th>997735</th>\n",
       "      <td>28</td>\n",
       "      <td>0.829090</td>\n",
       "      <td>-1.626524</td>\n",
       "      <td>1.318381</td>\n",
       "      <td>2.025844</td>\n",
       "      <td>1.264920</td>\n",
       "      <td>181.0</td>\n",
       "      <td>1.414100</td>\n",
       "      <td>0.334055</td>\n",
       "    </tr>\n",
       "    <tr>\n",
       "      <th>997736</th>\n",
       "      <td>28</td>\n",
       "      <td>0.829094</td>\n",
       "      <td>-1.624066</td>\n",
       "      <td>1.316172</td>\n",
       "      <td>2.033138</td>\n",
       "      <td>1.284206</td>\n",
       "      <td>181.0</td>\n",
       "      <td>1.414100</td>\n",
       "      <td>0.334055</td>\n",
       "    </tr>\n",
       "    <tr>\n",
       "      <th>997737</th>\n",
       "      <td>28</td>\n",
       "      <td>0.829097</td>\n",
       "      <td>-1.624674</td>\n",
       "      <td>1.313963</td>\n",
       "      <td>2.038444</td>\n",
       "      <td>1.303491</td>\n",
       "      <td>181.0</td>\n",
       "      <td>1.414100</td>\n",
       "      <td>0.334055</td>\n",
       "    </tr>\n",
       "    <tr>\n",
       "      <th>997738</th>\n",
       "      <td>28</td>\n",
       "      <td>0.829100</td>\n",
       "      <td>-1.623863</td>\n",
       "      <td>1.296293</td>\n",
       "      <td>2.046402</td>\n",
       "      <td>1.329485</td>\n",
       "      <td>181.0</td>\n",
       "      <td>1.414100</td>\n",
       "      <td>0.334055</td>\n",
       "    </tr>\n",
       "    <tr>\n",
       "      <th>997739</th>\n",
       "      <td>28</td>\n",
       "      <td>0.829104</td>\n",
       "      <td>-1.622407</td>\n",
       "      <td>1.278623</td>\n",
       "      <td>2.051044</td>\n",
       "      <td>1.347932</td>\n",
       "      <td>181.0</td>\n",
       "      <td>1.414100</td>\n",
       "      <td>0.334055</td>\n",
       "    </tr>\n",
       "  </tbody>\n",
       "</table>\n",
       "<p>35372 rows × 9 columns</p>\n",
       "</div>"
      ],
      "text/plain": [
       "        Trip   GpsTime  GpsHeading  GpsSpeed  Latitude  Longitude  \\\n",
       "120957   268  1.070533    0.295090  0.554161  2.053696   1.169331   \n",
       "120958   268  1.070536    0.298763  0.543117  2.048391   1.156753   \n",
       "120959   268  1.070539    0.297750  0.527656  2.046402   1.143337   \n",
       "120960   268  1.070543    0.297851  0.527656  2.041096   1.130759   \n",
       "120961   268  1.070546    0.298193  0.518821  2.035791   1.118182   \n",
       "...      ...       ...         ...       ...       ...        ...   \n",
       "997735    28  0.829090   -1.626524  1.318381  2.025844   1.264920   \n",
       "997736    28  0.829094   -1.624066  1.316172  2.033138   1.284206   \n",
       "997737    28  0.829097   -1.624674  1.313963  2.038444   1.303491   \n",
       "997738    28  0.829100   -1.623863  1.296293  2.046402   1.329485   \n",
       "997739    28  0.829104   -1.622407  1.278623  2.051044   1.347932   \n",
       "\n",
       "        Effectif_case  Vitesse_moy_case  Vitesse_var_case  \n",
       "120957         1273.0          1.078802          0.648729  \n",
       "120958         1273.0          1.078802          0.648729  \n",
       "120959         1273.0          1.078802          0.648729  \n",
       "120960         1273.0          1.078802          0.648729  \n",
       "120961         1273.0          1.078802          0.648729  \n",
       "...               ...               ...               ...  \n",
       "997735          181.0          1.414100          0.334055  \n",
       "997736          181.0          1.414100          0.334055  \n",
       "997737          181.0          1.414100          0.334055  \n",
       "997738          181.0          1.414100          0.334055  \n",
       "997739          181.0          1.414100          0.334055  \n",
       "\n",
       "[35372 rows x 9 columns]"
      ]
     },
     "execution_count": 5,
     "metadata": {},
     "output_type": "execute_result"
    }
   ],
   "source": [
    "#bins / nombre d'intervalles\n",
    "n_interval = 8\n",
    "#récupération de paramètres\n",
    "lat_min, lat_max, long_min, long_max, e_x, e_y = ds.calcul_param(df, n_interval)\n",
    "\n",
    "#Ajout des colonnes de l'effectif et de la vitesse moyenne d'une case\n",
    "e, v, v2 = ds.calcul_eff_vit_moy(df, lat_min, long_min, e_x, e_y,n_interval)\n",
    "df[\"Effectif_case\"] = e    \n",
    "df[\"Vitesse_moy_case\"] = v\n",
    "df[\"Vitesse_var_case\"] = v2\n",
    "\n",
    "#Affichage du dataframe\n",
    "df"
   ]
  },
  {
   "cell_type": "markdown",
   "id": "simplified-precipitation",
   "metadata": {},
   "source": [
    "## Modèles"
   ]
  },
  {
   "cell_type": "code",
   "execution_count": 6,
   "id": "proved-enlargement",
   "metadata": {},
   "outputs": [],
   "source": [
    "from sklearn.linear_model import LinearRegression\n",
    "from sklearn.preprocessing import MinMaxScaler, StandardScaler\n",
    "from dataSource import *\n",
    "from sklearn.metrics import mean_squared_error\n",
    "#fichier contenant des classes pour transformer et evaluer les données\n",
    "import Eval\n",
    "from model_physique1 import *\n",
    "from model_physique1bis import *\n",
    "from model_physique2 import *\n",
    "from model_contextual_knnReg import *\n",
    "from model_physique2 import *"
   ]
  },
  {
   "cell_type": "markdown",
   "id": "blank-beaver",
   "metadata": {},
   "source": [
    "#### Paramètres pour la contruction des jeux de données avec variables centrées réduites"
   ]
  },
  {
   "cell_type": "code",
   "execution_count": 7,
   "id": "southern-participant",
   "metadata": {
    "scrolled": true,
    "tags": []
   },
   "outputs": [
    {
     "name": "stdout",
     "output_type": "stream",
     "text": [
      "coef:  [[-5.71824208e-04  3.82726240e-05]\n",
      " [-2.57092967e-05  2.96685081e-07]] (2, 2)\n",
      "coef:  [[-9.50251511e-04  6.16499135e-05]\n",
      " [-4.13862583e-05 -7.94549631e-07]] (2, 2)\n",
      "coef:  [[-9.68726504e-04  1.21179780e-04]\n",
      " [-4.43938322e-05  1.57148275e-06]] (2, 2)\n",
      "coef:  [[-1.46584144e-03  5.84276873e-05]\n",
      " [-6.37152668e-05 -4.55930244e-06]] (2, 2)\n",
      "coef:  [[-1.67650959e-03  1.02057709e-04]\n",
      " [-7.31948853e-05 -3.93732230e-06]] (2, 2)\n",
      "coef:  [[-1.82160834e-03  1.06407914e-04]\n",
      " [-8.33931064e-05 -2.51887706e-06]] (2, 2)\n",
      "coef:  [[-1.57011647e-03  3.06920122e-04]\n",
      " [-7.24384071e-05  4.34446786e-06]] (2, 2)\n",
      "coef:  [[-2.64738109e-03 -3.19426357e-05]\n",
      " [-1.33689951e-04 -1.09186542e-05]] (2, 2)\n",
      "coef:  [[-1.79573314e-03  2.01770072e-04]\n",
      " [-8.74048059e-05 -2.55581419e-06]] (2, 2)\n",
      "coef:  [[-1.83915650e-03  1.66171547e-04]\n",
      " [-8.75106841e-05 -7.23348435e-06]] (2, 2)\n",
      "coef:  [[-2.03655395e-03  4.58357491e-05]\n",
      " [-1.00313784e-04 -1.42848829e-05]] (2, 2)\n",
      "coef:  [[-2.40273760e-03  1.57441113e-04]\n",
      " [-1.08574206e-04 -8.37750023e-06]] (2, 2)\n",
      "coef:  [[-1.99189469e-03  1.53503325e-04]\n",
      " [-9.96790382e-05 -8.34478170e-06]] (2, 2)\n",
      "coef:  [[-2.21404058e-03  2.44423245e-04]\n",
      " [-1.07007502e-04 -4.25407974e-06]] (2, 2)\n",
      "coef:  [[-2.31552677e-03 -1.13337154e-04]\n",
      " [-1.32328726e-04 -2.21578902e-05]] (2, 2)\n",
      "coef:  [[-2.24326788e-03  2.45332309e-04]\n",
      " [-9.99609876e-05 -1.64036874e-05]] (2, 2)\n",
      "coef:  [[-2.63980653e-03  5.77045657e-04]\n",
      " [-1.21037750e-04  1.95956765e-06]] (2, 2)\n",
      "coef:  [[-2.09175494e-03  3.79006334e-04]\n",
      " [-1.16513150e-04 -7.50176344e-06]] (2, 2)\n",
      "coef:  [[-2.22947182e-03  1.68223720e-04]\n",
      " [-1.28306631e-04 -2.08626141e-05]] (2, 2)\n",
      "coef:  [[-2.33927724e-03  1.40508364e-04]\n",
      " [-1.10526914e-04 -2.37396963e-05]] (2, 2)\n",
      "coef:  [[-2.56862631e-03  2.34107647e-04]\n",
      " [-1.09484411e-04 -3.63676309e-05]] (2, 2)\n",
      "coef:  [[-3.16416290e-03  5.65233063e-04]\n",
      " [-1.23617162e-04 -1.69100588e-05]] (2, 2)\n",
      "coef:  [[-2.29708828e-03  3.65548615e-04]\n",
      " [-1.21891892e-04 -1.38735325e-05]] (2, 2)\n",
      "coef:  [[-2.27195727e-03  3.71848245e-04]\n",
      " [-1.27793561e-04 -1.02676107e-05]] (2, 2)\n",
      "coef:  [[-1.94130280e-03 -1.16567715e-04]\n",
      " [-1.13945286e-04 -2.87129821e-05]] (2, 2)\n",
      "coef:  [[-2.42952341e-03  2.43203069e-04]\n",
      " [-1.24088227e-04 -2.85864964e-05]] (2, 2)\n",
      "coef:  [[-2.51945323e-03  6.20773639e-04]\n",
      " [-1.38351143e-04 -6.99243019e-06]] (2, 2)\n",
      "coef:  [[-3.16711874e-03  6.38948296e-04]\n",
      " [-1.47371145e-04 -1.97950722e-05]] (2, 2)\n",
      "coef:  [[-3.17832035e-03  4.05747105e-04]\n",
      " [-1.32510891e-04 -2.54105044e-05]] (2, 2)\n",
      "coef:  [[-3.45460178e-03  6.83457852e-04]\n",
      " [-1.45095442e-04 -1.48829399e-05]] (2, 2)\n",
      "coef:  [[-3.56764727e-03  8.91967010e-04]\n",
      " [-1.26902495e-04 -4.20943149e-05]] (2, 2)\n",
      "coef:  [[-2.35056003e-03  3.35569733e-04]\n",
      " [-1.23010881e-04 -3.26382170e-05]] (2, 2)\n",
      "coef:  [[-2.69073724e-03  8.95098394e-04]\n",
      " [-1.30107352e-04 -1.78414729e-05]] (2, 2)\n",
      "coef:  [[-2.48823862e-03  5.21992061e-04]\n",
      " [-1.20246023e-04 -2.54174231e-05]] (2, 2)\n",
      "coef:  [[-2.24003014e-03  1.46131812e-04]\n",
      " [-1.18394636e-04 -4.50324089e-05]] (2, 2)\n",
      "coef:  [[-2.45321567e-03  5.32958733e-04]\n",
      " [-1.18675332e-04 -3.47541508e-05]] (2, 2)\n",
      "coef:  [[-2.32176729e-03  4.62114706e-04]\n",
      " [-1.41565896e-04 -4.63286542e-05]] (2, 2)\n",
      "coef:  [[-2.17177631e-03  7.32629434e-04]\n",
      " [-1.49372614e-04 -3.16420087e-05]] (2, 2)\n",
      "coef:  [[-2.23649209e-03  6.89976636e-04]\n",
      " [-1.70612193e-04 -3.17061507e-05]] (2, 2)\n",
      "coef:  [[-1.56568312e-03  4.04470047e-04]\n",
      " [-1.60679503e-04 -2.68712106e-05]] (2, 2)\n",
      "coef:  [[-1.65272648e-03  4.06876118e-04]\n",
      " [-1.53772920e-04 -3.95766478e-05]] (2, 2)\n",
      "coef:  [[-1.71947763e-03  4.15421436e-04]\n",
      " [-1.35617174e-04 -4.27665936e-05]] (2, 2)\n",
      "coef:  [[-2.07719138e-03 -1.77818291e-05]\n",
      " [-1.39786866e-04 -4.88027409e-05]] (2, 2)\n",
      "coef:  [[-2.92306454e-03  8.41846421e-04]\n",
      " [-1.47315767e-04 -3.05351926e-05]] (2, 2)\n",
      "coef:  [[-3.26499945e-03  7.48200054e-04]\n",
      " [-1.68172043e-04 -4.46121264e-05]] (2, 2)\n",
      "coef:  [[-3.77412455e-03  1.40213343e-03]\n",
      " [-1.32854308e-04 -4.22203127e-05]] (2, 2)\n",
      "coef:  [[-3.74206084e-03  2.70836681e-03]\n",
      " [-1.70484238e-04 -1.06094386e-05]] (2, 2)\n",
      "coef:  [[-4.04841061e-03  1.03611975e-03]\n",
      " [-1.16939757e-04 -4.59627292e-05]] (2, 2)\n",
      "coef:  [[-4.25731849e-03  9.46280078e-04]\n",
      " [-1.53016547e-04 -5.00553899e-05]] (2, 2)\n"
     ]
    }
   ],
   "source": [
    "freq_train = range(200, 200*50, 200)\n",
    "attrs = ['Latitude','Longitude','GpsTime']\n",
    "l_alpha = []\n",
    "for fq in freq_train:\n",
    "    A_pre, A, y_train = create_data_xy2(df,1,fq,fq)\n",
    "    A_pre = A_pre[attrs].to_numpy()\n",
    "    A = A[attrs].to_numpy()\n",
    "    y_train = y_train.to_numpy()\n",
    "    alpha = learn_alpha(fq,A_pre,A,y_train)\n",
    "    l_alpha.append(alpha)\n"
   ]
  },
  {
   "cell_type": "code",
   "execution_count": 8,
   "id": "domestic-median",
   "metadata": {},
   "outputs": [],
   "source": [
    "#on prend un point sur 'step' du jeu de données\n",
    "freq_test = 800\n",
    "freq_train = 400\n",
    "\n",
    "train_size = 0.7\n",
    "\n",
    "attrs = ['Trip','Latitude','Longitude','GpsHeading','GpsTime']\n",
    "#features\n",
    "attrs_x = [['Latitude','Longitude','GpsHeading','GpsSpeed'],['Latitude','Longitude','GpsTime'],['Latitude','Longitude','GpsHeading','GpsTime'],attrs]\n",
    "#attrs_x = [['Latitude','Longitude','GpsHeading','GpsTime'],attrs]\n",
    "\n",
    "#attrs_x = [attrs,attrs,attrs]\n",
    "#targets\n",
    "labels = ['Latitude','Longitude']\n",
    "\n",
    "#models\n",
    "#models = [model_physique1bis(l_alpha, iftheta=False),model_physique1bis(l_alpha,iftheta=True),model_physique1()]\n",
    "models = [model_contextual_knnReg(),model_contextual_knnReg(),LinearRegression(),model_physique1()]\n",
    "#models = [LinearRegression(),model_physique1()]\n",
    "\n",
    "#preprocessing\n",
    "#preprocessor = [MinMaxScaler() for _ in range(len(models))]\n",
    "preprocessor = None"
   ]
  },
  {
   "cell_type": "markdown",
   "id": "lonely-thomson",
   "metadata": {},
   "source": [
    "#### Création des données d'apprentissage et de test et évaluation des modèles"
   ]
  },
  {
   "cell_type": "code",
   "execution_count": 9,
   "id": "mobile-python",
   "metadata": {
    "scrolled": false,
    "tags": []
   },
   "outputs": [
    {
     "name": "stdout",
     "output_type": "stream",
     "text": [
      "\n",
      "MSE sur les données de test:\n",
      "\n",
      "MSE obtenue pour model_contextual_knnReg : 0.02296977436114354\n",
      "MSE obtenue pour model_contextual_knnReg : 0.2688088703146895\n",
      "MSE obtenue pour LinearRegression : 0.006699091262920618\n",
      "MSE obtenue pour model_physique1 : 0.006755996697346437\n",
      "\n"
     ]
    }
   ],
   "source": [
    "#création des données d'apprentissage et de test pour la prédiction du prochain point (à partir de toutes nos données)\n",
    "traitement = Eval.Traitement(df, attrs_x, labels, freq_train, freq_train,preprocessor)\n",
    "traitement.set_data_train_test(train_size)\n",
    "\n",
    "#Apprentissage des modèles et évaluation à partir de l'objet traitement\n",
    "evaluateur = Eval.Evaluation(models,traitement)\n",
    "evaluateur.fit()\n",
    "\n",
    "#Affichage des résultats\n",
    "evaluateur.afficher_resultats()"
   ]
  },
  {
   "cell_type": "markdown",
   "id": "union-withdrawal",
   "metadata": {},
   "source": [
    "#### Tableau d'erreurs en fonction de la fréquence"
   ]
  },
  {
   "cell_type": "code",
   "execution_count": 10,
   "id": "victorian-evans",
   "metadata": {
    "scrolled": true,
    "tags": []
   },
   "outputs": [
    {
     "data": {
      "image/png": "[encoded data removed]",
      "text/plain": [
       "<Figure size 1080x360 with 1 Axes>"
      ]
     },
     "metadata": {
      "needs_background": "light"
     },
     "output_type": "display_data"
    },
    {
     "data": {
      "image/png": "[encoded data removed]",
      "text/plain": [
       "<Figure size 1080x360 with 1 Axes>"
      ]
     },
     "metadata": {
      "needs_background": "light"
     },
     "output_type": "display_data"
    },
    {
     "data": {
      "image/png": "[encoded data removed]",
      "text/plain": [
       "<Figure size 1080x360 with 1 Axes>"
      ]
     },
     "metadata": {
      "needs_background": "light"
     },
     "output_type": "display_data"
    },
    {
     "data": {
      "image/png": "[encoded data removed]",
      "text/plain": [
       "<Figure size 1080x360 with 1 Axes>"
      ]
     },
     "metadata": {
      "needs_background": "light"
     },
     "output_type": "display_data"
    },
    {
     "data": {
      "image/png": "[encoded data removed]",
      "text/plain": [
       "<Figure size 720x360 with 1 Axes>"
      ]
     },
     "metadata": {
      "needs_background": "light"
     },
     "output_type": "display_data"
    },
    {
     "data": {
      "text/html": [
       "<div>\n",
       "<style scoped>\n",
       "    .dataframe tbody tr th:only-of-type {\n",
       "        vertical-align: middle;\n",
       "    }\n",
       "\n",
       "    .dataframe tbody tr th {\n",
       "        vertical-align: top;\n",
       "    }\n",
       "\n",
       "    .dataframe thead th {\n",
       "        text-align: right;\n",
       "    }\n",
       "</style>\n",
       "<table border=\"1\" class=\"dataframe\">\n",
       "  <thead>\n",
       "    <tr style=\"text-align: right;\">\n",
       "      <th></th>\n",
       "      <th>model_contextual_knnReg</th>\n",
       "      <th>model_contextual_knnReg</th>\n",
       "      <th>LinearRegression</th>\n",
       "      <th>model_physique1</th>\n",
       "    </tr>\n",
       "  </thead>\n",
       "  <tbody>\n",
       "    <tr>\n",
       "      <th>200</th>\n",
       "      <td>0.011886</td>\n",
       "      <td>0.019176</td>\n",
       "      <td>0.003232</td>\n",
       "      <td>0.003213</td>\n",
       "    </tr>\n",
       "    <tr>\n",
       "      <th>800</th>\n",
       "      <td>0.018840</td>\n",
       "      <td>0.026865</td>\n",
       "      <td>0.013157</td>\n",
       "      <td>0.013380</td>\n",
       "    </tr>\n",
       "    <tr>\n",
       "      <th>1800</th>\n",
       "      <td>0.033991</td>\n",
       "      <td>0.042097</td>\n",
       "      <td>0.031271</td>\n",
       "      <td>0.031888</td>\n",
       "    </tr>\n",
       "    <tr>\n",
       "      <th>3200</th>\n",
       "      <td>0.059541</td>\n",
       "      <td>0.066319</td>\n",
       "      <td>0.059410</td>\n",
       "      <td>0.060561</td>\n",
       "    </tr>\n",
       "    <tr>\n",
       "      <th>5000</th>\n",
       "      <td>0.098869</td>\n",
       "      <td>0.104962</td>\n",
       "      <td>0.100717</td>\n",
       "      <td>0.102532</td>\n",
       "    </tr>\n",
       "    <tr>\n",
       "      <th>7200</th>\n",
       "      <td>0.158260</td>\n",
       "      <td>0.169006</td>\n",
       "      <td>0.161624</td>\n",
       "      <td>0.164140</td>\n",
       "    </tr>\n",
       "    <tr>\n",
       "      <th>9800</th>\n",
       "      <td>0.224244</td>\n",
       "      <td>0.240642</td>\n",
       "      <td>0.235871</td>\n",
       "      <td>0.239230</td>\n",
       "    </tr>\n",
       "    <tr>\n",
       "      <th>12800</th>\n",
       "      <td>0.318475</td>\n",
       "      <td>0.333835</td>\n",
       "      <td>0.325526</td>\n",
       "      <td>0.329482</td>\n",
       "    </tr>\n",
       "    <tr>\n",
       "      <th>16200</th>\n",
       "      <td>0.436466</td>\n",
       "      <td>0.455191</td>\n",
       "      <td>0.442894</td>\n",
       "      <td>0.447757</td>\n",
       "    </tr>\n",
       "  </tbody>\n",
       "</table>\n",
       "</div>"
      ],
      "text/plain": [
       "       model_contextual_knnReg  model_contextual_knnReg  LinearRegression  \\\n",
       "200                   0.011886                 0.019176          0.003232   \n",
       "800                   0.018840                 0.026865          0.013157   \n",
       "1800                  0.033991                 0.042097          0.031271   \n",
       "3200                  0.059541                 0.066319          0.059410   \n",
       "5000                  0.098869                 0.104962          0.100717   \n",
       "7200                  0.158260                 0.169006          0.161624   \n",
       "9800                  0.224244                 0.240642          0.235871   \n",
       "12800                 0.318475                 0.333835          0.325526   \n",
       "16200                 0.436466                 0.455191          0.442894   \n",
       "\n",
       "       model_physique1  \n",
       "200           0.003213  \n",
       "800           0.013380  \n",
       "1800          0.031888  \n",
       "3200          0.060561  \n",
       "5000          0.102532  \n",
       "7200          0.164140  \n",
       "9800          0.239230  \n",
       "12800         0.329482  \n",
       "16200         0.447757  "
      ]
     },
     "execution_count": 10,
     "metadata": {},
     "output_type": "execute_result"
    }
   ],
   "source": [
    "nb_freq = 10\n",
    "freq_test = [200*(i**2) for i in range(1,nb_freq)]\n",
    "\n",
    "tabMSE = evaluateur.tabMSEFreq(freq_test,freq_train)\n",
    "tabMSE"
   ]
  },
  {
   "cell_type": "code",
   "execution_count": 11,
   "id": "solid-wonder",
   "metadata": {
    "scrolled": true
   },
   "outputs": [
    {
     "data": {
      "image/png": "[encoded data removed]",
      "text/plain": [
       "<Figure size 1080x360 with 1 Axes>"
      ]
     },
     "metadata": {
      "needs_background": "light"
     },
     "output_type": "display_data"
    },
    {
     "data": {
      "image/png": "[encoded data removed]",
      "text/plain": [
       "<Figure size 1080x360 with 1 Axes>"
      ]
     },
     "metadata": {
      "needs_background": "light"
     },
     "output_type": "display_data"
    },
    {
     "data": {
      "image/png": "[encoded data removed]",
      "text/plain": [
       "<Figure size 1080x360 with 1 Axes>"
      ]
     },
     "metadata": {
      "needs_background": "light"
     },
     "output_type": "display_data"
    },
    {
     "data": {
      "image/png": "[encoded data removed]",
      "text/plain": [
       "<Figure size 1080x360 with 1 Axes>"
      ]
     },
     "metadata": {
      "needs_background": "light"
     },
     "output_type": "display_data"
    },
    {
     "data": {
      "image/png": "[encoded data removed]",
      "text/plain": [
       "<Figure size 720x360 with 1 Axes>"
      ]
     },
     "metadata": {
      "needs_background": "light"
     },
     "output_type": "display_data"
    },
    {
     "data": {
      "text/html": [
       "<div>\n",
       "<style scoped>\n",
       "    .dataframe tbody tr th:only-of-type {\n",
       "        vertical-align: middle;\n",
       "    }\n",
       "\n",
       "    .dataframe tbody tr th {\n",
       "        vertical-align: top;\n",
       "    }\n",
       "\n",
       "    .dataframe thead th {\n",
       "        text-align: right;\n",
       "    }\n",
       "</style>\n",
       "<table border=\"1\" class=\"dataframe\">\n",
       "  <thead>\n",
       "    <tr style=\"text-align: right;\">\n",
       "      <th></th>\n",
       "      <th>model_contextual_knnReg</th>\n",
       "      <th>model_contextual_knnReg</th>\n",
       "      <th>LinearRegression</th>\n",
       "      <th>model_physique1</th>\n",
       "    </tr>\n",
       "  </thead>\n",
       "  <tbody>\n",
       "    <tr>\n",
       "      <th>200</th>\n",
       "      <td>0.011886</td>\n",
       "      <td>0.019176</td>\n",
       "      <td>0.003232</td>\n",
       "      <td>0.003213</td>\n",
       "    </tr>\n",
       "    <tr>\n",
       "      <th>800</th>\n",
       "      <td>0.018840</td>\n",
       "      <td>0.026865</td>\n",
       "      <td>0.013157</td>\n",
       "      <td>0.013380</td>\n",
       "    </tr>\n",
       "    <tr>\n",
       "      <th>1800</th>\n",
       "      <td>0.033991</td>\n",
       "      <td>0.042097</td>\n",
       "      <td>0.031271</td>\n",
       "      <td>0.031888</td>\n",
       "    </tr>\n",
       "    <tr>\n",
       "      <th>3200</th>\n",
       "      <td>0.059541</td>\n",
       "      <td>0.066319</td>\n",
       "      <td>0.059410</td>\n",
       "      <td>0.060561</td>\n",
       "    </tr>\n",
       "  </tbody>\n",
       "</table>\n",
       "</div>"
      ],
      "text/plain": [
       "      model_contextual_knnReg  model_contextual_knnReg  LinearRegression  \\\n",
       "200                  0.011886                 0.019176          0.003232   \n",
       "800                  0.018840                 0.026865          0.013157   \n",
       "1800                 0.033991                 0.042097          0.031271   \n",
       "3200                 0.059541                 0.066319          0.059410   \n",
       "\n",
       "      model_physique1  \n",
       "200          0.003213  \n",
       "800          0.013380  \n",
       "1800         0.031888  \n",
       "3200         0.060561  "
      ]
     },
     "execution_count": 11,
     "metadata": {},
     "output_type": "execute_result"
    }
   ],
   "source": [
    "nb_freq = 5\n",
    "freq_test = [200*(i**2) for i in range(1,nb_freq)]\n",
    "\n",
    "tabMSE = evaluateur.tabMSEFreq(freq_test,freq_train)\n",
    "tabMSE"
   ]
  },
  {
   "cell_type": "code",
   "execution_count": 12,
   "id": "quantitative-shell",
   "metadata": {
    "scrolled": true
   },
   "outputs": [
    {
     "data": {
      "image/png": "[encoded data removed]",
      "text/plain": [
       "<Figure size 1080x360 with 1 Axes>"
      ]
     },
     "metadata": {
      "needs_background": "light"
     },
     "output_type": "display_data"
    },
    {
     "data": {
      "image/png": "[encoded data removed]",
      "text/plain": [
       "<Figure size 1080x360 with 1 Axes>"
      ]
     },
     "metadata": {
      "needs_background": "light"
     },
     "output_type": "display_data"
    },
    {
     "data": {
      "image/png": "[encoded data removed]",
      "text/plain": [
       "<Figure size 1080x360 with 1 Axes>"
      ]
     },
     "metadata": {
      "needs_background": "light"
     },
     "output_type": "display_data"
    },
    {
     "data": {
      "image/png": "[encoded data removed]",
      "text/plain": [
       "<Figure size 1080x360 with 1 Axes>"
      ]
     },
     "metadata": {
      "needs_background": "light"
     },
     "output_type": "display_data"
    },
    {
     "data": {
      "image/png": "[encoded data removed]",
      "text/plain": [
       "<Figure size 720x360 with 1 Axes>"
      ]
     },
     "metadata": {
      "needs_background": "light"
     },
     "output_type": "display_data"
    },
    {
     "data": {
      "text/html": [
       "<div>\n",
       "<style scoped>\n",
       "    .dataframe tbody tr th:only-of-type {\n",
       "        vertical-align: middle;\n",
       "    }\n",
       "\n",
       "    .dataframe tbody tr th {\n",
       "        vertical-align: top;\n",
       "    }\n",
       "\n",
       "    .dataframe thead th {\n",
       "        text-align: right;\n",
       "    }\n",
       "</style>\n",
       "<table border=\"1\" class=\"dataframe\">\n",
       "  <thead>\n",
       "    <tr style=\"text-align: right;\">\n",
       "      <th></th>\n",
       "      <th>model_contextual_knnReg</th>\n",
       "      <th>model_contextual_knnReg</th>\n",
       "      <th>LinearRegression</th>\n",
       "      <th>model_physique1</th>\n",
       "    </tr>\n",
       "  </thead>\n",
       "  <tbody>\n",
       "    <tr>\n",
       "      <th>12800</th>\n",
       "      <td>0.318475</td>\n",
       "      <td>0.333835</td>\n",
       "      <td>0.325526</td>\n",
       "      <td>0.329482</td>\n",
       "    </tr>\n",
       "    <tr>\n",
       "      <th>16200</th>\n",
       "      <td>0.436466</td>\n",
       "      <td>0.455191</td>\n",
       "      <td>0.442894</td>\n",
       "      <td>0.447757</td>\n",
       "    </tr>\n",
       "  </tbody>\n",
       "</table>\n",
       "</div>"
      ],
      "text/plain": [
       "       model_contextual_knnReg  model_contextual_knnReg  LinearRegression  \\\n",
       "12800                 0.318475                 0.333835          0.325526   \n",
       "16200                 0.436466                 0.455191          0.442894   \n",
       "\n",
       "       model_physique1  \n",
       "12800         0.329482  \n",
       "16200         0.447757  "
      ]
     },
     "execution_count": 12,
     "metadata": {},
     "output_type": "execute_result"
    }
   ],
   "source": [
    "nb_freq = 5\n",
    "freq_test = [12800, 16200]\n",
    "\n",
    "tabMSE = evaluateur.tabMSEFreq(freq_test,freq_train)\n",
    "tabMSE"
   ]
  },
  {
   "cell_type": "code",
   "execution_count": 13,
   "id": "warming-bangkok",
   "metadata": {},
   "outputs": [
    {
     "name": "stdout",
     "output_type": "stream",
     "text": [
      "LinearRegression 0.00012951363716954284\n",
      "model_physique1 0.00023605117611126395\n"
     ]
    }
   ],
   "source": [
    "xtest = evaluateur.l_Xtest\n",
    "ytest = evaluateur.l_Ytest\n",
    "b = 260\n",
    "e = 280\n",
    "\n",
    "\n",
    "for mi in range(2,len(models)):\n",
    "    ypred = models[mi].predict(xtest[mi])[b:e]\n",
    "    print(f\"{type(models[mi]).__name__} {np.sum(np.mean((ypred-ytest[mi].iloc[b:e])**2))}\")"
   ]
  },
  {
   "cell_type": "code",
   "execution_count": 14,
   "id": "middle-baker",
   "metadata": {},
   "outputs": [
    {
     "data": {
      "text/html": [
       "<div>\n",
       "<style scoped>\n",
       "    .dataframe tbody tr th:only-of-type {\n",
       "        vertical-align: middle;\n",
       "    }\n",
       "\n",
       "    .dataframe tbody tr th {\n",
       "        vertical-align: top;\n",
       "    }\n",
       "\n",
       "    .dataframe thead th {\n",
       "        text-align: right;\n",
       "    }\n",
       "</style>\n",
       "<table border=\"1\" class=\"dataframe\">\n",
       "  <thead>\n",
       "    <tr style=\"text-align: right;\">\n",
       "      <th></th>\n",
       "      <th>Latitude</th>\n",
       "      <th>Longitude</th>\n",
       "      <th>GpsHeading</th>\n",
       "      <th>GpsSpeed</th>\n",
       "    </tr>\n",
       "  </thead>\n",
       "  <tbody>\n",
       "    <tr>\n",
       "      <th>861675</th>\n",
       "      <td>-0.342295</td>\n",
       "      <td>2.454760</td>\n",
       "      <td>0.598151</td>\n",
       "      <td>1.305128</td>\n",
       "    </tr>\n",
       "    <tr>\n",
       "      <th>861677</th>\n",
       "      <td>-0.342295</td>\n",
       "      <td>2.417027</td>\n",
       "      <td>0.597138</td>\n",
       "      <td>1.258745</td>\n",
       "    </tr>\n",
       "    <tr>\n",
       "      <th>861679</th>\n",
       "      <td>-0.342295</td>\n",
       "      <td>2.371748</td>\n",
       "      <td>0.604133</td>\n",
       "      <td>1.199109</td>\n",
       "    </tr>\n",
       "    <tr>\n",
       "      <th>861681</th>\n",
       "      <td>-0.344284</td>\n",
       "      <td>2.327307</td>\n",
       "      <td>0.601053</td>\n",
       "      <td>1.112969</td>\n",
       "    </tr>\n",
       "    <tr>\n",
       "      <th>861683</th>\n",
       "      <td>-0.344284</td>\n",
       "      <td>2.288735</td>\n",
       "      <td>0.604627</td>\n",
       "      <td>1.044498</td>\n",
       "    </tr>\n",
       "    <tr>\n",
       "      <th>...</th>\n",
       "      <td>...</td>\n",
       "      <td>...</td>\n",
       "      <td>...</td>\n",
       "      <td>...</td>\n",
       "    </tr>\n",
       "    <tr>\n",
       "      <th>997729</th>\n",
       "      <td>1.988044</td>\n",
       "      <td>1.150045</td>\n",
       "      <td>-1.631742</td>\n",
       "      <td>1.289667</td>\n",
       "    </tr>\n",
       "    <tr>\n",
       "      <th>997731</th>\n",
       "      <td>2.000644</td>\n",
       "      <td>1.188616</td>\n",
       "      <td>-1.631011</td>\n",
       "      <td>1.300711</td>\n",
       "    </tr>\n",
       "    <tr>\n",
       "      <th>997733</th>\n",
       "      <td>2.013244</td>\n",
       "      <td>1.227187</td>\n",
       "      <td>-1.629103</td>\n",
       "      <td>1.302919</td>\n",
       "    </tr>\n",
       "    <tr>\n",
       "      <th>997735</th>\n",
       "      <td>2.025844</td>\n",
       "      <td>1.264920</td>\n",
       "      <td>-1.626524</td>\n",
       "      <td>1.318381</td>\n",
       "    </tr>\n",
       "    <tr>\n",
       "      <th>997737</th>\n",
       "      <td>2.038444</td>\n",
       "      <td>1.303491</td>\n",
       "      <td>-1.624674</td>\n",
       "      <td>1.313963</td>\n",
       "    </tr>\n",
       "  </tbody>\n",
       "</table>\n",
       "<p>13690 rows × 4 columns</p>\n",
       "</div>"
      ],
      "text/plain": [
       "        Latitude  Longitude  GpsHeading  GpsSpeed\n",
       "861675 -0.342295   2.454760    0.598151  1.305128\n",
       "861677 -0.342295   2.417027    0.597138  1.258745\n",
       "861679 -0.342295   2.371748    0.604133  1.199109\n",
       "861681 -0.344284   2.327307    0.601053  1.112969\n",
       "861683 -0.344284   2.288735    0.604627  1.044498\n",
       "...          ...        ...         ...       ...\n",
       "997729  1.988044   1.150045   -1.631742  1.289667\n",
       "997731  2.000644   1.188616   -1.631011  1.300711\n",
       "997733  2.013244   1.227187   -1.629103  1.302919\n",
       "997735  2.025844   1.264920   -1.626524  1.318381\n",
       "997737  2.038444   1.303491   -1.624674  1.313963\n",
       "\n",
       "[13690 rows x 4 columns]"
      ]
     },
     "execution_count": 14,
     "metadata": {},
     "output_type": "execute_result"
    }
   ],
   "source": [
    "evaluateur.l_Xtest[0]"
   ]
  },
  {
   "cell_type": "code",
   "execution_count": 15,
   "id": "removed-xerox",
   "metadata": {
    "scrolled": false
   },
   "outputs": [
    {
     "data": {
      "application/vnd.plotly.v1+json": {
       "config": {
        "linkText": "Export to plot.ly",
        "plotlyServerURL": "https://plot.ly",
        "showLink": false
       },
       "data": [
        {
         "mode": "lines",
         "name": "Xtest",
         "text": [
          "Point n°0",
          "Point n°1",
          "Point n°2",
          "Point n°3",
          "Point n°4",
          "Point n°5",
          "Point n°6",
          "Point n°7",
          "Point n°8",
          "Point n°9",
          "Point n°10",
          "Point n°11",
          "Point n°12",
          "Point n°13",
          "Point n°14",
          "Point n°15",
          "Point n°16",
          "Point n°17",
          "Point n°18",
          "Point n°19",
          "Point n°20",
          "Point n°21",
          "Point n°22",
          "Point n°23",
          "Point n°24",
          "Point n°25",
          "Point n°26",
          "Point n°27",
          "Point n°28",
          "Point n°29",
          "Point n°30",
          "Point n°31",
          "Point n°32",
          "Point n°33",
          "Point n°34",
          "Point n°35",
          "Point n°36",
          "Point n°37",
          "Point n°38",
          "Point n°39",
          "Point n°40",
          "Point n°41",
          "Point n°42",
          "Point n°43",
          "Point n°44",
          "Point n°45",
          "Point n°46",
          "Point n°47",
          "Point n°48",
          "Point n°49",
          "Point n°50",
          "Point n°51",
          "Point n°52",
          "Point n°53",
          "Point n°54",
          "Point n°55",
          "Point n°56",
          "Point n°57",
          "Point n°58",
          "Point n°59",
          "Point n°60",
          "Point n°61",
          "Point n°62",
          "Point n°63",
          "Point n°64",
          "Point n°65",
          "Point n°66",
          "Point n°67",
          "Point n°68",
          "Point n°69",
          "Point n°70",
          "Point n°71",
          "Point n°72",
          "Point n°73",
          "Point n°74",
          "Point n°75",
          "Point n°76",
          "Point n°77",
          "Point n°78",
          "Point n°79",
          "Point n°80",
          "Point n°81",
          "Point n°82",
          "Point n°83",
          "Point n°84",
          "Point n°85",
          "Point n°86",
          "Point n°87",
          "Point n°88",
          "Point n°89",
          "Point n°90",
          "Point n°91",
          "Point n°92",
          "Point n°93",
          "Point n°94",
          "Point n°95",
          "Point n°96",
          "Point n°97",
          "Point n°98",
          "Point n°99"
         ],
         "type": "scatter",
         "x": [
          0.06554743381009567,
          0.07284217653501045,
          0.07814744397174048,
          0.08809482041266425,
          0.09538956313757904,
          0.10600009801103909,
          0.11594747445196288,
          0.12589485089288666,
          0.13849486105453146,
          0.14844223750016727,
          0.16170540608963632,
          0.17430541624656912,
          0.1842527926922049,
          0.19420016913312868,
          0.20414754557405249,
          0.21475808044751252,
          0.2220528231724273,
          0.22735809060915735,
          0.2346528333340721,
          0.23730546705008113,
          0.23995810077080215,
          0.24261073448681114,
          0.24460020977499589,
          0.24460020977499589,
          0.24460020977499589,
          0.24261073448681114,
          0.24261073448681114,
          0.24261073448681114,
          0.23995810077080215,
          0.23995810077080215,
          0.23730546705008113,
          0.23730546705008113,
          0.23730546705008113,
          0.23730546705008113,
          0.2346528333340721,
          0.2346528333340721,
          0.2346528333340721,
          0.2346528333340721,
          0.23200019961335108,
          0.23200019961335108,
          0.23200019961335108,
          0.23200019961335108,
          0.23200019961335108,
          0.23200019961335108,
          0.23001072432516634,
          0.23001072432516634,
          0.23001072432516634,
          0.23001072432516634,
          0.23001072432516634,
          0.23001072432516634,
          0.22735809060915735,
          0.22735809060915735,
          0.22735809060915735,
          0.22735809060915735,
          0.22735809060915735,
          0.22735809060915735,
          0.22735809060915735,
          0.22735809060915735,
          0.22735809060915735,
          0.22470545688843632,
          0.22470545688843632,
          0.22470545688843632,
          0.22470545688843632,
          0.22470545688843632,
          0.22470545688843632,
          0.22470545688843632,
          0.22470545688843632,
          0.22470545688843632,
          0.22470545688843632,
          0.22470545688843632,
          0.22470545688843632,
          0.22470545688843632,
          0.22470545688843632,
          0.22470545688843632,
          0.22470545688843632,
          0.22470545688843632,
          0.22470545688843632,
          0.22470545688843632,
          0.22470545688843632,
          0.22470545688843632,
          0.22470545688843632,
          0.22470545688843632,
          0.22470545688843632,
          0.22470545688843632,
          0.22470545688843632,
          0.22470545688843632,
          0.22470545688843632,
          0.22470545688843632,
          0.22470545688843632,
          0.22470545688843632,
          0.22470545688843632,
          0.22470545688843632,
          0.22470545688843632,
          0.22470545688843632,
          0.22470545688843632,
          0.22470545688843632,
          0.22470545688843632,
          0.22470545688843632,
          0.22470545688843632,
          0.22470545688843632
         ],
         "y": [
          1.4636460334710426,
          1.4636460334710426,
          1.4636460334710426,
          1.4636460334710426,
          1.4636460334710426,
          1.4636460334710426,
          1.4636460334710426,
          1.4569379892377605,
          1.4569379892377605,
          1.4510684505425755,
          1.437652362087927,
          1.4250747791594596,
          1.4124971962429083,
          1.399919613314441,
          1.3806339861646073,
          1.3613483590147737,
          1.335354687631658,
          1.3101995217866393,
          1.2842058504154394,
          1.259050684558505,
          1.233057013187305,
          1.2011938031090041,
          1.1760386372639855,
          1.1433369216595035,
          1.1114737115812026,
          1.0796105015029018,
          1.0477472914365167,
          1.015884081358216,
          0.9840208712799151,
          0.9513191556754329,
          0.9194559455971321,
          0.8875927355307471,
          0.8557295254524463,
          0.8305743596074276,
          0.7978726440029456,
          0.772717478146011,
          0.7467238067748111,
          0.7215686409178766,
          0.6955749695466767,
          0.6704198037016581,
          0.6511341765399086,
          0.6251405051687087,
          0.59998533932369,
          0.5806997121738565,
          0.561414085012107,
          0.5421284578622734,
          0.5228428307124399,
          0.5035572035626062,
          0.48511008193895394,
          0.4658244547891204,
          0.44653882763928676,
          0.4272532004894532,
          0.4146756175609859,
          0.39538999041115236,
          0.37610436326131874,
          0.3635267803447674,
          0.35011069189011884,
          0.3308250647402852,
          0.318247481811818,
          0.312377943116633,
          0.2989618546619844,
          0.29309231596679935,
          0.28638427173351716,
          0.2796762275121508,
          0.2796762275121508,
          0.2738066888169658,
          0.2738066888169658,
          0.2738066888169658,
          0.2738066888169658,
          0.2738066888169658,
          0.2738066888169658,
          0.2738066888169658,
          0.2738066888169658,
          0.2738066888169658,
          0.2738066888169658,
          0.2738066888169658,
          0.2738066888169658,
          0.2738066888169658,
          0.2738066888169658,
          0.2738066888169658,
          0.2738066888169658,
          0.2738066888169658,
          0.2738066888169658,
          0.2738066888169658,
          0.2738066888169658,
          0.26709864458368354,
          0.26709864458368354,
          0.26709864458368354,
          0.26709864458368354,
          0.26709864458368354,
          0.26709864458368354,
          0.26709864458368354,
          0.26709864458368354,
          0.26709864458368354,
          0.26709864458368354,
          0.26709864458368354,
          0.26709864458368354,
          0.26709864458368354,
          0.26709864458368354,
          0.26709864458368354
         ]
        },
        {
         "mode": "lines+markers",
         "name": "Target",
         "text": [
          "Point n°0",
          "Point n°1",
          "Point n°2",
          "Point n°3",
          "Point n°4",
          "Point n°5",
          "Point n°6",
          "Point n°7",
          "Point n°8",
          "Point n°9",
          "Point n°10",
          "Point n°11",
          "Point n°12",
          "Point n°13",
          "Point n°14",
          "Point n°15",
          "Point n°16",
          "Point n°17",
          "Point n°18",
          "Point n°19",
          "Point n°20",
          "Point n°21",
          "Point n°22",
          "Point n°23",
          "Point n°24",
          "Point n°25",
          "Point n°26",
          "Point n°27",
          "Point n°28",
          "Point n°29",
          "Point n°30",
          "Point n°31",
          "Point n°32",
          "Point n°33",
          "Point n°34",
          "Point n°35",
          "Point n°36",
          "Point n°37",
          "Point n°38",
          "Point n°39",
          "Point n°40",
          "Point n°41",
          "Point n°42",
          "Point n°43",
          "Point n°44",
          "Point n°45",
          "Point n°46",
          "Point n°47",
          "Point n°48",
          "Point n°49",
          "Point n°50",
          "Point n°51",
          "Point n°52",
          "Point n°53",
          "Point n°54",
          "Point n°55",
          "Point n°56",
          "Point n°57",
          "Point n°58",
          "Point n°59",
          "Point n°60",
          "Point n°61",
          "Point n°62",
          "Point n°63",
          "Point n°64",
          "Point n°65",
          "Point n°66",
          "Point n°67",
          "Point n°68",
          "Point n°69",
          "Point n°70",
          "Point n°71",
          "Point n°72",
          "Point n°73",
          "Point n°74",
          "Point n°75",
          "Point n°76",
          "Point n°77",
          "Point n°78",
          "Point n°79",
          "Point n°80",
          "Point n°81",
          "Point n°82",
          "Point n°83",
          "Point n°84",
          "Point n°85",
          "Point n°86",
          "Point n°87",
          "Point n°88",
          "Point n°89",
          "Point n°90",
          "Point n°91",
          "Point n°92",
          "Point n°93",
          "Point n°94",
          "Point n°95",
          "Point n°96",
          "Point n°97",
          "Point n°98",
          "Point n°99"
         ],
         "type": "scatter",
         "x": [
          0.07284217653501045,
          0.07814744397174048,
          0.08809482041266425,
          0.09538956313757904,
          0.10600009801103909,
          0.11594747445196288,
          0.12589485089288666,
          0.13849486105453146,
          0.14844223750016727,
          0.16170540608963632,
          0.17430541624656912,
          0.1842527926922049,
          0.19420016913312868,
          0.20414754557405249,
          0.21475808044751252,
          0.2220528231724273,
          0.22735809060915735,
          0.2346528333340721,
          0.23730546705008113,
          0.23995810077080215,
          0.24261073448681114,
          0.24460020977499589,
          0.24460020977499589,
          0.24460020977499589,
          0.24261073448681114,
          0.24261073448681114,
          0.24261073448681114,
          0.23995810077080215,
          0.23995810077080215,
          0.23730546705008113,
          0.23730546705008113,
          0.23730546705008113,
          0.23730546705008113,
          0.2346528333340721,
          0.2346528333340721,
          0.2346528333340721,
          0.2346528333340721,
          0.23200019961335108,
          0.23200019961335108,
          0.23200019961335108,
          0.23200019961335108,
          0.23200019961335108,
          0.23200019961335108,
          0.23001072432516634,
          0.23001072432516634,
          0.23001072432516634,
          0.23001072432516634,
          0.23001072432516634,
          0.23001072432516634,
          0.22735809060915735,
          0.22735809060915735,
          0.22735809060915735,
          0.22735809060915735,
          0.22735809060915735,
          0.22735809060915735,
          0.22735809060915735,
          0.22735809060915735,
          0.22735809060915735,
          0.22470545688843632,
          0.22470545688843632,
          0.22470545688843632,
          0.22470545688843632,
          0.22470545688843632,
          0.22470545688843632,
          0.22470545688843632,
          0.22470545688843632,
          0.22470545688843632,
          0.22470545688843632,
          0.22470545688843632,
          0.22470545688843632,
          0.22470545688843632,
          0.22470545688843632,
          0.22470545688843632,
          0.22470545688843632,
          0.22470545688843632,
          0.22470545688843632,
          0.22470545688843632,
          0.22470545688843632,
          0.22470545688843632,
          0.22470545688843632,
          0.22470545688843632,
          0.22470545688843632,
          0.22470545688843632,
          0.22470545688843632,
          0.22470545688843632,
          0.22470545688843632,
          0.22470545688843632,
          0.22470545688843632,
          0.22470545688843632,
          0.22470545688843632,
          0.22470545688843632,
          0.22470545688843632,
          0.22470545688843632,
          0.22470545688843632,
          0.22470545688843632,
          0.22470545688843632,
          0.22470545688843632,
          0.22470545688843632,
          0.22470545688843632,
          0.22470545688843632
         ],
         "y": [
          1.4636460334710426,
          1.4636460334710426,
          1.4636460334710426,
          1.4636460334710426,
          1.4636460334710426,
          1.4636460334710426,
          1.4569379892377605,
          1.4569379892377605,
          1.4510684505425755,
          1.437652362087927,
          1.4250747791594596,
          1.4124971962429083,
          1.399919613314441,
          1.3806339861646073,
          1.3613483590147737,
          1.335354687631658,
          1.3101995217866393,
          1.2842058504154394,
          1.259050684558505,
          1.233057013187305,
          1.2011938031090041,
          1.1760386372639855,
          1.1433369216595035,
          1.1114737115812026,
          1.0796105015029018,
          1.0477472914365167,
          1.015884081358216,
          0.9840208712799151,
          0.9513191556754329,
          0.9194559455971321,
          0.8875927355307471,
          0.8557295254524463,
          0.8305743596074276,
          0.7978726440029456,
          0.772717478146011,
          0.7467238067748111,
          0.7215686409178766,
          0.6955749695466767,
          0.6704198037016581,
          0.6511341765399086,
          0.6251405051687087,
          0.59998533932369,
          0.5806997121738565,
          0.561414085012107,
          0.5421284578622734,
          0.5228428307124399,
          0.5035572035626062,
          0.48511008193895394,
          0.4658244547891204,
          0.44653882763928676,
          0.4272532004894532,
          0.4146756175609859,
          0.39538999041115236,
          0.37610436326131874,
          0.3635267803447674,
          0.35011069189011884,
          0.3308250647402852,
          0.318247481811818,
          0.312377943116633,
          0.2989618546619844,
          0.29309231596679935,
          0.28638427173351716,
          0.2796762275121508,
          0.2796762275121508,
          0.2738066888169658,
          0.2738066888169658,
          0.2738066888169658,
          0.2738066888169658,
          0.2738066888169658,
          0.2738066888169658,
          0.2738066888169658,
          0.2738066888169658,
          0.2738066888169658,
          0.2738066888169658,
          0.2738066888169658,
          0.2738066888169658,
          0.2738066888169658,
          0.2738066888169658,
          0.2738066888169658,
          0.2738066888169658,
          0.2738066888169658,
          0.2738066888169658,
          0.2738066888169658,
          0.2738066888169658,
          0.26709864458368354,
          0.26709864458368354,
          0.26709864458368354,
          0.26709864458368354,
          0.26709864458368354,
          0.26709864458368354,
          0.26709864458368354,
          0.26709864458368354,
          0.26709864458368354,
          0.26709864458368354,
          0.26709864458368354,
          0.26709864458368354,
          0.26709864458368354,
          0.26709864458368354,
          0.26709864458368354,
          0.26709864458368354
         ]
        },
        {
         "mode": "lines+markers",
         "name": "model_contextual_knnReg",
         "text": [
          "Point n°0<br>MSE = 0.01297270450664944",
          "Point n°1<br>MSE = 0.01388871274034649",
          "Point n°2<br>MSE = 0.015897884983663166",
          "Point n°3<br>MSE = 0.0165590950123854",
          "Point n°4<br>MSE = 0.016855534659306465",
          "Point n°5<br>MSE = 0.01562668234805536",
          "Point n°6<br>MSE = 0.01383611992737392",
          "Point n°7<br>MSE = 0.013195728063182244",
          "Point n°8<br>MSE = 0.014920624637927518",
          "Point n°9<br>MSE = 0.016696967338633604",
          "Point n°10<br>MSE = 0.008363824300672515",
          "Point n°11<br>MSE = 0.0009030122537912976",
          "Point n°12<br>MSE = 6.192180387375462e-06",
          "Point n°13<br>MSE = 5.1028427631410934e-05",
          "Point n°14<br>MSE = 5.808639485773906e-05",
          "Point n°15<br>MSE = 5.088819299522268e-05",
          "Point n°16<br>MSE = 5.758837226906711e-05",
          "Point n°17<br>MSE = 3.690982845881264e-05",
          "Point n°18<br>MSE = 9.635020568905227e-05",
          "Point n°19<br>MSE = 0.00010422291842991752",
          "Point n°20<br>MSE = 0.0001507634749028647",
          "Point n°21<br>MSE = 8.241768952540094e-05",
          "Point n°22<br>MSE = 0.00011358479070688654",
          "Point n°23<br>MSE = 0.00012714977753984006",
          "Point n°24<br>MSE = 0.0002792260494406432",
          "Point n°25<br>MSE = 0.00022180515086716123",
          "Point n°26<br>MSE = 0.00023342511630130097",
          "Point n°27<br>MSE = 0.0006643528283453346",
          "Point n°28<br>MSE = 0.0012900872219049264",
          "Point n°29<br>MSE = 0.00340106701452741",
          "Point n°30<br>MSE = 0.001791880164784215",
          "Point n°31<br>MSE = 0.0002529910730888589",
          "Point n°32<br>MSE = 0.01602172965595183",
          "Point n°33<br>MSE = 0.013220284884246942",
          "Point n°34<br>MSE = 0.014066128443613313",
          "Point n°35<br>MSE = 0.014536145413344184",
          "Point n°36<br>MSE = 0.01746114429722574",
          "Point n°37<br>MSE = 0.01677763297854684",
          "Point n°38<br>MSE = 0.017063243196669502",
          "Point n°39<br>MSE = 0.01807960319823555",
          "Point n°40<br>MSE = 0.021207058308728557",
          "Point n°41<br>MSE = 0.02147479489681853",
          "Point n°42<br>MSE = 0.021391163225702326",
          "Point n°43<br>MSE = 0.023416282616335674",
          "Point n°44<br>MSE = 0.020460560508959457",
          "Point n°45<br>MSE = 0.018161916864230507",
          "Point n°46<br>MSE = 0.017599229937331578",
          "Point n°47<br>MSE = 0.014638885396313346",
          "Point n°48<br>MSE = 0.013925547862918478",
          "Point n°49<br>MSE = 0.010997777066106293",
          "Point n°50<br>MSE = 0.010306099539784752",
          "Point n°51<br>MSE = 0.00879744756239293",
          "Point n°52<br>MSE = 0.006365581869784026",
          "Point n°53<br>MSE = 0.004968574512555131",
          "Point n°54<br>MSE = 0.004523972392982241",
          "Point n°55<br>MSE = 0.003891687854548314",
          "Point n°56<br>MSE = 0.003555545573481101",
          "Point n°57<br>MSE = 0.0038042038813600057",
          "Point n°58<br>MSE = 0.0038775377184946465",
          "Point n°59<br>MSE = 0.003081694052801986",
          "Point n°60<br>MSE = 0.0031155067302935727",
          "Point n°61<br>MSE = 0.0027854295503344597",
          "Point n°62<br>MSE = 0.002343240663772518",
          "Point n°63<br>MSE = 0.001978683490829643",
          "Point n°64<br>MSE = 0.0016556187683505427",
          "Point n°65<br>MSE = 0.0013634961351392143",
          "Point n°66<br>MSE = 0.0013502197851994603",
          "Point n°67<br>MSE = 0.0013081451294329107",
          "Point n°68<br>MSE = 0.0013464860958554248",
          "Point n°69<br>MSE = 0.0013464860958554248",
          "Point n°70<br>MSE = 0.0013471962681003314",
          "Point n°71<br>MSE = 0.0013471962681003314",
          "Point n°72<br>MSE = 0.0013471962681003314",
          "Point n°73<br>MSE = 0.0013480649016377735",
          "Point n°74<br>MSE = 0.0013471962681003314",
          "Point n°75<br>MSE = 0.0013471962681003314",
          "Point n°76<br>MSE = 0.0013471962681003314",
          "Point n°77<br>MSE = 0.0013471962681003314",
          "Point n°78<br>MSE = 0.0013480649016377735",
          "Point n°79<br>MSE = 0.0013471962681003314",
          "Point n°80<br>MSE = 0.0013471962681003314",
          "Point n°81<br>MSE = 0.0013471962681003314",
          "Point n°82<br>MSE = 0.0013471962681003314",
          "Point n°83<br>MSE = 0.0013471962681003314",
          "Point n°84<br>MSE = 0.0010215869489187978",
          "Point n°85<br>MSE = 0.0010208772393978515",
          "Point n°86<br>MSE = 0.0010215868196391657",
          "Point n°87<br>MSE = 0.0010215868196391657",
          "Point n°88<br>MSE = 0.001022455471691723",
          "Point n°89<br>MSE = 0.001022455471691723",
          "Point n°90<br>MSE = 0.0010215868196391657",
          "Point n°91<br>MSE = 0.0010215868196391657",
          "Point n°92<br>MSE = 0.0010215868196391657",
          "Point n°93<br>MSE = 0.0010215868196391657",
          "Point n°94<br>MSE = 0.0010215868196391657",
          "Point n°95<br>MSE = 0.0010215868196391657",
          "Point n°96<br>MSE = 0.001022455471691723",
          "Point n°97<br>MSE = 0.0010215868196391657",
          "Point n°98<br>MSE = 0.0010208772393978515",
          "Point n°99<br>MSE = 0.0010208772393978515"
         ],
         "type": "scatter",
         "x": [
          -0.08109307319088163,
          -0.08124363190141203,
          -0.08343045107598619,
          -0.08030389790790163,
          -0.07195192513727901,
          -0.056554366509116494,
          -0.03654058458690261,
          -0.021260488356422108,
          -0.020832302925246446,
          -0.015069707308845439,
          0.051174125506821676,
          0.14608100733032028,
          0.19675538804239467,
          0.2132332835490298,
          0.22270209240765715,
          0.23086137731902387,
          0.2371647180164521,
          0.24029984156350445,
          0.2436690128783877,
          0.24668231460841444,
          0.24886408606624366,
          0.24965061331453103,
          0.2491954046208148,
          0.24861156051617164,
          0.24798047767962214,
          0.24672399330627934,
          0.24611149184274794,
          0.24617830147707828,
          0.24587949436083134,
          0.24588751914174004,
          0.24377323850439392,
          0.24109660149813,
          0.23760306937616846,
          0.23700042534647056,
          0.23639570569871093,
          0.23551924326147244,
          0.23406192025892997,
          0.23344254981760143,
          0.23312146061439348,
          0.23281366945285636,
          0.232261658282589,
          0.2317987280384142,
          0.23177881675621353,
          0.23153731785337608,
          0.231313320908597,
          0.23126653432224006,
          0.2312283466063254,
          0.23100785127122336,
          0.23095763787442056,
          0.23092734041850563,
          0.2307316982177338,
          0.23072063243363958,
          0.23071250421728903,
          0.23070533027207232,
          0.23070905899748512,
          0.23069561043500553,
          0.22993910226627476,
          0.22929504966679576,
          0.22914884612853398,
          0.22902061180548727,
          0.2279620141072955,
          0.2276721317433517,
          0.22759419464703523,
          0.22690447883337328,
          0.22622051292887602,
          0.22536164614197482,
          0.2250010871908559,
          0.2249999209365439,
          0.2247054100319303,
          0.2247054100319303,
          0.22588436355618025,
          0.22588436355618025,
          0.22588436355618025,
          0.2264739146658977,
          0.22588436355618025,
          0.22588436355618025,
          0.22588436355618025,
          0.22588436355618025,
          0.2264739146658977,
          0.22588436355618025,
          0.22588436355618025,
          0.22588436355618025,
          0.22588436355618025,
          0.22588436355618025,
          0.22588436355618025,
          0.22470540514288492,
          0.22588435921003724,
          0.22588435921003724,
          0.22647391834706113,
          0.22647391834706113,
          0.22588435921003724,
          0.22588435921003724,
          0.22588435921003724,
          0.22588435921003724,
          0.22588435921003724,
          0.22588435921003724,
          0.22647391834706113,
          0.22588435921003724,
          0.22470540514288492,
          0.22470540514288492
         ],
         "y": [
          1.511073324191957,
          1.5123482963824508,
          1.5123784785981969,
          1.5110801748739495,
          1.5088582749110928,
          1.5023303915650992,
          1.4928123415697407,
          1.486428402272315,
          1.4855268202025,
          1.4839610433498795,
          1.4646517148936573,
          1.431177113530434,
          1.4023393689013712,
          1.3762174014305761,
          1.3540637544481169,
          1.3304367856565347,
          1.3058398425057025,
          1.29068126198339,
          1.2713878518131525,
          1.2458331935682287,
          1.2173932643293577,
          1.1878423995090772,
          1.157691494650113,
          1.12690772014382,
          1.1026239314281552,
          1.0684038013938737,
          1.0372053132770676,
          1.0199376467457655,
          1.0017682541982194,
          1.0014832728177046,
          0.9471068369016257,
          0.8335572579595953,
          0.651567737537854,
          0.6352840263809324,
          0.6049998008333699,
          0.5762200233548351,
          0.5346945137194089,
          0.5123996830504303,
          0.4856896514061908,
          0.4609801740490556,
          0.41919379299096743,
          0.39274260916689646,
          0.3738609405640947,
          0.345011139688179,
          0.3398429560089281,
          0.3322588422199323,
          0.31594862894341785,
          0.31400550417880124,
          0.29894066564060184,
          0.2982728012272626,
          0.2837233504537451,
          0.282072493777025,
          0.282607404659124,
          0.2764753262703427,
          0.26846513825488494,
          0.26195040224388016,
          0.24653728670700198,
          0.23104280331158475,
          0.22442720844630587,
          0.2205732869773671,
          0.21422275088832665,
          0.21180506591196036,
          0.21127932318375975,
          0.21680706747207257,
          0.21628328365093435,
          0.22159020017648012,
          0.22184177591293783,
          0.22265785158883133,
          0.22191283376929513,
          0.22191283376929513,
          0.22191253967402857,
          0.22191253967402857,
          0.22191253967402857,
          0.22191254309353295,
          0.22191253967402857,
          0.22191253967402857,
          0.22191253967402857,
          0.22191253967402857,
          0.22191254309353295,
          0.22191253967402857,
          0.22191253967402857,
          0.22191253967402857,
          0.22191253967402857,
          0.22191253967402857,
          0.22191253967402857,
          0.22191286718865552,
          0.22191254242168626,
          0.22191254242168626,
          0.2219125461965379,
          0.2219125461965379,
          0.22191254242168626,
          0.22191254242168626,
          0.22191254242168626,
          0.22191254242168626,
          0.22191254242168626,
          0.22191254242168626,
          0.2219125461965379,
          0.22191254242168626,
          0.22191286718865552,
          0.22191286718865552
         ]
        },
        {
         "mode": "lines+markers",
         "name": "model_contextual_knnReg",
         "text": [
          "Point n°0<br>MSE = 0.7776247461605141",
          "Point n°1<br>MSE = 0.7839857111016282",
          "Point n°2<br>MSE = 0.7959883822578713",
          "Point n°3<br>MSE = 0.8048532295193513",
          "Point n°4<br>MSE = 0.817842545096007",
          "Point n°5<br>MSE = 0.8301222770868575",
          "Point n°6<br>MSE = 0.8401610707915087",
          "Point n°7<br>MSE = 0.8559827836781904",
          "Point n°8<br>MSE = 0.8665752631121247",
          "Point n°9<br>MSE = 0.8790671079664161",
          "Point n°10<br>MSE = 0.8913165929762731",
          "Point n°11<br>MSE = 0.9004105380525185",
          "Point n°12<br>MSE = 0.909761629009292",
          "Point n°13<br>MSE = 0.9092998029265335",
          "Point n°14<br>MSE = 0.9168405292263732",
          "Point n°15<br>MSE = 0.9184767006806617",
          "Point n°16<br>MSE = 0.9143427400253317",
          "Point n°17<br>MSE = 0.9164995660179832",
          "Point n°18<br>MSE = 0.9134175285684061",
          "Point n°19<br>MSE = 0.9107872329813054",
          "Point n°20<br>MSE = 0.907695363352719",
          "Point n°21<br>MSE = 0.8989015026528494",
          "Point n°22<br>MSE = 0.8927181642712001",
          "Point n°23<br>MSE = 0.8877219959224976",
          "Point n°24<br>MSE = 0.8811070347955872",
          "Point n°25<br>MSE = 0.8781413947607917",
          "Point n°26<br>MSE = 0.8668047993923423",
          "Point n°27<br>MSE = 0.8597521615756107",
          "Point n°28<br>MSE = 0.8514399602352704",
          "Point n°29<br>MSE = 0.8450549286256557",
          "Point n°30<br>MSE = 0.843131270224697",
          "Point n°31<br>MSE = 0.7474184735538809",
          "Point n°32<br>MSE = 0.7170027343606501",
          "Point n°33<br>MSE = 0.6785384576579876",
          "Point n°34<br>MSE = 0.649578117899326",
          "Point n°35<br>MSE = 0.620317206531468",
          "Point n°36<br>MSE = 0.5926435242566698",
          "Point n°37<br>MSE = 0.5648493700348995",
          "Point n°38<br>MSE = 0.5384623452563138",
          "Point n°39<br>MSE = 0.5186608271938327",
          "Point n°40<br>MSE = 0.4925603122121493",
          "Point n°41<br>MSE = 0.46794507806619634",
          "Point n°42<br>MSE = 0.44950193283432666",
          "Point n°43<br>MSE = 0.43153824899654625",
          "Point n°44<br>MSE = 0.4138389745940309",
          "Point n°45<br>MSE = 0.3965116356060782",
          "Point n°46<br>MSE = 0.37955623203268785",
          "Point n°47<br>MSE = 0.3636860502200977",
          "Point n°48<br>MSE = 0.3474583463708913",
          "Point n°49<br>MSE = 0.331752102831028",
          "Point n°50<br>MSE = 0.31626826981094625",
          "Point n°51<br>MSE = 0.30637049892114754",
          "Point n°52<br>MSE = 0.29150116789043273",
          "Point n°53<br>MSE = 0.2770037722742803",
          "Point n°54<br>MSE = 0.26774933013510577",
          "Point n°55<br>MSE = 0.25805229187624307",
          "Point n°56<br>MSE = 0.24442813592897336",
          "Point n°57<br>MSE = 0.23574319791319734",
          "Point n°58<br>MSE = 0.23190092625024875",
          "Point n°59<br>MSE = 0.22289010531599104",
          "Point n°60<br>MSE = 0.21900447002716275",
          "Point n°61<br>MSE = 0.2146059294673421",
          "Point n°62<br>MSE = 0.21025238677265057",
          "Point n°63<br>MSE = 0.21025238677265057",
          "Point n°64<br>MSE = 0.20647994921863913",
          "Point n°65<br>MSE = 0.20647994921863913",
          "Point n°66<br>MSE = 0.20647994921863913",
          "Point n°67<br>MSE = 0.20647994921863913",
          "Point n°68<br>MSE = 0.20647994921863913",
          "Point n°69<br>MSE = 0.20647994921863913",
          "Point n°70<br>MSE = 0.20647994921863913",
          "Point n°71<br>MSE = 0.20647994921863913",
          "Point n°72<br>MSE = 0.20647994921863913",
          "Point n°73<br>MSE = 0.20647994921863913",
          "Point n°74<br>MSE = 0.20647994921863913",
          "Point n°75<br>MSE = 0.20647994921863913",
          "Point n°76<br>MSE = 0.20647994921863913",
          "Point n°77<br>MSE = 0.20647994921863913",
          "Point n°78<br>MSE = 0.20647994921863913",
          "Point n°79<br>MSE = 0.20647994921863913",
          "Point n°80<br>MSE = 0.20647994921863913",
          "Point n°81<br>MSE = 0.20647994921863913",
          "Point n°82<br>MSE = 0.20647994921863913",
          "Point n°83<br>MSE = 0.20647994921863919",
          "Point n°84<br>MSE = 0.20221077749880617",
          "Point n°85<br>MSE = 0.20221077749880617",
          "Point n°86<br>MSE = 0.20221077749880617",
          "Point n°87<br>MSE = 0.20221077749880617",
          "Point n°88<br>MSE = 0.20221077749880617",
          "Point n°89<br>MSE = 0.2022107774988061",
          "Point n°90<br>MSE = 0.20221077749880617",
          "Point n°91<br>MSE = 0.20221077749880617",
          "Point n°92<br>MSE = 0.20221077749880617",
          "Point n°93<br>MSE = 0.20221077749880617",
          "Point n°94<br>MSE = 0.20221077749880617",
          "Point n°95<br>MSE = 0.20221077749880617",
          "Point n°96<br>MSE = 0.20221077749880617",
          "Point n°97<br>MSE = 0.20221077749880617",
          "Point n°98<br>MSE = 0.20221077749880617",
          "Point n°99<br>MSE = 0.2022107774988061"
         ],
         "type": "scatter",
         "x": [
          -1.1234956302803334,
          -1.1234956302803334,
          -1.1234956302803334,
          -1.1234956302803334,
          -1.1234956302803334,
          -1.1234956302803334,
          -1.1234956302803334,
          -1.1234956302803334,
          -1.1234956302803334,
          -1.1234956302803334,
          -1.1234956302803334,
          -1.1234956302803334,
          -1.1234956302803334,
          -1.100948243677765,
          -1.100948243677765,
          -1.100948243677765,
          -1.091000867236841,
          -1.091000867236841,
          -1.091000867236841,
          -1.091000867236841,
          -1.091000867236841,
          -1.080390332363381,
          -1.080390332363381,
          -1.080390332363381,
          -1.080390332363381,
          -1.080390332363381,
          -1.0677903222017362,
          -1.0677903222017362,
          -1.0604955794768214,
          -1.0604955794768214,
          -1.0604955794768214,
          0.2850528739759393,
          0.2850528739759393,
          0.2850528739759393,
          0.2850528739759393,
          0.2850528739759393,
          0.2850528739759393,
          0.2850528739759393,
          0.2850528739759393,
          0.2850528739759393,
          0.2850528739759393,
          0.2850528739759393,
          0.2850528739759393,
          0.2850528739759393,
          0.2850528739759393,
          0.2850528739759393,
          0.2850528739759393,
          0.2850528739759393,
          0.2850528739759393,
          0.2850528739759393,
          0.2850528739759393,
          0.2850528739759393,
          0.2850528739759393,
          0.2850528739759393,
          0.2850528739759393,
          0.2850528739759393,
          0.2850528739759393,
          0.2850528739759393,
          0.2850528739759393,
          0.2850528739759393,
          0.2850528739759393,
          0.2850528739759393,
          0.2850528739759393,
          0.2850528739759393,
          0.2850528739759393,
          0.2850528739759393,
          0.2850528739759393,
          0.28505287397593926,
          0.2850528739759393,
          0.2850528739759393,
          0.28505287397593926,
          0.2850528739759393,
          0.28505287397593937,
          0.2850528739759393,
          0.2850528739759393,
          0.28505287397593926,
          0.2850528739759393,
          0.2850528739759393,
          0.2850528739759393,
          0.2850528739759393,
          0.2850528739759393,
          0.2850528739759393,
          0.2850528739759393,
          0.2850528739759393,
          0.2850528739759393,
          0.2850528739759393,
          0.2850528739759393,
          0.28505287397593926,
          0.2850528739759393,
          0.2850528739759393,
          0.2850528739759393,
          0.2850528739759393,
          0.2850528739759393,
          0.2850528739759393,
          0.2850528739759393,
          0.28505287397593926,
          0.2850528739759393,
          0.2850528739759393,
          0.2850528739759393,
          0.2850528739759393
         ],
         "y": [
          1.1114737115812026,
          1.1114737115812026,
          1.1114737115812026,
          1.1114737115812026,
          1.1114737115812026,
          1.1114737115812026,
          1.1114737115812026,
          1.1114737115812026,
          1.1114737115812026,
          1.1114737115812026,
          1.1114737115812026,
          1.1114737115812026,
          1.1114737115812026,
          1.0410392472032346,
          1.0410392472032346,
          1.0410392472032346,
          1.0091760371249336,
          1.0091760371249336,
          1.0091760371249336,
          1.0091760371249336,
          1.0091760371249336,
          0.9706047828252665,
          0.9706047828252665,
          0.9706047828252665,
          0.9706047828252665,
          0.9706047828252666,
          0.8875927355307471,
          0.887592735530747,
          0.8431519425239791,
          0.8431519425239792,
          0.843151942523979,
          -0.3659730292799314,
          -0.3659730292799314,
          -0.3659730292799314,
          -0.3659730292799314,
          -0.3659730292799314,
          -0.3659730292799314,
          -0.3659730292799314,
          -0.3659730292799314,
          -0.3659730292799314,
          -0.36597302927993147,
          -0.3659730292799314,
          -0.36597302927993147,
          -0.3659730292799314,
          -0.36597302927993136,
          -0.36597302927993136,
          -0.3659730292799314,
          -0.36597302927993136,
          -0.36597302927993147,
          -0.3659730292799314,
          -0.36597302927993136,
          -0.3659730292799314,
          -0.3659730292799314,
          -0.3659730292799314,
          -0.3659730292799314,
          -0.3659730292799314,
          -0.36597302927993147,
          -0.36597302927993136,
          -0.3659730292799314,
          -0.3659730292799314,
          -0.3659730292799314,
          -0.3659730292799314,
          -0.3659730292799314,
          -0.3659730292799314,
          -0.3659730292799314,
          -0.3659730292799314,
          -0.3659730292799314,
          -0.3659730292799314,
          -0.3659730292799314,
          -0.3659730292799314,
          -0.3659730292799314,
          -0.3659730292799314,
          -0.3659730292799314,
          -0.3659730292799314,
          -0.3659730292799314,
          -0.3659730292799314,
          -0.3659730292799314,
          -0.3659730292799314,
          -0.3659730292799314,
          -0.3659730292799314,
          -0.3659730292799314,
          -0.3659730292799314,
          -0.3659730292799314,
          -0.36597302927993147,
          -0.3659730292799314,
          -0.3659730292799314,
          -0.3659730292799314,
          -0.3659730292799314,
          -0.3659730292799314,
          -0.36597302927993136,
          -0.3659730292799314,
          -0.3659730292799314,
          -0.3659730292799314,
          -0.3659730292799314,
          -0.3659730292799314,
          -0.3659730292799314,
          -0.3659730292799314,
          -0.3659730292799314,
          -0.3659730292799314,
          -0.36597302927993136
         ]
        },
        {
         "mode": "lines+markers",
         "name": "LinearRegression",
         "text": [
          "Point n°0<br>MSE = 0.00019983667299353276",
          "Point n°1<br>MSE = 0.0002615712498656368",
          "Point n°2<br>MSE = 0.0002635649610038304",
          "Point n°3<br>MSE = 0.0002619770821846089",
          "Point n°4<br>MSE = 0.0002682661924428823",
          "Point n°5<br>MSE = 0.00026567781288388393",
          "Point n°6<br>MSE = 0.0001289053165161366",
          "Point n°7<br>MSE = 0.0002585915417321067",
          "Point n°8<br>MSE = 0.0001263710189843847",
          "Point n°9<br>MSE = 5.0052222586407e-05",
          "Point n°10<br>MSE = 5.010390995812203e-05",
          "Point n°11<br>MSE = 3.441006238639993e-05",
          "Point n°12<br>MSE = 2.9416766160729584e-05",
          "Point n°13<br>MSE = 7.100731795711608e-06",
          "Point n°14<br>MSE = 1.0999432622838152e-05",
          "Point n°15<br>MSE = 3.684665114390756e-05",
          "Point n°16<br>MSE = 3.395589990515634e-05",
          "Point n°17<br>MSE = 4.791455369397739e-05",
          "Point n°18<br>MSE = 4.785326775327684e-05",
          "Point n°19<br>MSE = 6.085831136796078e-05",
          "Point n°20<br>MSE = 0.00014971368416691113",
          "Point n°21<br>MSE = 6.31197422137404e-05",
          "Point n°22<br>MSE = 0.0001878454566234347",
          "Point n°23<br>MSE = 0.00017619374210949178",
          "Point n°24<br>MSE = 0.00018739780656809918",
          "Point n°25<br>MSE = 0.00017922007714271093",
          "Point n°26<br>MSE = 0.0001816487976944574",
          "Point n°27<br>MSE = 0.00019546355526440856",
          "Point n°28<br>MSE = 0.0001968824361745616",
          "Point n°29<br>MSE = 0.00019226531193387077",
          "Point n°30<br>MSE = 0.00017712959421257974",
          "Point n°31<br>MSE = 0.0001775911372832845",
          "Point n°32<br>MSE = 7.586342627408947e-05",
          "Point n°33<br>MSE = 0.00020476934534674942",
          "Point n°34<br>MSE = 7.469889628872436e-05",
          "Point n°35<br>MSE = 8.442692846356908e-05",
          "Point n°36<br>MSE = 7.3763813344174e-05",
          "Point n°37<br>MSE = 9.465925757606574e-05",
          "Point n°38<br>MSE = 7.382616857905455e-05",
          "Point n°39<br>MSE = 2.086795585015833e-05",
          "Point n°40<br>MSE = 8.303924734841842e-05",
          "Point n°41<br>MSE = 7.177267126682021e-05",
          "Point n°42<br>MSE = 1.9878967086366783e-05",
          "Point n°43<br>MSE = 2.5727082956741356e-05",
          "Point n°44<br>MSE = 2.0314676731974212e-05",
          "Point n°45<br>MSE = 1.962494288304287e-05",
          "Point n°46<br>MSE = 1.8399656548280245e-05",
          "Point n°47<br>MSE = 1.4483704083562449e-05",
          "Point n°48<br>MSE = 1.873379435624927e-05",
          "Point n°49<br>MSE = 2.6083566940355116e-05",
          "Point n°50<br>MSE = 1.890554911682197e-05",
          "Point n°51<br>MSE = 1.1374286829715845e-06",
          "Point n°52<br>MSE = 1.8283747148362796e-05",
          "Point n°53<br>MSE = 1.7837307372143453e-05",
          "Point n°54<br>MSE = 1.0983336602213647e-06",
          "Point n°55<br>MSE = 5.301375489748388e-07",
          "Point n°56<br>MSE = 2.0436683706920444e-05",
          "Point n°57<br>MSE = 6.164338918956099e-07",
          "Point n°58<br>MSE = 3.487703497021259e-05",
          "Point n°59<br>MSE = 3.223208202076823e-07",
          "Point n°60<br>MSE = 2.7954689002898505e-05",
          "Point n°61<br>MSE = 2.2401976953381367e-05",
          "Point n°62<br>MSE = 2.272086765414789e-05",
          "Point n°63<br>MSE = 9.076897905052112e-05",
          "Point n°64<br>MSE = 2.987838305388561e-05",
          "Point n°65<br>MSE = 9.069271093916467e-05",
          "Point n°66<br>MSE = 9.427925192179611e-05",
          "Point n°67<br>MSE = 9.427946090709427e-05",
          "Point n°68<br>MSE = 9.427966989265198e-05",
          "Point n°69<br>MSE = 9.427987887846847e-05",
          "Point n°70<br>MSE = 9.428008786454303e-05",
          "Point n°71<br>MSE = 9.428029685087713e-05",
          "Point n°72<br>MSE = 9.428050583746928e-05",
          "Point n°73<br>MSE = 9.4280714824321e-05",
          "Point n°74<br>MSE = 9.428092381143075e-05",
          "Point n°75<br>MSE = 9.428113279880009e-05",
          "Point n°76<br>MSE = 9.42813417864282e-05",
          "Point n°77<br>MSE = 9.428155077431435e-05",
          "Point n°78<br>MSE = 9.428175976246009e-05",
          "Point n°79<br>MSE = 9.428196875086384e-05",
          "Point n°80<br>MSE = 9.428217773952719e-05",
          "Point n°81<br>MSE = 9.428238672844853e-05",
          "Point n°82<br>MSE = 9.428259571762948e-05",
          "Point n°83<br>MSE = 9.428280470706923e-05",
          "Point n°84<br>MSE = 2.4771159054623974e-05",
          "Point n°85<br>MSE = 9.426719255508564e-05",
          "Point n°86<br>MSE = 9.426740136857e-05",
          "Point n°87<br>MSE = 9.426761018231392e-05",
          "Point n°88<br>MSE = 9.42678189963159e-05",
          "Point n°89<br>MSE = 9.426802781057742e-05",
          "Point n°90<br>MSE = 9.426823662509778e-05",
          "Point n°91<br>MSE = 9.426844543987613e-05",
          "Point n°92<br>MSE = 9.426865425491408e-05",
          "Point n°93<br>MSE = 9.426886307021005e-05",
          "Point n°94<br>MSE = 9.426907188576561e-05",
          "Point n°95<br>MSE = 9.42692807015792e-05",
          "Point n°96<br>MSE = 9.426948951765234e-05",
          "Point n°97<br>MSE = 9.42696983339843e-05",
          "Point n°98<br>MSE = 9.426990715057426e-05",
          "Point n°99<br>MSE = 9.427011596742383e-05"
         ],
         "type": "scatter",
         "x": [
          0.06952632716175744,
          0.07997282562945268,
          0.08526284552257432,
          0.09519162569782465,
          0.10246719929557765,
          0.11304772784461388,
          0.1229404917917249,
          0.13279559932298915,
          0.14532048808693207,
          0.15518071994137758,
          0.1683178242094355,
          0.18079123044616285,
          0.19059786260765568,
          0.2004171247283868,
          0.21020607688431545,
          0.22065382577812115,
          0.22776652040386253,
          0.23290162652200222,
          0.240013702186912,
          0.24250826092138922,
          0.24499596440677646,
          0.24746463546120298,
          0.2493054485119439,
          0.2491383781814323,
          0.24898907105386675,
          0.2468473668530432,
          0.24669040132108142,
          0.24654403699570573,
          0.24375420730772868,
          0.24361109936605577,
          0.24082681108674978,
          0.24067832438270662,
          0.2405297078452045,
          0.24041829489642866,
          0.237624019026682,
          0.23751127948074868,
          0.23739370160322362,
          0.23727688873293504,
          0.23451187974000073,
          0.23439931083231078,
          0.2343139498807899,
          0.23420063981276137,
          0.23408325293756174,
          0.23399473438469365,
          0.23191423360715496,
          0.23183339474434986,
          0.23175972065409015,
          0.23166082434935367,
          0.23158049338836847,
          0.23149255458139834,
          0.22875454277473614,
          0.22866900341274007,
          0.2286154621147768,
          0.22853234101035022,
          0.22845560399992063,
          0.22838771284285037,
          0.2282919759031833,
          0.22822740490105042,
          0.22818480043349512,
          0.22550826377414315,
          0.22544041875938203,
          0.22541774738803533,
          0.2253910847817145,
          0.2253638887103009,
          0.22537235677432962,
          0.22533694053200864,
          0.2253565690578612,
          0.22535657498683764,
          0.2253565809158141,
          0.2253565868447905,
          0.22535659277376696,
          0.22535659870274338,
          0.22535660463171983,
          0.22535661056069628,
          0.2253566164896727,
          0.22535662241864915,
          0.22535662834762557,
          0.22535663427660202,
          0.22535664020557847,
          0.2253566461345549,
          0.22535665206353134,
          0.22535665799250776,
          0.2253566639214842,
          0.22535666985046066,
          0.22535667577943708,
          0.2253262639023411,
          0.2253262698313175,
          0.22532627576029396,
          0.22532628168927038,
          0.22532628761824683,
          0.22532629354722328,
          0.2253262994761997,
          0.22532630540517615,
          0.22532631133415257,
          0.22532631726312902,
          0.22532632319210547,
          0.2253263291210819,
          0.22532633505005834,
          0.22532634097903476,
          0.2253263469080112
         ],
         "y": [
          1.4833609640801257,
          1.440846680814992,
          1.4408620513733152,
          1.440756844207568,
          1.4407538729886404,
          1.4407779969269723,
          1.4411556448195932,
          1.4349220518473247,
          1.4354800985267357,
          1.430067316548213,
          1.4170525250178172,
          1.404958117281286,
          1.393147839542526,
          1.3811682369537,
          1.362478902603636,
          1.3438244047803318,
          1.3184302559527457,
          1.2938371733821619,
          1.2684513227256822,
          1.2437907593153947,
          1.2183325908888538,
          1.1869030079275664,
          1.1621398906185587,
          1.129688884150624,
          1.097889244232465,
          1.0661996923772836,
          1.0345027256136463,
          1.0026636327322944,
          0.9707961792547539,
          0.9380239186950089,
          0.9060821737212541,
          0.8742715347281511,
          0.8424626363472769,
          0.8172710497020356,
          0.7845736937377367,
          0.7593998922334094,
          0.7334014456496174,
          0.7082822535636253,
          0.6823086135705854,
          0.6571325244007264,
          0.6378182437050867,
          0.6117625803190361,
          0.5866510836982388,
          0.5673791357041856,
          0.5482117140526152,
          0.5288368075483243,
          0.5093658458254738,
          0.4902330281691326,
          0.47174082308400467,
          0.45246110267029904,
          0.43324160758841485,
          0.41392971878276863,
          0.40130493007217866,
          0.38196062066170555,
          0.36253072227540695,
          0.3500983163564059,
          0.3371497169577153,
          0.31755671380032524,
          0.30478529941131643,
          0.29897380224236975,
          0.2856512670451719,
          0.27972870292604896,
          0.27297013701915457,
          0.2662187230764466,
          0.2661052596866052,
          0.2603535609172456,
          0.26009047371270255,
          0.2600904587577942,
          0.26009044380288576,
          0.26009042884797734,
          0.260090413893069,
          0.26009039893816055,
          0.2600903839832522,
          0.26009036902834376,
          0.2600903540734354,
          0.26009033911852697,
          0.26009032416361855,
          0.2600903092087102,
          0.26009029425380176,
          0.2600902792988934,
          0.26009026434398497,
          0.2600902493890766,
          0.2600902344341682,
          0.26009021947925975,
          0.2600902045243514,
          0.25338190358001733,
          0.25338188862510896,
          0.25338187367020054,
          0.2533818587152922,
          0.25338184376038375,
          0.25338182880547533,
          0.25338181385056696,
          0.25338179889565854,
          0.25338178394075017,
          0.25338176898584175,
          0.2533817540309334,
          0.25338173907602496,
          0.25338172412111654,
          0.25338170916620817,
          0.25338169421129975
         ]
        },
        {
         "mode": "lines+markers",
         "name": "model_physique1",
         "text": [
          "Point n°0<br>MSE = 2.660663571134851e-05",
          "Point n°1<br>MSE = 1.4072931287614008e-05",
          "Point n°2<br>MSE = 4.94751490287227e-05",
          "Point n°3<br>MSE = 2.6606635711348612e-05",
          "Point n°4<br>MSE = 5.629172515045589e-05",
          "Point n°5<br>MSE = 4.947514902872284e-05",
          "Point n°6<br>MSE = 7.197407774655721e-05",
          "Point n°7<br>MSE = 7.938012803677616e-05",
          "Point n°8<br>MSE = 6.670089132273228e-05",
          "Point n°9<br>MSE = 0.0001779515352278168",
          "Point n°10<br>MSE = 0.00015847792413864128",
          "Point n°11<br>MSE = 0.0001285729450869565",
          "Point n°12<br>MSE = 0.00012857294518995918",
          "Point n°13<br>MSE = 0.00023544285630992275",
          "Point n°14<br>MSE = 0.00024225943243165552",
          "Point n°15<br>MSE = 0.0003644421116980527",
          "Point n°16<br>MSE = 0.0003304641156328104",
          "Point n°17<br>MSE = 0.00036444211138831706",
          "Point n°18<br>MSE = 0.0003199094174605942",
          "Point n°19<br>MSE = 0.0003413537085051218",
          "Point n°20<br>MSE = 0.0005111503110626235",
          "Point n°21<br>MSE = 0.0003183701903063452",
          "Point n°22<br>MSE = 0.0005347011017382103",
          "Point n°23<br>MSE = 0.0005076320782469697",
          "Point n°24<br>MSE = 0.0005096110842081115",
          "Point n°25<br>MSE = 0.0005076320778672939",
          "Point n°26<br>MSE = 0.0005076320782469626",
          "Point n°27<br>MSE = 0.0005111503110626199",
          "Point n°28<br>MSE = 0.0005347011017382175",
          "Point n°29<br>MSE = 0.0005111503110751193",
          "Point n°30<br>MSE = 0.0005076320778672869",
          "Point n°31<br>MSE = 0.0005076320782469661",
          "Point n°32<br>MSE = 0.0003163911843451963",
          "Point n°33<br>MSE = 0.0005382193345538678",
          "Point n°34<br>MSE = 0.00031639118464494307",
          "Point n°35<br>MSE = 0.00033783547567696866",
          "Point n°36<br>MSE = 0.0003163911846449403",
          "Point n°37<br>MSE = 0.0003413537085051218",
          "Point n°38<br>MSE = 0.0003163911843451963",
          "Point n°39<br>MSE = 0.0001859677075110056",
          "Point n°40<br>MSE = 0.00033783547567696866",
          "Point n°41<br>MSE = 0.0003163911843451963",
          "Point n°42<br>MSE = 0.00018596770728119763",
          "Point n°43<br>MSE = 0.0001879467134721545",
          "Point n°44<br>MSE = 0.00018596770728119977",
          "Point n°45<br>MSE = 0.00018596770728119763",
          "Point n°46<br>MSE = 0.00018596770728119977",
          "Point n°47<br>MSE = 0.00017014814809891026",
          "Point n°48<br>MSE = 0.00018596770728119869",
          "Point n°49<br>MSE = 0.00018948594009685361",
          "Point n°50<br>MSE = 0.00018596770728119869",
          "Point n°51<br>MSE = 7.909779616123577e-05",
          "Point n°52<br>MSE = 0.00018596770728119869",
          "Point n°53<br>MSE = 0.00018596770728119977",
          "Point n°54<br>MSE = 7.90977960113624e-05",
          "Point n°55<br>MSE = 8.999571471147684e-05",
          "Point n°56<br>MSE = 0.00018596770728119977",
          "Point n°57<br>MSE = 7.909779616123508e-05",
          "Point n°58<br>MSE = 2.0743975075290317e-05",
          "Point n°59<br>MSE = 8.999571471147759e-05",
          "Point n°60<br>MSE = 1.7225742247137182e-05",
          "Point n°61<br>MSE = 2.2498928717835258e-05",
          "Point n°62<br>MSE = 2.249892863790316e-05",
          "Point n°63<br>MSE = 0.0",
          "Point n°64<br>MSE = 1.7225742247137182e-05",
          "Point n°65<br>MSE = 0.0",
          "Point n°66<br>MSE = 0.0",
          "Point n°67<br>MSE = 0.0",
          "Point n°68<br>MSE = 0.0",
          "Point n°69<br>MSE = 0.0",
          "Point n°70<br>MSE = 0.0",
          "Point n°71<br>MSE = 0.0",
          "Point n°72<br>MSE = 0.0",
          "Point n°73<br>MSE = 0.0",
          "Point n°74<br>MSE = 0.0",
          "Point n°75<br>MSE = 0.0",
          "Point n°76<br>MSE = 0.0",
          "Point n°77<br>MSE = 0.0",
          "Point n°78<br>MSE = 0.0",
          "Point n°79<br>MSE = 0.0",
          "Point n°80<br>MSE = 0.0",
          "Point n°81<br>MSE = 0.0",
          "Point n°82<br>MSE = 0.0",
          "Point n°83<br>MSE = 0.0",
          "Point n°84<br>MSE = 2.249892871783563e-05",
          "Point n°85<br>MSE = 0.0",
          "Point n°86<br>MSE = 0.0",
          "Point n°87<br>MSE = 0.0",
          "Point n°88<br>MSE = 0.0",
          "Point n°89<br>MSE = 0.0",
          "Point n°90<br>MSE = 0.0",
          "Point n°91<br>MSE = 0.0",
          "Point n°92<br>MSE = 0.0",
          "Point n°93<br>MSE = 0.0",
          "Point n°94<br>MSE = 0.0",
          "Point n°95<br>MSE = 0.0",
          "Point n°96<br>MSE = 0.0",
          "Point n°97<br>MSE = 0.0",
          "Point n°98<br>MSE = 0.0",
          "Point n°99<br>MSE = 0.0"
         ],
         "type": "scatter",
         "x": [
          0.06554743381009567,
          0.07284217653501045,
          0.07814744397174048,
          0.08809482041266425,
          0.09538956313757904,
          0.10600009801103909,
          0.11594747445196288,
          0.12589485089288666,
          0.13849486105453146,
          0.14844223750016727,
          0.16170540608963632,
          0.17430541624656912,
          0.1842527926922049,
          0.19420016913312868,
          0.20414754557405249,
          0.21475808044751252,
          0.2220528231724273,
          0.22735809060915735,
          0.2346528333340721,
          0.23730546705008113,
          0.23995810077080215,
          0.24261073448681114,
          0.24460020977499589,
          0.24460020977499589,
          0.24460020977499589,
          0.24261073448681114,
          0.24261073448681114,
          0.24261073448681114,
          0.23995810077080215,
          0.23995810077080215,
          0.23730546705008113,
          0.23730546705008113,
          0.23730546705008113,
          0.23730546705008113,
          0.2346528333340721,
          0.2346528333340721,
          0.2346528333340721,
          0.2346528333340721,
          0.23200019961335108,
          0.23200019961335108,
          0.23200019961335108,
          0.23200019961335108,
          0.23200019961335108,
          0.23200019961335108,
          0.23001072432516634,
          0.23001072432516634,
          0.23001072432516634,
          0.23001072432516634,
          0.23001072432516634,
          0.23001072432516634,
          0.22735809060915735,
          0.22735809060915735,
          0.22735809060915735,
          0.22735809060915735,
          0.22735809060915735,
          0.22735809060915735,
          0.22735809060915735,
          0.22735809060915735,
          0.22735809060915735,
          0.22470545688843632,
          0.22470545688843632,
          0.22470545688843632,
          0.22470545688843632,
          0.22470545688843632,
          0.22470545688843632,
          0.22470545688843632,
          0.22470545688843632,
          0.22470545688843632,
          0.22470545688843632,
          0.22470545688843632,
          0.22470545688843632,
          0.22470545688843632,
          0.22470545688843632,
          0.22470545688843632,
          0.22470545688843632,
          0.22470545688843632,
          0.22470545688843632,
          0.22470545688843632,
          0.22470545688843632,
          0.22470545688843632,
          0.22470545688843632,
          0.22470545688843632,
          0.22470545688843632,
          0.22470545688843632,
          0.22470545688843632,
          0.22470545688843632,
          0.22470545688843632,
          0.22470545688843632,
          0.22470545688843632,
          0.22470545688843632,
          0.22470545688843632,
          0.22470545688843632,
          0.22470545688843632,
          0.22470545688843632,
          0.22470545688843632,
          0.22470545688843632,
          0.22470545688843632,
          0.22470545688843632,
          0.22470545688843632,
          0.22470545688843632
         ],
         "y": [
          1.4636460334710426,
          1.4636460334710426,
          1.4636460334710426,
          1.4636460334710426,
          1.4636460334710426,
          1.4636460334710426,
          1.4636460334710426,
          1.4569379892377605,
          1.4569379892377605,
          1.4510684505425755,
          1.437652362087927,
          1.4250747791594596,
          1.4124971962429083,
          1.399919613314441,
          1.3806339861646073,
          1.3613483590147737,
          1.335354687631658,
          1.3101995217866393,
          1.2842058504154394,
          1.259050684558505,
          1.233057013187305,
          1.2011938031090041,
          1.1760386372639855,
          1.1433369216595035,
          1.1114737115812026,
          1.0796105015029018,
          1.0477472914365167,
          1.015884081358216,
          0.9840208712799151,
          0.9513191556754329,
          0.9194559455971321,
          0.8875927355307471,
          0.8557295254524463,
          0.8305743596074276,
          0.7978726440029456,
          0.772717478146011,
          0.7467238067748111,
          0.7215686409178766,
          0.6955749695466767,
          0.6704198037016581,
          0.6511341765399086,
          0.6251405051687087,
          0.59998533932369,
          0.5806997121738565,
          0.561414085012107,
          0.5421284578622734,
          0.5228428307124399,
          0.5035572035626062,
          0.48511008193895394,
          0.4658244547891204,
          0.44653882763928676,
          0.4272532004894532,
          0.4146756175609859,
          0.39538999041115236,
          0.37610436326131874,
          0.3635267803447674,
          0.35011069189011884,
          0.3308250647402852,
          0.318247481811818,
          0.312377943116633,
          0.2989618546619844,
          0.29309231596679935,
          0.28638427173351716,
          0.2796762275121508,
          0.2796762275121508,
          0.2738066888169658,
          0.2738066888169658,
          0.2738066888169658,
          0.2738066888169658,
          0.2738066888169658,
          0.2738066888169658,
          0.2738066888169658,
          0.2738066888169658,
          0.2738066888169658,
          0.2738066888169658,
          0.2738066888169658,
          0.2738066888169658,
          0.2738066888169658,
          0.2738066888169658,
          0.2738066888169658,
          0.2738066888169658,
          0.2738066888169658,
          0.2738066888169658,
          0.2738066888169658,
          0.2738066888169658,
          0.26709864458368354,
          0.26709864458368354,
          0.26709864458368354,
          0.26709864458368354,
          0.26709864458368354,
          0.26709864458368354,
          0.26709864458368354,
          0.26709864458368354,
          0.26709864458368354,
          0.26709864458368354,
          0.26709864458368354,
          0.26709864458368354,
          0.26709864458368354,
          0.26709864458368354,
          0.26709864458368354
         ]
        }
       ],
       "layout": {
        "template": {
         "data": {
          "bar": [
           {
            "error_x": {
             "color": "#2a3f5f"
            },
            "error_y": {
             "color": "#2a3f5f"
            },
            "marker": {
             "line": {
              "color": "#E5ECF6",
              "width": 0.5
             }
            },
            "type": "bar"
           }
          ],
          "barpolar": [
           {
            "marker": {
             "line": {
              "color": "#E5ECF6",
              "width": 0.5
             }
            },
            "type": "barpolar"
           }
          ],
          "carpet": [
           {
            "aaxis": {
             "endlinecolor": "#2a3f5f",
             "gridcolor": "white",
             "linecolor": "white",
             "minorgridcolor": "white",
             "startlinecolor": "#2a3f5f"
            },
            "baxis": {
             "endlinecolor": "#2a3f5f",
             "gridcolor": "white",
             "linecolor": "white",
             "minorgridcolor": "white",
             "startlinecolor": "#2a3f5f"
            },
            "type": "carpet"
           }
          ],
          "choropleth": [
           {
            "colorbar": {
             "outlinewidth": 0,
             "ticks": ""
            },
            "type": "choropleth"
           }
          ],
          "contour": [
           {
            "colorbar": {
             "outlinewidth": 0,
             "ticks": ""
            },
            "colorscale": [
             [
              0,
              "#0d0887"
             ],
             [
              0.1111111111111111,
              "#46039f"
             ],
             [
              0.2222222222222222,
              "#7201a8"
             ],
             [
              0.3333333333333333,
              "#9c179e"
             ],
             [
              0.4444444444444444,
              "#bd3786"
             ],
             [
              0.5555555555555556,
              "#d8576b"
             ],
             [
              0.6666666666666666,
              "#ed7953"
             ],
             [
              0.7777777777777778,
              "#fb9f3a"
             ],
             [
              0.8888888888888888,
              "#fdca26"
             ],
             [
              1,
              "#f0f921"
             ]
            ],
            "type": "contour"
           }
          ],
          "contourcarpet": [
           {
            "colorbar": {
             "outlinewidth": 0,
             "ticks": ""
            },
            "type": "contourcarpet"
           }
          ],
          "heatmap": [
           {
            "colorbar": {
             "outlinewidth": 0,
             "ticks": ""
            },
            "colorscale": [
             [
              0,
              "#0d0887"
             ],
             [
              0.1111111111111111,
              "#46039f"
             ],
             [
              0.2222222222222222,
              "#7201a8"
             ],
             [
              0.3333333333333333,
              "#9c179e"
             ],
             [
              0.4444444444444444,
              "#bd3786"
             ],
             [
              0.5555555555555556,
              "#d8576b"
             ],
             [
              0.6666666666666666,
              "#ed7953"
             ],
             [
              0.7777777777777778,
              "#fb9f3a"
             ],
             [
              0.8888888888888888,
              "#fdca26"
             ],
             [
              1,
              "#f0f921"
             ]
            ],
            "type": "heatmap"
           }
          ],
          "heatmapgl": [
           {
            "colorbar": {
             "outlinewidth": 0,
             "ticks": ""
            },
            "colorscale": [
             [
              0,
              "#0d0887"
             ],
             [
              0.1111111111111111,
              "#46039f"
             ],
             [
              0.2222222222222222,
              "#7201a8"
             ],
             [
              0.3333333333333333,
              "#9c179e"
             ],
             [
              0.4444444444444444,
              "#bd3786"
             ],
             [
              0.5555555555555556,
              "#d8576b"
             ],
             [
              0.6666666666666666,
              "#ed7953"
             ],
             [
              0.7777777777777778,
              "#fb9f3a"
             ],
             [
              0.8888888888888888,
              "#fdca26"
             ],
             [
              1,
              "#f0f921"
             ]
            ],
            "type": "heatmapgl"
           }
          ],
          "histogram": [
           {
            "marker": {
             "colorbar": {
              "outlinewidth": 0,
              "ticks": ""
             }
            },
            "type": "histogram"
           }
          ],
          "histogram2d": [
           {
            "colorbar": {
             "outlinewidth": 0,
             "ticks": ""
            },
            "colorscale": [
             [
              0,
              "#0d0887"
             ],
             [
              0.1111111111111111,
              "#46039f"
             ],
             [
              0.2222222222222222,
              "#7201a8"
             ],
             [
              0.3333333333333333,
              "#9c179e"
             ],
             [
              0.4444444444444444,
              "#bd3786"
             ],
             [
              0.5555555555555556,
              "#d8576b"
             ],
             [
              0.6666666666666666,
              "#ed7953"
             ],
             [
              0.7777777777777778,
              "#fb9f3a"
             ],
             [
              0.8888888888888888,
              "#fdca26"
             ],
             [
              1,
              "#f0f921"
             ]
            ],
            "type": "histogram2d"
           }
          ],
          "histogram2dcontour": [
           {
            "colorbar": {
             "outlinewidth": 0,
             "ticks": ""
            },
            "colorscale": [
             [
              0,
              "#0d0887"
             ],
             [
              0.1111111111111111,
              "#46039f"
             ],
             [
              0.2222222222222222,
              "#7201a8"
             ],
             [
              0.3333333333333333,
              "#9c179e"
             ],
             [
              0.4444444444444444,
              "#bd3786"
             ],
             [
              0.5555555555555556,
              "#d8576b"
             ],
             [
              0.6666666666666666,
              "#ed7953"
             ],
             [
              0.7777777777777778,
              "#fb9f3a"
             ],
             [
              0.8888888888888888,
              "#fdca26"
             ],
             [
              1,
              "#f0f921"
             ]
            ],
            "type": "histogram2dcontour"
           }
          ],
          "mesh3d": [
           {
            "colorbar": {
             "outlinewidth": 0,
             "ticks": ""
            },
            "type": "mesh3d"
           }
          ],
          "parcoords": [
           {
            "line": {
             "colorbar": {
              "outlinewidth": 0,
              "ticks": ""
             }
            },
            "type": "parcoords"
           }
          ],
          "pie": [
           {
            "automargin": true,
            "type": "pie"
           }
          ],
          "scatter": [
           {
            "marker": {
             "colorbar": {
              "outlinewidth": 0,
              "ticks": ""
             }
            },
            "type": "scatter"
           }
          ],
          "scatter3d": [
           {
            "line": {
             "colorbar": {
              "outlinewidth": 0,
              "ticks": ""
             }
            },
            "marker": {
             "colorbar": {
              "outlinewidth": 0,
              "ticks": ""
             }
            },
            "type": "scatter3d"
           }
          ],
          "scattercarpet": [
           {
            "marker": {
             "colorbar": {
              "outlinewidth": 0,
              "ticks": ""
             }
            },
            "type": "scattercarpet"
           }
          ],
          "scattergeo": [
           {
            "marker": {
             "colorbar": {
              "outlinewidth": 0,
              "ticks": ""
             }
            },
            "type": "scattergeo"
           }
          ],
          "scattergl": [
           {
            "marker": {
             "colorbar": {
              "outlinewidth": 0,
              "ticks": ""
             }
            },
            "type": "scattergl"
           }
          ],
          "scattermapbox": [
           {
            "marker": {
             "colorbar": {
              "outlinewidth": 0,
              "ticks": ""
             }
            },
            "type": "scattermapbox"
           }
          ],
          "scatterpolar": [
           {
            "marker": {
             "colorbar": {
              "outlinewidth": 0,
              "ticks": ""
             }
            },
            "type": "scatterpolar"
           }
          ],
          "scatterpolargl": [
           {
            "marker": {
             "colorbar": {
              "outlinewidth": 0,
              "ticks": ""
             }
            },
            "type": "scatterpolargl"
           }
          ],
          "scatterternary": [
           {
            "marker": {
             "colorbar": {
              "outlinewidth": 0,
              "ticks": ""
             }
            },
            "type": "scatterternary"
           }
          ],
          "surface": [
           {
            "colorbar": {
             "outlinewidth": 0,
             "ticks": ""
            },
            "colorscale": [
             [
              0,
              "#0d0887"
             ],
             [
              0.1111111111111111,
              "#46039f"
             ],
             [
              0.2222222222222222,
              "#7201a8"
             ],
             [
              0.3333333333333333,
              "#9c179e"
             ],
             [
              0.4444444444444444,
              "#bd3786"
             ],
             [
              0.5555555555555556,
              "#d8576b"
             ],
             [
              0.6666666666666666,
              "#ed7953"
             ],
             [
              0.7777777777777778,
              "#fb9f3a"
             ],
             [
              0.8888888888888888,
              "#fdca26"
             ],
             [
              1,
              "#f0f921"
             ]
            ],
            "type": "surface"
           }
          ],
          "table": [
           {
            "cells": {
             "fill": {
              "color": "#EBF0F8"
             },
             "line": {
              "color": "white"
             }
            },
            "header": {
             "fill": {
              "color": "#C8D4E3"
             },
             "line": {
              "color": "white"
             }
            },
            "type": "table"
           }
          ]
         },
         "layout": {
          "annotationdefaults": {
           "arrowcolor": "#2a3f5f",
           "arrowhead": 0,
           "arrowwidth": 1
          },
          "autotypenumbers": "strict",
          "coloraxis": {
           "colorbar": {
            "outlinewidth": 0,
            "ticks": ""
           }
          },
          "colorscale": {
           "diverging": [
            [
             0,
             "#8e0152"
            ],
            [
             0.1,
             "#c51b7d"
            ],
            [
             0.2,
             "#de77ae"
            ],
            [
             0.3,
             "#f1b6da"
            ],
            [
             0.4,
             "#fde0ef"
            ],
            [
             0.5,
             "#f7f7f7"
            ],
            [
             0.6,
             "#e6f5d0"
            ],
            [
             0.7,
             "#b8e186"
            ],
            [
             0.8,
             "#7fbc41"
            ],
            [
             0.9,
             "#4d9221"
            ],
            [
             1,
             "#276419"
            ]
           ],
           "sequential": [
            [
             0,
             "#0d0887"
            ],
            [
             0.1111111111111111,
             "#46039f"
            ],
            [
             0.2222222222222222,
             "#7201a8"
            ],
            [
             0.3333333333333333,
             "#9c179e"
            ],
            [
             0.4444444444444444,
             "#bd3786"
            ],
            [
             0.5555555555555556,
             "#d8576b"
            ],
            [
             0.6666666666666666,
             "#ed7953"
            ],
            [
             0.7777777777777778,
             "#fb9f3a"
            ],
            [
             0.8888888888888888,
             "#fdca26"
            ],
            [
             1,
             "#f0f921"
            ]
           ],
           "sequentialminus": [
            [
             0,
             "#0d0887"
            ],
            [
             0.1111111111111111,
             "#46039f"
            ],
            [
             0.2222222222222222,
             "#7201a8"
            ],
            [
             0.3333333333333333,
             "#9c179e"
            ],
            [
             0.4444444444444444,
             "#bd3786"
            ],
            [
             0.5555555555555556,
             "#d8576b"
            ],
            [
             0.6666666666666666,
             "#ed7953"
            ],
            [
             0.7777777777777778,
             "#fb9f3a"
            ],
            [
             0.8888888888888888,
             "#fdca26"
            ],
            [
             1,
             "#f0f921"
            ]
           ]
          },
          "colorway": [
           "#636efa",
           "#EF553B",
           "#00cc96",
           "#ab63fa",
           "#FFA15A",
           "#19d3f3",
           "#FF6692",
           "#B6E880",
           "#FF97FF",
           "#FECB52"
          ],
          "font": {
           "color": "#2a3f5f"
          },
          "geo": {
           "bgcolor": "white",
           "lakecolor": "white",
           "landcolor": "#E5ECF6",
           "showlakes": true,
           "showland": true,
           "subunitcolor": "white"
          },
          "hoverlabel": {
           "align": "left"
          },
          "hovermode": "closest",
          "mapbox": {
           "style": "light"
          },
          "paper_bgcolor": "white",
          "plot_bgcolor": "#E5ECF6",
          "polar": {
           "angularaxis": {
            "gridcolor": "white",
            "linecolor": "white",
            "ticks": ""
           },
           "bgcolor": "#E5ECF6",
           "radialaxis": {
            "gridcolor": "white",
            "linecolor": "white",
            "ticks": ""
           }
          },
          "scene": {
           "xaxis": {
            "backgroundcolor": "#E5ECF6",
            "gridcolor": "white",
            "gridwidth": 2,
            "linecolor": "white",
            "showbackground": true,
            "ticks": "",
            "zerolinecolor": "white"
           },
           "yaxis": {
            "backgroundcolor": "#E5ECF6",
            "gridcolor": "white",
            "gridwidth": 2,
            "linecolor": "white",
            "showbackground": true,
            "ticks": "",
            "zerolinecolor": "white"
           },
           "zaxis": {
            "backgroundcolor": "#E5ECF6",
            "gridcolor": "white",
            "gridwidth": 2,
            "linecolor": "white",
            "showbackground": true,
            "ticks": "",
            "zerolinecolor": "white"
           }
          },
          "shapedefaults": {
           "line": {
            "color": "#2a3f5f"
           }
          },
          "ternary": {
           "aaxis": {
            "gridcolor": "white",
            "linecolor": "white",
            "ticks": ""
           },
           "baxis": {
            "gridcolor": "white",
            "linecolor": "white",
            "ticks": ""
           },
           "bgcolor": "#E5ECF6",
           "caxis": {
            "gridcolor": "white",
            "linecolor": "white",
            "ticks": ""
           }
          },
          "title": {
           "x": 0.05
          },
          "xaxis": {
           "automargin": true,
           "gridcolor": "white",
           "linecolor": "white",
           "ticks": "",
           "title": {
            "standoff": 15
           },
           "zerolinecolor": "white",
           "zerolinewidth": 2
          },
          "yaxis": {
           "automargin": true,
           "gridcolor": "white",
           "linecolor": "white",
           "ticks": "",
           "title": {
            "standoff": 15
           },
           "zerolinecolor": "white",
           "zerolinewidth": 2
          }
         }
        },
        "title": {
         "text": "Targets et Predictions"
        },
        "xaxis": {
         "showgrid": true,
         "ticklen": 5,
         "title": {
          "text": "Latitude"
         },
         "zeroline": false
        },
        "yaxis": {
         "showgrid": true,
         "ticklen": 5,
         "title": {
          "text": "Logitude"
         },
         "zeroline": false
        }
       }
      },
      "text/html": [
       "<div>                            <div id=\"9c8c34da-090a-4e56-98c2-1e7f6492a9bf\" class=\"plotly-graph-div\" style=\"height:525px; width:100%;\"></div>            <script type=\"text/javascript\">                require([\"plotly\"], function(Plotly) {                    window.PLOTLYENV=window.PLOTLYENV || {};                                    if (document.getElementById(\"9c8c34da-090a-4e56-98c2-1e7f6492a9bf\")) {                    Plotly.newPlot(                        \"9c8c34da-090a-4e56-98c2-1e7f6492a9bf\",                        [{\"mode\": \"lines\", \"name\": \"Xtest\", \"text\": [\"Point n\\u00b00\", \"Point n\\u00b01\", \"Point n\\u00b02\", \"Point n\\u00b03\", \"Point n\\u00b04\", \"Point n\\u00b05\", \"Point n\\u00b06\", \"Point n\\u00b07\", \"Point n\\u00b08\", \"Point n\\u00b09\", \"Point n\\u00b010\", \"Point n\\u00b011\", \"Point n\\u00b012\", \"Point n\\u00b013\", \"Point n\\u00b014\", \"Point n\\u00b015\", \"Point n\\u00b016\", \"Point n\\u00b017\", \"Point n\\u00b018\", \"Point n\\u00b019\", \"Point n\\u00b020\", \"Point n\\u00b021\", \"Point n\\u00b022\", \"Point n\\u00b023\", \"Point n\\u00b024\", \"Point n\\u00b025\", \"Point n\\u00b026\", \"Point n\\u00b027\", \"Point n\\u00b028\", \"Point n\\u00b029\", \"Point n\\u00b030\", \"Point n\\u00b031\", \"Point n\\u00b032\", \"Point n\\u00b033\", \"Point n\\u00b034\", \"Point n\\u00b035\", \"Point n\\u00b036\", \"Point n\\u00b037\", \"Point n\\u00b038\", \"Point n\\u00b039\", \"Point n\\u00b040\", \"Point n\\u00b041\", \"Point n\\u00b042\", \"Point n\\u00b043\", \"Point n\\u00b044\", \"Point n\\u00b045\", \"Point n\\u00b046\", \"Point n\\u00b047\", \"Point n\\u00b048\", \"Point n\\u00b049\", \"Point n\\u00b050\", \"Point n\\u00b051\", \"Point n\\u00b052\", \"Point n\\u00b053\", \"Point n\\u00b054\", \"Point n\\u00b055\", \"Point n\\u00b056\", \"Point n\\u00b057\", \"Point n\\u00b058\", \"Point n\\u00b059\", \"Point n\\u00b060\", \"Point n\\u00b061\", \"Point n\\u00b062\", \"Point n\\u00b063\", \"Point n\\u00b064\", \"Point n\\u00b065\", \"Point n\\u00b066\", \"Point n\\u00b067\", \"Point n\\u00b068\", \"Point n\\u00b069\", \"Point n\\u00b070\", \"Point n\\u00b071\", \"Point n\\u00b072\", \"Point n\\u00b073\", \"Point n\\u00b074\", \"Point n\\u00b075\", \"Point n\\u00b076\", \"Point n\\u00b077\", \"Point n\\u00b078\", \"Point n\\u00b079\", \"Point n\\u00b080\", \"Point n\\u00b081\", \"Point n\\u00b082\", \"Point n\\u00b083\", \"Point n\\u00b084\", \"Point n\\u00b085\", \"Point n\\u00b086\", \"Point n\\u00b087\", \"Point n\\u00b088\", \"Point n\\u00b089\", \"Point n\\u00b090\", \"Point n\\u00b091\", \"Point n\\u00b092\", \"Point n\\u00b093\", \"Point n\\u00b094\", \"Point n\\u00b095\", \"Point n\\u00b096\", \"Point n\\u00b097\", \"Point n\\u00b098\", \"Point n\\u00b099\"], \"type\": \"scatter\", \"x\": [0.06554743381009567, 0.07284217653501045, 0.07814744397174048, 0.08809482041266425, 0.09538956313757904, 0.10600009801103909, 0.11594747445196288, 0.12589485089288666, 0.13849486105453146, 0.14844223750016727, 0.16170540608963632, 0.17430541624656912, 0.1842527926922049, 0.19420016913312868, 0.20414754557405249, 0.21475808044751252, 0.2220528231724273, 0.22735809060915735, 0.2346528333340721, 0.23730546705008113, 0.23995810077080215, 0.24261073448681114, 0.24460020977499589, 0.24460020977499589, 0.24460020977499589, 0.24261073448681114, 0.24261073448681114, 0.24261073448681114, 0.23995810077080215, 0.23995810077080215, 0.23730546705008113, 0.23730546705008113, 0.23730546705008113, 0.23730546705008113, 0.2346528333340721, 0.2346528333340721, 0.2346528333340721, 0.2346528333340721, 0.23200019961335108, 0.23200019961335108, 0.23200019961335108, 0.23200019961335108, 0.23200019961335108, 0.23200019961335108, 0.23001072432516634, 0.23001072432516634, 0.23001072432516634, 0.23001072432516634, 0.23001072432516634, 0.23001072432516634, 0.22735809060915735, 0.22735809060915735, 0.22735809060915735, 0.22735809060915735, 0.22735809060915735, 0.22735809060915735, 0.22735809060915735, 0.22735809060915735, 0.22735809060915735, 0.22470545688843632, 0.22470545688843632, 0.22470545688843632, 0.22470545688843632, 0.22470545688843632, 0.22470545688843632, 0.22470545688843632, 0.22470545688843632, 0.22470545688843632, 0.22470545688843632, 0.22470545688843632, 0.22470545688843632, 0.22470545688843632, 0.22470545688843632, 0.22470545688843632, 0.22470545688843632, 0.22470545688843632, 0.22470545688843632, 0.22470545688843632, 0.22470545688843632, 0.22470545688843632, 0.22470545688843632, 0.22470545688843632, 0.22470545688843632, 0.22470545688843632, 0.22470545688843632, 0.22470545688843632, 0.22470545688843632, 0.22470545688843632, 0.22470545688843632, 0.22470545688843632, 0.22470545688843632, 0.22470545688843632, 0.22470545688843632, 0.22470545688843632, 0.22470545688843632, 0.22470545688843632, 0.22470545688843632, 0.22470545688843632, 0.22470545688843632, 0.22470545688843632], \"y\": [1.4636460334710426, 1.4636460334710426, 1.4636460334710426, 1.4636460334710426, 1.4636460334710426, 1.4636460334710426, 1.4636460334710426, 1.4569379892377605, 1.4569379892377605, 1.4510684505425755, 1.437652362087927, 1.4250747791594596, 1.4124971962429083, 1.399919613314441, 1.3806339861646073, 1.3613483590147737, 1.335354687631658, 1.3101995217866393, 1.2842058504154394, 1.259050684558505, 1.233057013187305, 1.2011938031090041, 1.1760386372639855, 1.1433369216595035, 1.1114737115812026, 1.0796105015029018, 1.0477472914365167, 1.015884081358216, 0.9840208712799151, 0.9513191556754329, 0.9194559455971321, 0.8875927355307471, 0.8557295254524463, 0.8305743596074276, 0.7978726440029456, 0.772717478146011, 0.7467238067748111, 0.7215686409178766, 0.6955749695466767, 0.6704198037016581, 0.6511341765399086, 0.6251405051687087, 0.59998533932369, 0.5806997121738565, 0.561414085012107, 0.5421284578622734, 0.5228428307124399, 0.5035572035626062, 0.48511008193895394, 0.4658244547891204, 0.44653882763928676, 0.4272532004894532, 0.4146756175609859, 0.39538999041115236, 0.37610436326131874, 0.3635267803447674, 0.35011069189011884, 0.3308250647402852, 0.318247481811818, 0.312377943116633, 0.2989618546619844, 0.29309231596679935, 0.28638427173351716, 0.2796762275121508, 0.2796762275121508, 0.2738066888169658, 0.2738066888169658, 0.2738066888169658, 0.2738066888169658, 0.2738066888169658, 0.2738066888169658, 0.2738066888169658, 0.2738066888169658, 0.2738066888169658, 0.2738066888169658, 0.2738066888169658, 0.2738066888169658, 0.2738066888169658, 0.2738066888169658, 0.2738066888169658, 0.2738066888169658, 0.2738066888169658, 0.2738066888169658, 0.2738066888169658, 0.2738066888169658, 0.26709864458368354, 0.26709864458368354, 0.26709864458368354, 0.26709864458368354, 0.26709864458368354, 0.26709864458368354, 0.26709864458368354, 0.26709864458368354, 0.26709864458368354, 0.26709864458368354, 0.26709864458368354, 0.26709864458368354, 0.26709864458368354, 0.26709864458368354, 0.26709864458368354]}, {\"mode\": \"lines+markers\", \"name\": \"Target\", \"text\": [\"Point n\\u00b00\", \"Point n\\u00b01\", \"Point n\\u00b02\", \"Point n\\u00b03\", \"Point n\\u00b04\", \"Point n\\u00b05\", \"Point n\\u00b06\", \"Point n\\u00b07\", \"Point n\\u00b08\", \"Point n\\u00b09\", \"Point n\\u00b010\", \"Point n\\u00b011\", \"Point n\\u00b012\", \"Point n\\u00b013\", \"Point n\\u00b014\", \"Point n\\u00b015\", \"Point n\\u00b016\", \"Point n\\u00b017\", \"Point n\\u00b018\", \"Point n\\u00b019\", \"Point n\\u00b020\", \"Point n\\u00b021\", \"Point n\\u00b022\", \"Point n\\u00b023\", \"Point n\\u00b024\", \"Point n\\u00b025\", \"Point n\\u00b026\", \"Point n\\u00b027\", \"Point n\\u00b028\", \"Point n\\u00b029\", \"Point n\\u00b030\", \"Point n\\u00b031\", \"Point n\\u00b032\", \"Point n\\u00b033\", \"Point n\\u00b034\", \"Point n\\u00b035\", \"Point n\\u00b036\", \"Point n\\u00b037\", \"Point n\\u00b038\", \"Point n\\u00b039\", \"Point n\\u00b040\", \"Point n\\u00b041\", \"Point n\\u00b042\", \"Point n\\u00b043\", \"Point n\\u00b044\", \"Point n\\u00b045\", \"Point n\\u00b046\", \"Point n\\u00b047\", \"Point n\\u00b048\", \"Point n\\u00b049\", \"Point n\\u00b050\", \"Point n\\u00b051\", \"Point n\\u00b052\", \"Point n\\u00b053\", \"Point n\\u00b054\", \"Point n\\u00b055\", \"Point n\\u00b056\", \"Point n\\u00b057\", \"Point n\\u00b058\", \"Point n\\u00b059\", \"Point n\\u00b060\", \"Point n\\u00b061\", \"Point n\\u00b062\", \"Point n\\u00b063\", \"Point n\\u00b064\", \"Point n\\u00b065\", \"Point n\\u00b066\", \"Point n\\u00b067\", \"Point n\\u00b068\", \"Point n\\u00b069\", \"Point n\\u00b070\", \"Point n\\u00b071\", \"Point n\\u00b072\", \"Point n\\u00b073\", \"Point n\\u00b074\", \"Point n\\u00b075\", \"Point n\\u00b076\", \"Point n\\u00b077\", \"Point n\\u00b078\", \"Point n\\u00b079\", \"Point n\\u00b080\", \"Point n\\u00b081\", \"Point n\\u00b082\", \"Point n\\u00b083\", \"Point n\\u00b084\", \"Point n\\u00b085\", \"Point n\\u00b086\", \"Point n\\u00b087\", \"Point n\\u00b088\", \"Point n\\u00b089\", \"Point n\\u00b090\", \"Point n\\u00b091\", \"Point n\\u00b092\", \"Point n\\u00b093\", \"Point n\\u00b094\", \"Point n\\u00b095\", \"Point n\\u00b096\", \"Point n\\u00b097\", \"Point n\\u00b098\", \"Point n\\u00b099\"], \"type\": \"scatter\", \"x\": [0.07284217653501045, 0.07814744397174048, 0.08809482041266425, 0.09538956313757904, 0.10600009801103909, 0.11594747445196288, 0.12589485089288666, 0.13849486105453146, 0.14844223750016727, 0.16170540608963632, 0.17430541624656912, 0.1842527926922049, 0.19420016913312868, 0.20414754557405249, 0.21475808044751252, 0.2220528231724273, 0.22735809060915735, 0.2346528333340721, 0.23730546705008113, 0.23995810077080215, 0.24261073448681114, 0.24460020977499589, 0.24460020977499589, 0.24460020977499589, 0.24261073448681114, 0.24261073448681114, 0.24261073448681114, 0.23995810077080215, 0.23995810077080215, 0.23730546705008113, 0.23730546705008113, 0.23730546705008113, 0.23730546705008113, 0.2346528333340721, 0.2346528333340721, 0.2346528333340721, 0.2346528333340721, 0.23200019961335108, 0.23200019961335108, 0.23200019961335108, 0.23200019961335108, 0.23200019961335108, 0.23200019961335108, 0.23001072432516634, 0.23001072432516634, 0.23001072432516634, 0.23001072432516634, 0.23001072432516634, 0.23001072432516634, 0.22735809060915735, 0.22735809060915735, 0.22735809060915735, 0.22735809060915735, 0.22735809060915735, 0.22735809060915735, 0.22735809060915735, 0.22735809060915735, 0.22735809060915735, 0.22470545688843632, 0.22470545688843632, 0.22470545688843632, 0.22470545688843632, 0.22470545688843632, 0.22470545688843632, 0.22470545688843632, 0.22470545688843632, 0.22470545688843632, 0.22470545688843632, 0.22470545688843632, 0.22470545688843632, 0.22470545688843632, 0.22470545688843632, 0.22470545688843632, 0.22470545688843632, 0.22470545688843632, 0.22470545688843632, 0.22470545688843632, 0.22470545688843632, 0.22470545688843632, 0.22470545688843632, 0.22470545688843632, 0.22470545688843632, 0.22470545688843632, 0.22470545688843632, 0.22470545688843632, 0.22470545688843632, 0.22470545688843632, 0.22470545688843632, 0.22470545688843632, 0.22470545688843632, 0.22470545688843632, 0.22470545688843632, 0.22470545688843632, 0.22470545688843632, 0.22470545688843632, 0.22470545688843632, 0.22470545688843632, 0.22470545688843632, 0.22470545688843632, 0.22470545688843632], \"y\": [1.4636460334710426, 1.4636460334710426, 1.4636460334710426, 1.4636460334710426, 1.4636460334710426, 1.4636460334710426, 1.4569379892377605, 1.4569379892377605, 1.4510684505425755, 1.437652362087927, 1.4250747791594596, 1.4124971962429083, 1.399919613314441, 1.3806339861646073, 1.3613483590147737, 1.335354687631658, 1.3101995217866393, 1.2842058504154394, 1.259050684558505, 1.233057013187305, 1.2011938031090041, 1.1760386372639855, 1.1433369216595035, 1.1114737115812026, 1.0796105015029018, 1.0477472914365167, 1.015884081358216, 0.9840208712799151, 0.9513191556754329, 0.9194559455971321, 0.8875927355307471, 0.8557295254524463, 0.8305743596074276, 0.7978726440029456, 0.772717478146011, 0.7467238067748111, 0.7215686409178766, 0.6955749695466767, 0.6704198037016581, 0.6511341765399086, 0.6251405051687087, 0.59998533932369, 0.5806997121738565, 0.561414085012107, 0.5421284578622734, 0.5228428307124399, 0.5035572035626062, 0.48511008193895394, 0.4658244547891204, 0.44653882763928676, 0.4272532004894532, 0.4146756175609859, 0.39538999041115236, 0.37610436326131874, 0.3635267803447674, 0.35011069189011884, 0.3308250647402852, 0.318247481811818, 0.312377943116633, 0.2989618546619844, 0.29309231596679935, 0.28638427173351716, 0.2796762275121508, 0.2796762275121508, 0.2738066888169658, 0.2738066888169658, 0.2738066888169658, 0.2738066888169658, 0.2738066888169658, 0.2738066888169658, 0.2738066888169658, 0.2738066888169658, 0.2738066888169658, 0.2738066888169658, 0.2738066888169658, 0.2738066888169658, 0.2738066888169658, 0.2738066888169658, 0.2738066888169658, 0.2738066888169658, 0.2738066888169658, 0.2738066888169658, 0.2738066888169658, 0.2738066888169658, 0.26709864458368354, 0.26709864458368354, 0.26709864458368354, 0.26709864458368354, 0.26709864458368354, 0.26709864458368354, 0.26709864458368354, 0.26709864458368354, 0.26709864458368354, 0.26709864458368354, 0.26709864458368354, 0.26709864458368354, 0.26709864458368354, 0.26709864458368354, 0.26709864458368354, 0.26709864458368354]}, {\"mode\": \"lines+markers\", \"name\": \"model_contextual_knnReg\", \"text\": [\"Point n\\u00b00<br>MSE = 0.01297270450664944\", \"Point n\\u00b01<br>MSE = 0.01388871274034649\", \"Point n\\u00b02<br>MSE = 0.015897884983663166\", \"Point n\\u00b03<br>MSE = 0.0165590950123854\", \"Point n\\u00b04<br>MSE = 0.016855534659306465\", \"Point n\\u00b05<br>MSE = 0.01562668234805536\", \"Point n\\u00b06<br>MSE = 0.01383611992737392\", \"Point n\\u00b07<br>MSE = 0.013195728063182244\", \"Point n\\u00b08<br>MSE = 0.014920624637927518\", \"Point n\\u00b09<br>MSE = 0.016696967338633604\", \"Point n\\u00b010<br>MSE = 0.008363824300672515\", \"Point n\\u00b011<br>MSE = 0.0009030122537912976\", \"Point n\\u00b012<br>MSE = 6.192180387375462e-06\", \"Point n\\u00b013<br>MSE = 5.1028427631410934e-05\", \"Point n\\u00b014<br>MSE = 5.808639485773906e-05\", \"Point n\\u00b015<br>MSE = 5.088819299522268e-05\", \"Point n\\u00b016<br>MSE = 5.758837226906711e-05\", \"Point n\\u00b017<br>MSE = 3.690982845881264e-05\", \"Point n\\u00b018<br>MSE = 9.635020568905227e-05\", \"Point n\\u00b019<br>MSE = 0.00010422291842991752\", \"Point n\\u00b020<br>MSE = 0.0001507634749028647\", \"Point n\\u00b021<br>MSE = 8.241768952540094e-05\", \"Point n\\u00b022<br>MSE = 0.00011358479070688654\", \"Point n\\u00b023<br>MSE = 0.00012714977753984006\", \"Point n\\u00b024<br>MSE = 0.0002792260494406432\", \"Point n\\u00b025<br>MSE = 0.00022180515086716123\", \"Point n\\u00b026<br>MSE = 0.00023342511630130097\", \"Point n\\u00b027<br>MSE = 0.0006643528283453346\", \"Point n\\u00b028<br>MSE = 0.0012900872219049264\", \"Point n\\u00b029<br>MSE = 0.00340106701452741\", \"Point n\\u00b030<br>MSE = 0.001791880164784215\", \"Point n\\u00b031<br>MSE = 0.0002529910730888589\", \"Point n\\u00b032<br>MSE = 0.01602172965595183\", \"Point n\\u00b033<br>MSE = 0.013220284884246942\", \"Point n\\u00b034<br>MSE = 0.014066128443613313\", \"Point n\\u00b035<br>MSE = 0.014536145413344184\", \"Point n\\u00b036<br>MSE = 0.01746114429722574\", \"Point n\\u00b037<br>MSE = 0.01677763297854684\", \"Point n\\u00b038<br>MSE = 0.017063243196669502\", \"Point n\\u00b039<br>MSE = 0.01807960319823555\", \"Point n\\u00b040<br>MSE = 0.021207058308728557\", \"Point n\\u00b041<br>MSE = 0.02147479489681853\", \"Point n\\u00b042<br>MSE = 0.021391163225702326\", \"Point n\\u00b043<br>MSE = 0.023416282616335674\", \"Point n\\u00b044<br>MSE = 0.020460560508959457\", \"Point n\\u00b045<br>MSE = 0.018161916864230507\", \"Point n\\u00b046<br>MSE = 0.017599229937331578\", \"Point n\\u00b047<br>MSE = 0.014638885396313346\", \"Point n\\u00b048<br>MSE = 0.013925547862918478\", \"Point n\\u00b049<br>MSE = 0.010997777066106293\", \"Point n\\u00b050<br>MSE = 0.010306099539784752\", \"Point n\\u00b051<br>MSE = 0.00879744756239293\", \"Point n\\u00b052<br>MSE = 0.006365581869784026\", \"Point n\\u00b053<br>MSE = 0.004968574512555131\", \"Point n\\u00b054<br>MSE = 0.004523972392982241\", \"Point n\\u00b055<br>MSE = 0.003891687854548314\", \"Point n\\u00b056<br>MSE = 0.003555545573481101\", \"Point n\\u00b057<br>MSE = 0.0038042038813600057\", \"Point n\\u00b058<br>MSE = 0.0038775377184946465\", \"Point n\\u00b059<br>MSE = 0.003081694052801986\", \"Point n\\u00b060<br>MSE = 0.0031155067302935727\", \"Point n\\u00b061<br>MSE = 0.0027854295503344597\", \"Point n\\u00b062<br>MSE = 0.002343240663772518\", \"Point n\\u00b063<br>MSE = 0.001978683490829643\", \"Point n\\u00b064<br>MSE = 0.0016556187683505427\", \"Point n\\u00b065<br>MSE = 0.0013634961351392143\", \"Point n\\u00b066<br>MSE = 0.0013502197851994603\", \"Point n\\u00b067<br>MSE = 0.0013081451294329107\", \"Point n\\u00b068<br>MSE = 0.0013464860958554248\", \"Point n\\u00b069<br>MSE = 0.0013464860958554248\", \"Point n\\u00b070<br>MSE = 0.0013471962681003314\", \"Point n\\u00b071<br>MSE = 0.0013471962681003314\", \"Point n\\u00b072<br>MSE = 0.0013471962681003314\", \"Point n\\u00b073<br>MSE = 0.0013480649016377735\", \"Point n\\u00b074<br>MSE = 0.0013471962681003314\", \"Point n\\u00b075<br>MSE = 0.0013471962681003314\", \"Point n\\u00b076<br>MSE = 0.0013471962681003314\", \"Point n\\u00b077<br>MSE = 0.0013471962681003314\", \"Point n\\u00b078<br>MSE = 0.0013480649016377735\", \"Point n\\u00b079<br>MSE = 0.0013471962681003314\", \"Point n\\u00b080<br>MSE = 0.0013471962681003314\", \"Point n\\u00b081<br>MSE = 0.0013471962681003314\", \"Point n\\u00b082<br>MSE = 0.0013471962681003314\", \"Point n\\u00b083<br>MSE = 0.0013471962681003314\", \"Point n\\u00b084<br>MSE = 0.0010215869489187978\", \"Point n\\u00b085<br>MSE = 0.0010208772393978515\", \"Point n\\u00b086<br>MSE = 0.0010215868196391657\", \"Point n\\u00b087<br>MSE = 0.0010215868196391657\", \"Point n\\u00b088<br>MSE = 0.001022455471691723\", \"Point n\\u00b089<br>MSE = 0.001022455471691723\", \"Point n\\u00b090<br>MSE = 0.0010215868196391657\", \"Point n\\u00b091<br>MSE = 0.0010215868196391657\", \"Point n\\u00b092<br>MSE = 0.0010215868196391657\", \"Point n\\u00b093<br>MSE = 0.0010215868196391657\", \"Point n\\u00b094<br>MSE = 0.0010215868196391657\", \"Point n\\u00b095<br>MSE = 0.0010215868196391657\", \"Point n\\u00b096<br>MSE = 0.001022455471691723\", \"Point n\\u00b097<br>MSE = 0.0010215868196391657\", \"Point n\\u00b098<br>MSE = 0.0010208772393978515\", \"Point n\\u00b099<br>MSE = 0.0010208772393978515\"], \"type\": \"scatter\", \"x\": [-0.08109307319088163, -0.08124363190141203, -0.08343045107598619, -0.08030389790790163, -0.07195192513727901, -0.056554366509116494, -0.03654058458690261, -0.021260488356422108, -0.020832302925246446, -0.015069707308845439, 0.051174125506821676, 0.14608100733032028, 0.19675538804239467, 0.2132332835490298, 0.22270209240765715, 0.23086137731902387, 0.2371647180164521, 0.24029984156350445, 0.2436690128783877, 0.24668231460841444, 0.24886408606624366, 0.24965061331453103, 0.2491954046208148, 0.24861156051617164, 0.24798047767962214, 0.24672399330627934, 0.24611149184274794, 0.24617830147707828, 0.24587949436083134, 0.24588751914174004, 0.24377323850439392, 0.24109660149813, 0.23760306937616846, 0.23700042534647056, 0.23639570569871093, 0.23551924326147244, 0.23406192025892997, 0.23344254981760143, 0.23312146061439348, 0.23281366945285636, 0.232261658282589, 0.2317987280384142, 0.23177881675621353, 0.23153731785337608, 0.231313320908597, 0.23126653432224006, 0.2312283466063254, 0.23100785127122336, 0.23095763787442056, 0.23092734041850563, 0.2307316982177338, 0.23072063243363958, 0.23071250421728903, 0.23070533027207232, 0.23070905899748512, 0.23069561043500553, 0.22993910226627476, 0.22929504966679576, 0.22914884612853398, 0.22902061180548727, 0.2279620141072955, 0.2276721317433517, 0.22759419464703523, 0.22690447883337328, 0.22622051292887602, 0.22536164614197482, 0.2250010871908559, 0.2249999209365439, 0.2247054100319303, 0.2247054100319303, 0.22588436355618025, 0.22588436355618025, 0.22588436355618025, 0.2264739146658977, 0.22588436355618025, 0.22588436355618025, 0.22588436355618025, 0.22588436355618025, 0.2264739146658977, 0.22588436355618025, 0.22588436355618025, 0.22588436355618025, 0.22588436355618025, 0.22588436355618025, 0.22588436355618025, 0.22470540514288492, 0.22588435921003724, 0.22588435921003724, 0.22647391834706113, 0.22647391834706113, 0.22588435921003724, 0.22588435921003724, 0.22588435921003724, 0.22588435921003724, 0.22588435921003724, 0.22588435921003724, 0.22647391834706113, 0.22588435921003724, 0.22470540514288492, 0.22470540514288492], \"y\": [1.511073324191957, 1.5123482963824508, 1.5123784785981969, 1.5110801748739495, 1.5088582749110928, 1.5023303915650992, 1.4928123415697407, 1.486428402272315, 1.4855268202025, 1.4839610433498795, 1.4646517148936573, 1.431177113530434, 1.4023393689013712, 1.3762174014305761, 1.3540637544481169, 1.3304367856565347, 1.3058398425057025, 1.29068126198339, 1.2713878518131525, 1.2458331935682287, 1.2173932643293577, 1.1878423995090772, 1.157691494650113, 1.12690772014382, 1.1026239314281552, 1.0684038013938737, 1.0372053132770676, 1.0199376467457655, 1.0017682541982194, 1.0014832728177046, 0.9471068369016257, 0.8335572579595953, 0.651567737537854, 0.6352840263809324, 0.6049998008333699, 0.5762200233548351, 0.5346945137194089, 0.5123996830504303, 0.4856896514061908, 0.4609801740490556, 0.41919379299096743, 0.39274260916689646, 0.3738609405640947, 0.345011139688179, 0.3398429560089281, 0.3322588422199323, 0.31594862894341785, 0.31400550417880124, 0.29894066564060184, 0.2982728012272626, 0.2837233504537451, 0.282072493777025, 0.282607404659124, 0.2764753262703427, 0.26846513825488494, 0.26195040224388016, 0.24653728670700198, 0.23104280331158475, 0.22442720844630587, 0.2205732869773671, 0.21422275088832665, 0.21180506591196036, 0.21127932318375975, 0.21680706747207257, 0.21628328365093435, 0.22159020017648012, 0.22184177591293783, 0.22265785158883133, 0.22191283376929513, 0.22191283376929513, 0.22191253967402857, 0.22191253967402857, 0.22191253967402857, 0.22191254309353295, 0.22191253967402857, 0.22191253967402857, 0.22191253967402857, 0.22191253967402857, 0.22191254309353295, 0.22191253967402857, 0.22191253967402857, 0.22191253967402857, 0.22191253967402857, 0.22191253967402857, 0.22191253967402857, 0.22191286718865552, 0.22191254242168626, 0.22191254242168626, 0.2219125461965379, 0.2219125461965379, 0.22191254242168626, 0.22191254242168626, 0.22191254242168626, 0.22191254242168626, 0.22191254242168626, 0.22191254242168626, 0.2219125461965379, 0.22191254242168626, 0.22191286718865552, 0.22191286718865552]}, {\"mode\": \"lines+markers\", \"name\": \"model_contextual_knnReg\", \"text\": [\"Point n\\u00b00<br>MSE = 0.7776247461605141\", \"Point n\\u00b01<br>MSE = 0.7839857111016282\", \"Point n\\u00b02<br>MSE = 0.7959883822578713\", \"Point n\\u00b03<br>MSE = 0.8048532295193513\", \"Point n\\u00b04<br>MSE = 0.817842545096007\", \"Point n\\u00b05<br>MSE = 0.8301222770868575\", \"Point n\\u00b06<br>MSE = 0.8401610707915087\", \"Point n\\u00b07<br>MSE = 0.8559827836781904\", \"Point n\\u00b08<br>MSE = 0.8665752631121247\", \"Point n\\u00b09<br>MSE = 0.8790671079664161\", \"Point n\\u00b010<br>MSE = 0.8913165929762731\", \"Point n\\u00b011<br>MSE = 0.9004105380525185\", \"Point n\\u00b012<br>MSE = 0.909761629009292\", \"Point n\\u00b013<br>MSE = 0.9092998029265335\", \"Point n\\u00b014<br>MSE = 0.9168405292263732\", \"Point n\\u00b015<br>MSE = 0.9184767006806617\", \"Point n\\u00b016<br>MSE = 0.9143427400253317\", \"Point n\\u00b017<br>MSE = 0.9164995660179832\", \"Point n\\u00b018<br>MSE = 0.9134175285684061\", \"Point n\\u00b019<br>MSE = 0.9107872329813054\", \"Point n\\u00b020<br>MSE = 0.907695363352719\", \"Point n\\u00b021<br>MSE = 0.8989015026528494\", \"Point n\\u00b022<br>MSE = 0.8927181642712001\", \"Point n\\u00b023<br>MSE = 0.8877219959224976\", \"Point n\\u00b024<br>MSE = 0.8811070347955872\", \"Point n\\u00b025<br>MSE = 0.8781413947607917\", \"Point n\\u00b026<br>MSE = 0.8668047993923423\", \"Point n\\u00b027<br>MSE = 0.8597521615756107\", \"Point n\\u00b028<br>MSE = 0.8514399602352704\", \"Point n\\u00b029<br>MSE = 0.8450549286256557\", \"Point n\\u00b030<br>MSE = 0.843131270224697\", \"Point n\\u00b031<br>MSE = 0.7474184735538809\", \"Point n\\u00b032<br>MSE = 0.7170027343606501\", \"Point n\\u00b033<br>MSE = 0.6785384576579876\", \"Point n\\u00b034<br>MSE = 0.649578117899326\", \"Point n\\u00b035<br>MSE = 0.620317206531468\", \"Point n\\u00b036<br>MSE = 0.5926435242566698\", \"Point n\\u00b037<br>MSE = 0.5648493700348995\", \"Point n\\u00b038<br>MSE = 0.5384623452563138\", \"Point n\\u00b039<br>MSE = 0.5186608271938327\", \"Point n\\u00b040<br>MSE = 0.4925603122121493\", \"Point n\\u00b041<br>MSE = 0.46794507806619634\", \"Point n\\u00b042<br>MSE = 0.44950193283432666\", \"Point n\\u00b043<br>MSE = 0.43153824899654625\", \"Point n\\u00b044<br>MSE = 0.4138389745940309\", \"Point n\\u00b045<br>MSE = 0.3965116356060782\", \"Point n\\u00b046<br>MSE = 0.37955623203268785\", \"Point n\\u00b047<br>MSE = 0.3636860502200977\", \"Point n\\u00b048<br>MSE = 0.3474583463708913\", \"Point n\\u00b049<br>MSE = 0.331752102831028\", \"Point n\\u00b050<br>MSE = 0.31626826981094625\", \"Point n\\u00b051<br>MSE = 0.30637049892114754\", \"Point n\\u00b052<br>MSE = 0.29150116789043273\", \"Point n\\u00b053<br>MSE = 0.2770037722742803\", \"Point n\\u00b054<br>MSE = 0.26774933013510577\", \"Point n\\u00b055<br>MSE = 0.25805229187624307\", \"Point n\\u00b056<br>MSE = 0.24442813592897336\", \"Point n\\u00b057<br>MSE = 0.23574319791319734\", \"Point n\\u00b058<br>MSE = 0.23190092625024875\", \"Point n\\u00b059<br>MSE = 0.22289010531599104\", \"Point n\\u00b060<br>MSE = 0.21900447002716275\", \"Point n\\u00b061<br>MSE = 0.2146059294673421\", \"Point n\\u00b062<br>MSE = 0.21025238677265057\", \"Point n\\u00b063<br>MSE = 0.21025238677265057\", \"Point n\\u00b064<br>MSE = 0.20647994921863913\", \"Point n\\u00b065<br>MSE = 0.20647994921863913\", \"Point n\\u00b066<br>MSE = 0.20647994921863913\", \"Point n\\u00b067<br>MSE = 0.20647994921863913\", \"Point n\\u00b068<br>MSE = 0.20647994921863913\", \"Point n\\u00b069<br>MSE = 0.20647994921863913\", \"Point n\\u00b070<br>MSE = 0.20647994921863913\", \"Point n\\u00b071<br>MSE = 0.20647994921863913\", \"Point n\\u00b072<br>MSE = 0.20647994921863913\", \"Point n\\u00b073<br>MSE = 0.20647994921863913\", \"Point n\\u00b074<br>MSE = 0.20647994921863913\", \"Point n\\u00b075<br>MSE = 0.20647994921863913\", \"Point n\\u00b076<br>MSE = 0.20647994921863913\", \"Point n\\u00b077<br>MSE = 0.20647994921863913\", \"Point n\\u00b078<br>MSE = 0.20647994921863913\", \"Point n\\u00b079<br>MSE = 0.20647994921863913\", \"Point n\\u00b080<br>MSE = 0.20647994921863913\", \"Point n\\u00b081<br>MSE = 0.20647994921863913\", \"Point n\\u00b082<br>MSE = 0.20647994921863913\", \"Point n\\u00b083<br>MSE = 0.20647994921863919\", \"Point n\\u00b084<br>MSE = 0.20221077749880617\", \"Point n\\u00b085<br>MSE = 0.20221077749880617\", \"Point n\\u00b086<br>MSE = 0.20221077749880617\", \"Point n\\u00b087<br>MSE = 0.20221077749880617\", \"Point n\\u00b088<br>MSE = 0.20221077749880617\", \"Point n\\u00b089<br>MSE = 0.2022107774988061\", \"Point n\\u00b090<br>MSE = 0.20221077749880617\", \"Point n\\u00b091<br>MSE = 0.20221077749880617\", \"Point n\\u00b092<br>MSE = 0.20221077749880617\", \"Point n\\u00b093<br>MSE = 0.20221077749880617\", \"Point n\\u00b094<br>MSE = 0.20221077749880617\", \"Point n\\u00b095<br>MSE = 0.20221077749880617\", \"Point n\\u00b096<br>MSE = 0.20221077749880617\", \"Point n\\u00b097<br>MSE = 0.20221077749880617\", \"Point n\\u00b098<br>MSE = 0.20221077749880617\", \"Point n\\u00b099<br>MSE = 0.2022107774988061\"], \"type\": \"scatter\", \"x\": [-1.1234956302803334, -1.1234956302803334, -1.1234956302803334, -1.1234956302803334, -1.1234956302803334, -1.1234956302803334, -1.1234956302803334, -1.1234956302803334, -1.1234956302803334, -1.1234956302803334, -1.1234956302803334, -1.1234956302803334, -1.1234956302803334, -1.100948243677765, -1.100948243677765, -1.100948243677765, -1.091000867236841, -1.091000867236841, -1.091000867236841, -1.091000867236841, -1.091000867236841, -1.080390332363381, -1.080390332363381, -1.080390332363381, -1.080390332363381, -1.080390332363381, -1.0677903222017362, -1.0677903222017362, -1.0604955794768214, -1.0604955794768214, -1.0604955794768214, 0.2850528739759393, 0.2850528739759393, 0.2850528739759393, 0.2850528739759393, 0.2850528739759393, 0.2850528739759393, 0.2850528739759393, 0.2850528739759393, 0.2850528739759393, 0.2850528739759393, 0.2850528739759393, 0.2850528739759393, 0.2850528739759393, 0.2850528739759393, 0.2850528739759393, 0.2850528739759393, 0.2850528739759393, 0.2850528739759393, 0.2850528739759393, 0.2850528739759393, 0.2850528739759393, 0.2850528739759393, 0.2850528739759393, 0.2850528739759393, 0.2850528739759393, 0.2850528739759393, 0.2850528739759393, 0.2850528739759393, 0.2850528739759393, 0.2850528739759393, 0.2850528739759393, 0.2850528739759393, 0.2850528739759393, 0.2850528739759393, 0.2850528739759393, 0.2850528739759393, 0.28505287397593926, 0.2850528739759393, 0.2850528739759393, 0.28505287397593926, 0.2850528739759393, 0.28505287397593937, 0.2850528739759393, 0.2850528739759393, 0.28505287397593926, 0.2850528739759393, 0.2850528739759393, 0.2850528739759393, 0.2850528739759393, 0.2850528739759393, 0.2850528739759393, 0.2850528739759393, 0.2850528739759393, 0.2850528739759393, 0.2850528739759393, 0.2850528739759393, 0.28505287397593926, 0.2850528739759393, 0.2850528739759393, 0.2850528739759393, 0.2850528739759393, 0.2850528739759393, 0.2850528739759393, 0.2850528739759393, 0.28505287397593926, 0.2850528739759393, 0.2850528739759393, 0.2850528739759393, 0.2850528739759393], \"y\": [1.1114737115812026, 1.1114737115812026, 1.1114737115812026, 1.1114737115812026, 1.1114737115812026, 1.1114737115812026, 1.1114737115812026, 1.1114737115812026, 1.1114737115812026, 1.1114737115812026, 1.1114737115812026, 1.1114737115812026, 1.1114737115812026, 1.0410392472032346, 1.0410392472032346, 1.0410392472032346, 1.0091760371249336, 1.0091760371249336, 1.0091760371249336, 1.0091760371249336, 1.0091760371249336, 0.9706047828252665, 0.9706047828252665, 0.9706047828252665, 0.9706047828252665, 0.9706047828252666, 0.8875927355307471, 0.887592735530747, 0.8431519425239791, 0.8431519425239792, 0.843151942523979, -0.3659730292799314, -0.3659730292799314, -0.3659730292799314, -0.3659730292799314, -0.3659730292799314, -0.3659730292799314, -0.3659730292799314, -0.3659730292799314, -0.3659730292799314, -0.36597302927993147, -0.3659730292799314, -0.36597302927993147, -0.3659730292799314, -0.36597302927993136, -0.36597302927993136, -0.3659730292799314, -0.36597302927993136, -0.36597302927993147, -0.3659730292799314, -0.36597302927993136, -0.3659730292799314, -0.3659730292799314, -0.3659730292799314, -0.3659730292799314, -0.3659730292799314, -0.36597302927993147, -0.36597302927993136, -0.3659730292799314, -0.3659730292799314, -0.3659730292799314, -0.3659730292799314, -0.3659730292799314, -0.3659730292799314, -0.3659730292799314, -0.3659730292799314, -0.3659730292799314, -0.3659730292799314, -0.3659730292799314, -0.3659730292799314, -0.3659730292799314, -0.3659730292799314, -0.3659730292799314, -0.3659730292799314, -0.3659730292799314, -0.3659730292799314, -0.3659730292799314, -0.3659730292799314, -0.3659730292799314, -0.3659730292799314, -0.3659730292799314, -0.3659730292799314, -0.3659730292799314, -0.36597302927993147, -0.3659730292799314, -0.3659730292799314, -0.3659730292799314, -0.3659730292799314, -0.3659730292799314, -0.36597302927993136, -0.3659730292799314, -0.3659730292799314, -0.3659730292799314, -0.3659730292799314, -0.3659730292799314, -0.3659730292799314, -0.3659730292799314, -0.3659730292799314, -0.3659730292799314, -0.36597302927993136]}, {\"mode\": \"lines+markers\", \"name\": \"LinearRegression\", \"text\": [\"Point n\\u00b00<br>MSE = 0.00019983667299353276\", \"Point n\\u00b01<br>MSE = 0.0002615712498656368\", \"Point n\\u00b02<br>MSE = 0.0002635649610038304\", \"Point n\\u00b03<br>MSE = 0.0002619770821846089\", \"Point n\\u00b04<br>MSE = 0.0002682661924428823\", \"Point n\\u00b05<br>MSE = 0.00026567781288388393\", \"Point n\\u00b06<br>MSE = 0.0001289053165161366\", \"Point n\\u00b07<br>MSE = 0.0002585915417321067\", \"Point n\\u00b08<br>MSE = 0.0001263710189843847\", \"Point n\\u00b09<br>MSE = 5.0052222586407e-05\", \"Point n\\u00b010<br>MSE = 5.010390995812203e-05\", \"Point n\\u00b011<br>MSE = 3.441006238639993e-05\", \"Point n\\u00b012<br>MSE = 2.9416766160729584e-05\", \"Point n\\u00b013<br>MSE = 7.100731795711608e-06\", \"Point n\\u00b014<br>MSE = 1.0999432622838152e-05\", \"Point n\\u00b015<br>MSE = 3.684665114390756e-05\", \"Point n\\u00b016<br>MSE = 3.395589990515634e-05\", \"Point n\\u00b017<br>MSE = 4.791455369397739e-05\", \"Point n\\u00b018<br>MSE = 4.785326775327684e-05\", \"Point n\\u00b019<br>MSE = 6.085831136796078e-05\", \"Point n\\u00b020<br>MSE = 0.00014971368416691113\", \"Point n\\u00b021<br>MSE = 6.31197422137404e-05\", \"Point n\\u00b022<br>MSE = 0.0001878454566234347\", \"Point n\\u00b023<br>MSE = 0.00017619374210949178\", \"Point n\\u00b024<br>MSE = 0.00018739780656809918\", \"Point n\\u00b025<br>MSE = 0.00017922007714271093\", \"Point n\\u00b026<br>MSE = 0.0001816487976944574\", \"Point n\\u00b027<br>MSE = 0.00019546355526440856\", \"Point n\\u00b028<br>MSE = 0.0001968824361745616\", \"Point n\\u00b029<br>MSE = 0.00019226531193387077\", \"Point n\\u00b030<br>MSE = 0.00017712959421257974\", \"Point n\\u00b031<br>MSE = 0.0001775911372832845\", \"Point n\\u00b032<br>MSE = 7.586342627408947e-05\", \"Point n\\u00b033<br>MSE = 0.00020476934534674942\", \"Point n\\u00b034<br>MSE = 7.469889628872436e-05\", \"Point n\\u00b035<br>MSE = 8.442692846356908e-05\", \"Point n\\u00b036<br>MSE = 7.3763813344174e-05\", \"Point n\\u00b037<br>MSE = 9.465925757606574e-05\", \"Point n\\u00b038<br>MSE = 7.382616857905455e-05\", \"Point n\\u00b039<br>MSE = 2.086795585015833e-05\", \"Point n\\u00b040<br>MSE = 8.303924734841842e-05\", \"Point n\\u00b041<br>MSE = 7.177267126682021e-05\", \"Point n\\u00b042<br>MSE = 1.9878967086366783e-05\", \"Point n\\u00b043<br>MSE = 2.5727082956741356e-05\", \"Point n\\u00b044<br>MSE = 2.0314676731974212e-05\", \"Point n\\u00b045<br>MSE = 1.962494288304287e-05\", \"Point n\\u00b046<br>MSE = 1.8399656548280245e-05\", \"Point n\\u00b047<br>MSE = 1.4483704083562449e-05\", \"Point n\\u00b048<br>MSE = 1.873379435624927e-05\", \"Point n\\u00b049<br>MSE = 2.6083566940355116e-05\", \"Point n\\u00b050<br>MSE = 1.890554911682197e-05\", \"Point n\\u00b051<br>MSE = 1.1374286829715845e-06\", \"Point n\\u00b052<br>MSE = 1.8283747148362796e-05\", \"Point n\\u00b053<br>MSE = 1.7837307372143453e-05\", \"Point n\\u00b054<br>MSE = 1.0983336602213647e-06\", \"Point n\\u00b055<br>MSE = 5.301375489748388e-07\", \"Point n\\u00b056<br>MSE = 2.0436683706920444e-05\", \"Point n\\u00b057<br>MSE = 6.164338918956099e-07\", \"Point n\\u00b058<br>MSE = 3.487703497021259e-05\", \"Point n\\u00b059<br>MSE = 3.223208202076823e-07\", \"Point n\\u00b060<br>MSE = 2.7954689002898505e-05\", \"Point n\\u00b061<br>MSE = 2.2401976953381367e-05\", \"Point n\\u00b062<br>MSE = 2.272086765414789e-05\", \"Point n\\u00b063<br>MSE = 9.076897905052112e-05\", \"Point n\\u00b064<br>MSE = 2.987838305388561e-05\", \"Point n\\u00b065<br>MSE = 9.069271093916467e-05\", \"Point n\\u00b066<br>MSE = 9.427925192179611e-05\", \"Point n\\u00b067<br>MSE = 9.427946090709427e-05\", \"Point n\\u00b068<br>MSE = 9.427966989265198e-05\", \"Point n\\u00b069<br>MSE = 9.427987887846847e-05\", \"Point n\\u00b070<br>MSE = 9.428008786454303e-05\", \"Point n\\u00b071<br>MSE = 9.428029685087713e-05\", \"Point n\\u00b072<br>MSE = 9.428050583746928e-05\", \"Point n\\u00b073<br>MSE = 9.4280714824321e-05\", \"Point n\\u00b074<br>MSE = 9.428092381143075e-05\", \"Point n\\u00b075<br>MSE = 9.428113279880009e-05\", \"Point n\\u00b076<br>MSE = 9.42813417864282e-05\", \"Point n\\u00b077<br>MSE = 9.428155077431435e-05\", \"Point n\\u00b078<br>MSE = 9.428175976246009e-05\", \"Point n\\u00b079<br>MSE = 9.428196875086384e-05\", \"Point n\\u00b080<br>MSE = 9.428217773952719e-05\", \"Point n\\u00b081<br>MSE = 9.428238672844853e-05\", \"Point n\\u00b082<br>MSE = 9.428259571762948e-05\", \"Point n\\u00b083<br>MSE = 9.428280470706923e-05\", \"Point n\\u00b084<br>MSE = 2.4771159054623974e-05\", \"Point n\\u00b085<br>MSE = 9.426719255508564e-05\", \"Point n\\u00b086<br>MSE = 9.426740136857e-05\", \"Point n\\u00b087<br>MSE = 9.426761018231392e-05\", \"Point n\\u00b088<br>MSE = 9.42678189963159e-05\", \"Point n\\u00b089<br>MSE = 9.426802781057742e-05\", \"Point n\\u00b090<br>MSE = 9.426823662509778e-05\", \"Point n\\u00b091<br>MSE = 9.426844543987613e-05\", \"Point n\\u00b092<br>MSE = 9.426865425491408e-05\", \"Point n\\u00b093<br>MSE = 9.426886307021005e-05\", \"Point n\\u00b094<br>MSE = 9.426907188576561e-05\", \"Point n\\u00b095<br>MSE = 9.42692807015792e-05\", \"Point n\\u00b096<br>MSE = 9.426948951765234e-05\", \"Point n\\u00b097<br>MSE = 9.42696983339843e-05\", \"Point n\\u00b098<br>MSE = 9.426990715057426e-05\", \"Point n\\u00b099<br>MSE = 9.427011596742383e-05\"], \"type\": \"scatter\", \"x\": [0.06952632716175744, 0.07997282562945268, 0.08526284552257432, 0.09519162569782465, 0.10246719929557765, 0.11304772784461388, 0.1229404917917249, 0.13279559932298915, 0.14532048808693207, 0.15518071994137758, 0.1683178242094355, 0.18079123044616285, 0.19059786260765568, 0.2004171247283868, 0.21020607688431545, 0.22065382577812115, 0.22776652040386253, 0.23290162652200222, 0.240013702186912, 0.24250826092138922, 0.24499596440677646, 0.24746463546120298, 0.2493054485119439, 0.2491383781814323, 0.24898907105386675, 0.2468473668530432, 0.24669040132108142, 0.24654403699570573, 0.24375420730772868, 0.24361109936605577, 0.24082681108674978, 0.24067832438270662, 0.2405297078452045, 0.24041829489642866, 0.237624019026682, 0.23751127948074868, 0.23739370160322362, 0.23727688873293504, 0.23451187974000073, 0.23439931083231078, 0.2343139498807899, 0.23420063981276137, 0.23408325293756174, 0.23399473438469365, 0.23191423360715496, 0.23183339474434986, 0.23175972065409015, 0.23166082434935367, 0.23158049338836847, 0.23149255458139834, 0.22875454277473614, 0.22866900341274007, 0.2286154621147768, 0.22853234101035022, 0.22845560399992063, 0.22838771284285037, 0.2282919759031833, 0.22822740490105042, 0.22818480043349512, 0.22550826377414315, 0.22544041875938203, 0.22541774738803533, 0.2253910847817145, 0.2253638887103009, 0.22537235677432962, 0.22533694053200864, 0.2253565690578612, 0.22535657498683764, 0.2253565809158141, 0.2253565868447905, 0.22535659277376696, 0.22535659870274338, 0.22535660463171983, 0.22535661056069628, 0.2253566164896727, 0.22535662241864915, 0.22535662834762557, 0.22535663427660202, 0.22535664020557847, 0.2253566461345549, 0.22535665206353134, 0.22535665799250776, 0.2253566639214842, 0.22535666985046066, 0.22535667577943708, 0.2253262639023411, 0.2253262698313175, 0.22532627576029396, 0.22532628168927038, 0.22532628761824683, 0.22532629354722328, 0.2253262994761997, 0.22532630540517615, 0.22532631133415257, 0.22532631726312902, 0.22532632319210547, 0.2253263291210819, 0.22532633505005834, 0.22532634097903476, 0.2253263469080112], \"y\": [1.4833609640801257, 1.440846680814992, 1.4408620513733152, 1.440756844207568, 1.4407538729886404, 1.4407779969269723, 1.4411556448195932, 1.4349220518473247, 1.4354800985267357, 1.430067316548213, 1.4170525250178172, 1.404958117281286, 1.393147839542526, 1.3811682369537, 1.362478902603636, 1.3438244047803318, 1.3184302559527457, 1.2938371733821619, 1.2684513227256822, 1.2437907593153947, 1.2183325908888538, 1.1869030079275664, 1.1621398906185587, 1.129688884150624, 1.097889244232465, 1.0661996923772836, 1.0345027256136463, 1.0026636327322944, 0.9707961792547539, 0.9380239186950089, 0.9060821737212541, 0.8742715347281511, 0.8424626363472769, 0.8172710497020356, 0.7845736937377367, 0.7593998922334094, 0.7334014456496174, 0.7082822535636253, 0.6823086135705854, 0.6571325244007264, 0.6378182437050867, 0.6117625803190361, 0.5866510836982388, 0.5673791357041856, 0.5482117140526152, 0.5288368075483243, 0.5093658458254738, 0.4902330281691326, 0.47174082308400467, 0.45246110267029904, 0.43324160758841485, 0.41392971878276863, 0.40130493007217866, 0.38196062066170555, 0.36253072227540695, 0.3500983163564059, 0.3371497169577153, 0.31755671380032524, 0.30478529941131643, 0.29897380224236975, 0.2856512670451719, 0.27972870292604896, 0.27297013701915457, 0.2662187230764466, 0.2661052596866052, 0.2603535609172456, 0.26009047371270255, 0.2600904587577942, 0.26009044380288576, 0.26009042884797734, 0.260090413893069, 0.26009039893816055, 0.2600903839832522, 0.26009036902834376, 0.2600903540734354, 0.26009033911852697, 0.26009032416361855, 0.2600903092087102, 0.26009029425380176, 0.2600902792988934, 0.26009026434398497, 0.2600902493890766, 0.2600902344341682, 0.26009021947925975, 0.2600902045243514, 0.25338190358001733, 0.25338188862510896, 0.25338187367020054, 0.2533818587152922, 0.25338184376038375, 0.25338182880547533, 0.25338181385056696, 0.25338179889565854, 0.25338178394075017, 0.25338176898584175, 0.2533817540309334, 0.25338173907602496, 0.25338172412111654, 0.25338170916620817, 0.25338169421129975]}, {\"mode\": \"lines+markers\", \"name\": \"model_physique1\", \"text\": [\"Point n\\u00b00<br>MSE = 2.660663571134851e-05\", \"Point n\\u00b01<br>MSE = 1.4072931287614008e-05\", \"Point n\\u00b02<br>MSE = 4.94751490287227e-05\", \"Point n\\u00b03<br>MSE = 2.6606635711348612e-05\", \"Point n\\u00b04<br>MSE = 5.629172515045589e-05\", \"Point n\\u00b05<br>MSE = 4.947514902872284e-05\", \"Point n\\u00b06<br>MSE = 7.197407774655721e-05\", \"Point n\\u00b07<br>MSE = 7.938012803677616e-05\", \"Point n\\u00b08<br>MSE = 6.670089132273228e-05\", \"Point n\\u00b09<br>MSE = 0.0001779515352278168\", \"Point n\\u00b010<br>MSE = 0.00015847792413864128\", \"Point n\\u00b011<br>MSE = 0.0001285729450869565\", \"Point n\\u00b012<br>MSE = 0.00012857294518995918\", \"Point n\\u00b013<br>MSE = 0.00023544285630992275\", \"Point n\\u00b014<br>MSE = 0.00024225943243165552\", \"Point n\\u00b015<br>MSE = 0.0003644421116980527\", \"Point n\\u00b016<br>MSE = 0.0003304641156328104\", \"Point n\\u00b017<br>MSE = 0.00036444211138831706\", \"Point n\\u00b018<br>MSE = 0.0003199094174605942\", \"Point n\\u00b019<br>MSE = 0.0003413537085051218\", \"Point n\\u00b020<br>MSE = 0.0005111503110626235\", \"Point n\\u00b021<br>MSE = 0.0003183701903063452\", \"Point n\\u00b022<br>MSE = 0.0005347011017382103\", \"Point n\\u00b023<br>MSE = 0.0005076320782469697\", \"Point n\\u00b024<br>MSE = 0.0005096110842081115\", \"Point n\\u00b025<br>MSE = 0.0005076320778672939\", \"Point n\\u00b026<br>MSE = 0.0005076320782469626\", \"Point n\\u00b027<br>MSE = 0.0005111503110626199\", \"Point n\\u00b028<br>MSE = 0.0005347011017382175\", \"Point n\\u00b029<br>MSE = 0.0005111503110751193\", \"Point n\\u00b030<br>MSE = 0.0005076320778672869\", \"Point n\\u00b031<br>MSE = 0.0005076320782469661\", \"Point n\\u00b032<br>MSE = 0.0003163911843451963\", \"Point n\\u00b033<br>MSE = 0.0005382193345538678\", \"Point n\\u00b034<br>MSE = 0.00031639118464494307\", \"Point n\\u00b035<br>MSE = 0.00033783547567696866\", \"Point n\\u00b036<br>MSE = 0.0003163911846449403\", \"Point n\\u00b037<br>MSE = 0.0003413537085051218\", \"Point n\\u00b038<br>MSE = 0.0003163911843451963\", \"Point n\\u00b039<br>MSE = 0.0001859677075110056\", \"Point n\\u00b040<br>MSE = 0.00033783547567696866\", \"Point n\\u00b041<br>MSE = 0.0003163911843451963\", \"Point n\\u00b042<br>MSE = 0.00018596770728119763\", \"Point n\\u00b043<br>MSE = 0.0001879467134721545\", \"Point n\\u00b044<br>MSE = 0.00018596770728119977\", \"Point n\\u00b045<br>MSE = 0.00018596770728119763\", \"Point n\\u00b046<br>MSE = 0.00018596770728119977\", \"Point n\\u00b047<br>MSE = 0.00017014814809891026\", \"Point n\\u00b048<br>MSE = 0.00018596770728119869\", \"Point n\\u00b049<br>MSE = 0.00018948594009685361\", \"Point n\\u00b050<br>MSE = 0.00018596770728119869\", \"Point n\\u00b051<br>MSE = 7.909779616123577e-05\", \"Point n\\u00b052<br>MSE = 0.00018596770728119869\", \"Point n\\u00b053<br>MSE = 0.00018596770728119977\", \"Point n\\u00b054<br>MSE = 7.90977960113624e-05\", \"Point n\\u00b055<br>MSE = 8.999571471147684e-05\", \"Point n\\u00b056<br>MSE = 0.00018596770728119977\", \"Point n\\u00b057<br>MSE = 7.909779616123508e-05\", \"Point n\\u00b058<br>MSE = 2.0743975075290317e-05\", \"Point n\\u00b059<br>MSE = 8.999571471147759e-05\", \"Point n\\u00b060<br>MSE = 1.7225742247137182e-05\", \"Point n\\u00b061<br>MSE = 2.2498928717835258e-05\", \"Point n\\u00b062<br>MSE = 2.249892863790316e-05\", \"Point n\\u00b063<br>MSE = 0.0\", \"Point n\\u00b064<br>MSE = 1.7225742247137182e-05\", \"Point n\\u00b065<br>MSE = 0.0\", \"Point n\\u00b066<br>MSE = 0.0\", \"Point n\\u00b067<br>MSE = 0.0\", \"Point n\\u00b068<br>MSE = 0.0\", \"Point n\\u00b069<br>MSE = 0.0\", \"Point n\\u00b070<br>MSE = 0.0\", \"Point n\\u00b071<br>MSE = 0.0\", \"Point n\\u00b072<br>MSE = 0.0\", \"Point n\\u00b073<br>MSE = 0.0\", \"Point n\\u00b074<br>MSE = 0.0\", \"Point n\\u00b075<br>MSE = 0.0\", \"Point n\\u00b076<br>MSE = 0.0\", \"Point n\\u00b077<br>MSE = 0.0\", \"Point n\\u00b078<br>MSE = 0.0\", \"Point n\\u00b079<br>MSE = 0.0\", \"Point n\\u00b080<br>MSE = 0.0\", \"Point n\\u00b081<br>MSE = 0.0\", \"Point n\\u00b082<br>MSE = 0.0\", \"Point n\\u00b083<br>MSE = 0.0\", \"Point n\\u00b084<br>MSE = 2.249892871783563e-05\", \"Point n\\u00b085<br>MSE = 0.0\", \"Point n\\u00b086<br>MSE = 0.0\", \"Point n\\u00b087<br>MSE = 0.0\", \"Point n\\u00b088<br>MSE = 0.0\", \"Point n\\u00b089<br>MSE = 0.0\", \"Point n\\u00b090<br>MSE = 0.0\", \"Point n\\u00b091<br>MSE = 0.0\", \"Point n\\u00b092<br>MSE = 0.0\", \"Point n\\u00b093<br>MSE = 0.0\", \"Point n\\u00b094<br>MSE = 0.0\", \"Point n\\u00b095<br>MSE = 0.0\", \"Point n\\u00b096<br>MSE = 0.0\", \"Point n\\u00b097<br>MSE = 0.0\", \"Point n\\u00b098<br>MSE = 0.0\", \"Point n\\u00b099<br>MSE = 0.0\"], \"type\": \"scatter\", \"x\": [0.06554743381009567, 0.07284217653501045, 0.07814744397174048, 0.08809482041266425, 0.09538956313757904, 0.10600009801103909, 0.11594747445196288, 0.12589485089288666, 0.13849486105453146, 0.14844223750016727, 0.16170540608963632, 0.17430541624656912, 0.1842527926922049, 0.19420016913312868, 0.20414754557405249, 0.21475808044751252, 0.2220528231724273, 0.22735809060915735, 0.2346528333340721, 0.23730546705008113, 0.23995810077080215, 0.24261073448681114, 0.24460020977499589, 0.24460020977499589, 0.24460020977499589, 0.24261073448681114, 0.24261073448681114, 0.24261073448681114, 0.23995810077080215, 0.23995810077080215, 0.23730546705008113, 0.23730546705008113, 0.23730546705008113, 0.23730546705008113, 0.2346528333340721, 0.2346528333340721, 0.2346528333340721, 0.2346528333340721, 0.23200019961335108, 0.23200019961335108, 0.23200019961335108, 0.23200019961335108, 0.23200019961335108, 0.23200019961335108, 0.23001072432516634, 0.23001072432516634, 0.23001072432516634, 0.23001072432516634, 0.23001072432516634, 0.23001072432516634, 0.22735809060915735, 0.22735809060915735, 0.22735809060915735, 0.22735809060915735, 0.22735809060915735, 0.22735809060915735, 0.22735809060915735, 0.22735809060915735, 0.22735809060915735, 0.22470545688843632, 0.22470545688843632, 0.22470545688843632, 0.22470545688843632, 0.22470545688843632, 0.22470545688843632, 0.22470545688843632, 0.22470545688843632, 0.22470545688843632, 0.22470545688843632, 0.22470545688843632, 0.22470545688843632, 0.22470545688843632, 0.22470545688843632, 0.22470545688843632, 0.22470545688843632, 0.22470545688843632, 0.22470545688843632, 0.22470545688843632, 0.22470545688843632, 0.22470545688843632, 0.22470545688843632, 0.22470545688843632, 0.22470545688843632, 0.22470545688843632, 0.22470545688843632, 0.22470545688843632, 0.22470545688843632, 0.22470545688843632, 0.22470545688843632, 0.22470545688843632, 0.22470545688843632, 0.22470545688843632, 0.22470545688843632, 0.22470545688843632, 0.22470545688843632, 0.22470545688843632, 0.22470545688843632, 0.22470545688843632, 0.22470545688843632, 0.22470545688843632], \"y\": [1.4636460334710426, 1.4636460334710426, 1.4636460334710426, 1.4636460334710426, 1.4636460334710426, 1.4636460334710426, 1.4636460334710426, 1.4569379892377605, 1.4569379892377605, 1.4510684505425755, 1.437652362087927, 1.4250747791594596, 1.4124971962429083, 1.399919613314441, 1.3806339861646073, 1.3613483590147737, 1.335354687631658, 1.3101995217866393, 1.2842058504154394, 1.259050684558505, 1.233057013187305, 1.2011938031090041, 1.1760386372639855, 1.1433369216595035, 1.1114737115812026, 1.0796105015029018, 1.0477472914365167, 1.015884081358216, 0.9840208712799151, 0.9513191556754329, 0.9194559455971321, 0.8875927355307471, 0.8557295254524463, 0.8305743596074276, 0.7978726440029456, 0.772717478146011, 0.7467238067748111, 0.7215686409178766, 0.6955749695466767, 0.6704198037016581, 0.6511341765399086, 0.6251405051687087, 0.59998533932369, 0.5806997121738565, 0.561414085012107, 0.5421284578622734, 0.5228428307124399, 0.5035572035626062, 0.48511008193895394, 0.4658244547891204, 0.44653882763928676, 0.4272532004894532, 0.4146756175609859, 0.39538999041115236, 0.37610436326131874, 0.3635267803447674, 0.35011069189011884, 0.3308250647402852, 0.318247481811818, 0.312377943116633, 0.2989618546619844, 0.29309231596679935, 0.28638427173351716, 0.2796762275121508, 0.2796762275121508, 0.2738066888169658, 0.2738066888169658, 0.2738066888169658, 0.2738066888169658, 0.2738066888169658, 0.2738066888169658, 0.2738066888169658, 0.2738066888169658, 0.2738066888169658, 0.2738066888169658, 0.2738066888169658, 0.2738066888169658, 0.2738066888169658, 0.2738066888169658, 0.2738066888169658, 0.2738066888169658, 0.2738066888169658, 0.2738066888169658, 0.2738066888169658, 0.2738066888169658, 0.26709864458368354, 0.26709864458368354, 0.26709864458368354, 0.26709864458368354, 0.26709864458368354, 0.26709864458368354, 0.26709864458368354, 0.26709864458368354, 0.26709864458368354, 0.26709864458368354, 0.26709864458368354, 0.26709864458368354, 0.26709864458368354, 0.26709864458368354, 0.26709864458368354]}],                        {\"template\": {\"data\": {\"bar\": [{\"error_x\": {\"color\": \"#2a3f5f\"}, \"error_y\": {\"color\": \"#2a3f5f\"}, \"marker\": {\"line\": {\"color\": \"#E5ECF6\", \"width\": 0.5}}, \"type\": \"bar\"}], \"barpolar\": [{\"marker\": {\"line\": {\"color\": \"#E5ECF6\", \"width\": 0.5}}, \"type\": \"barpolar\"}], \"carpet\": [{\"aaxis\": {\"endlinecolor\": \"#2a3f5f\", \"gridcolor\": \"white\", \"linecolor\": \"white\", \"minorgridcolor\": \"white\", \"startlinecolor\": \"#2a3f5f\"}, \"baxis\": {\"endlinecolor\": \"#2a3f5f\", \"gridcolor\": \"white\", \"linecolor\": \"white\", \"minorgridcolor\": \"white\", \"startlinecolor\": \"#2a3f5f\"}, \"type\": \"carpet\"}], \"choropleth\": [{\"colorbar\": {\"outlinewidth\": 0, \"ticks\": \"\"}, \"type\": \"choropleth\"}], \"contour\": [{\"colorbar\": {\"outlinewidth\": 0, \"ticks\": \"\"}, \"colorscale\": [[0.0, \"#0d0887\"], [0.1111111111111111, \"#46039f\"], [0.2222222222222222, \"#7201a8\"], [0.3333333333333333, \"#9c179e\"], [0.4444444444444444, \"#bd3786\"], [0.5555555555555556, \"#d8576b\"], [0.6666666666666666, \"#ed7953\"], [0.7777777777777778, \"#fb9f3a\"], [0.8888888888888888, \"#fdca26\"], [1.0, \"#f0f921\"]], \"type\": \"contour\"}], \"contourcarpet\": [{\"colorbar\": {\"outlinewidth\": 0, \"ticks\": \"\"}, \"type\": \"contourcarpet\"}], \"heatmap\": [{\"colorbar\": {\"outlinewidth\": 0, \"ticks\": \"\"}, \"colorscale\": [[0.0, \"#0d0887\"], [0.1111111111111111, \"#46039f\"], [0.2222222222222222, \"#7201a8\"], [0.3333333333333333, \"#9c179e\"], [0.4444444444444444, \"#bd3786\"], [0.5555555555555556, \"#d8576b\"], [0.6666666666666666, \"#ed7953\"], [0.7777777777777778, \"#fb9f3a\"], [0.8888888888888888, \"#fdca26\"], [1.0, \"#f0f921\"]], \"type\": \"heatmap\"}], \"heatmapgl\": [{\"colorbar\": {\"outlinewidth\": 0, \"ticks\": \"\"}, \"colorscale\": [[0.0, \"#0d0887\"], [0.1111111111111111, \"#46039f\"], [0.2222222222222222, \"#7201a8\"], [0.3333333333333333, \"#9c179e\"], [0.4444444444444444, \"#bd3786\"], [0.5555555555555556, \"#d8576b\"], [0.6666666666666666, \"#ed7953\"], [0.7777777777777778, \"#fb9f3a\"], [0.8888888888888888, \"#fdca26\"], [1.0, \"#f0f921\"]], \"type\": \"heatmapgl\"}], \"histogram\": [{\"marker\": {\"colorbar\": {\"outlinewidth\": 0, \"ticks\": \"\"}}, \"type\": \"histogram\"}], \"histogram2d\": [{\"colorbar\": {\"outlinewidth\": 0, \"ticks\": \"\"}, \"colorscale\": [[0.0, \"#0d0887\"], [0.1111111111111111, \"#46039f\"], [0.2222222222222222, \"#7201a8\"], [0.3333333333333333, \"#9c179e\"], [0.4444444444444444, \"#bd3786\"], [0.5555555555555556, \"#d8576b\"], [0.6666666666666666, \"#ed7953\"], [0.7777777777777778, \"#fb9f3a\"], [0.8888888888888888, \"#fdca26\"], [1.0, \"#f0f921\"]], \"type\": \"histogram2d\"}], \"histogram2dcontour\": [{\"colorbar\": {\"outlinewidth\": 0, \"ticks\": \"\"}, \"colorscale\": [[0.0, \"#0d0887\"], [0.1111111111111111, \"#46039f\"], [0.2222222222222222, \"#7201a8\"], [0.3333333333333333, \"#9c179e\"], [0.4444444444444444, \"#bd3786\"], [0.5555555555555556, \"#d8576b\"], [0.6666666666666666, \"#ed7953\"], [0.7777777777777778, \"#fb9f3a\"], [0.8888888888888888, \"#fdca26\"], [1.0, \"#f0f921\"]], \"type\": \"histogram2dcontour\"}], \"mesh3d\": [{\"colorbar\": {\"outlinewidth\": 0, \"ticks\": \"\"}, \"type\": \"mesh3d\"}], \"parcoords\": [{\"line\": {\"colorbar\": {\"outlinewidth\": 0, \"ticks\": \"\"}}, \"type\": \"parcoords\"}], \"pie\": [{\"automargin\": true, \"type\": \"pie\"}], \"scatter\": [{\"marker\": {\"colorbar\": {\"outlinewidth\": 0, \"ticks\": \"\"}}, \"type\": \"scatter\"}], \"scatter3d\": [{\"line\": {\"colorbar\": {\"outlinewidth\": 0, \"ticks\": \"\"}}, \"marker\": {\"colorbar\": {\"outlinewidth\": 0, \"ticks\": \"\"}}, \"type\": \"scatter3d\"}], \"scattercarpet\": [{\"marker\": {\"colorbar\": {\"outlinewidth\": 0, \"ticks\": \"\"}}, \"type\": \"scattercarpet\"}], \"scattergeo\": [{\"marker\": {\"colorbar\": {\"outlinewidth\": 0, \"ticks\": \"\"}}, \"type\": \"scattergeo\"}], \"scattergl\": [{\"marker\": {\"colorbar\": {\"outlinewidth\": 0, \"ticks\": \"\"}}, \"type\": \"scattergl\"}], \"scattermapbox\": [{\"marker\": {\"colorbar\": {\"outlinewidth\": 0, \"ticks\": \"\"}}, \"type\": \"scattermapbox\"}], \"scatterpolar\": [{\"marker\": {\"colorbar\": {\"outlinewidth\": 0, \"ticks\": \"\"}}, \"type\": \"scatterpolar\"}], \"scatterpolargl\": [{\"marker\": {\"colorbar\": {\"outlinewidth\": 0, \"ticks\": \"\"}}, \"type\": \"scatterpolargl\"}], \"scatterternary\": [{\"marker\": {\"colorbar\": {\"outlinewidth\": 0, \"ticks\": \"\"}}, \"type\": \"scatterternary\"}], \"surface\": [{\"colorbar\": {\"outlinewidth\": 0, \"ticks\": \"\"}, \"colorscale\": [[0.0, \"#0d0887\"], [0.1111111111111111, \"#46039f\"], [0.2222222222222222, \"#7201a8\"], [0.3333333333333333, \"#9c179e\"], [0.4444444444444444, \"#bd3786\"], [0.5555555555555556, \"#d8576b\"], [0.6666666666666666, \"#ed7953\"], [0.7777777777777778, \"#fb9f3a\"], [0.8888888888888888, \"#fdca26\"], [1.0, \"#f0f921\"]], \"type\": \"surface\"}], \"table\": [{\"cells\": {\"fill\": {\"color\": \"#EBF0F8\"}, \"line\": {\"color\": \"white\"}}, \"header\": {\"fill\": {\"color\": \"#C8D4E3\"}, \"line\": {\"color\": \"white\"}}, \"type\": \"table\"}]}, \"layout\": {\"annotationdefaults\": {\"arrowcolor\": \"#2a3f5f\", \"arrowhead\": 0, \"arrowwidth\": 1}, \"autotypenumbers\": \"strict\", \"coloraxis\": {\"colorbar\": {\"outlinewidth\": 0, \"ticks\": \"\"}}, \"colorscale\": {\"diverging\": [[0, \"#8e0152\"], [0.1, \"#c51b7d\"], [0.2, \"#de77ae\"], [0.3, \"#f1b6da\"], [0.4, \"#fde0ef\"], [0.5, \"#f7f7f7\"], [0.6, \"#e6f5d0\"], [0.7, \"#b8e186\"], [0.8, \"#7fbc41\"], [0.9, \"#4d9221\"], [1, \"#276419\"]], \"sequential\": [[0.0, \"#0d0887\"], [0.1111111111111111, \"#46039f\"], [0.2222222222222222, \"#7201a8\"], [0.3333333333333333, \"#9c179e\"], [0.4444444444444444, \"#bd3786\"], [0.5555555555555556, \"#d8576b\"], [0.6666666666666666, \"#ed7953\"], [0.7777777777777778, \"#fb9f3a\"], [0.8888888888888888, \"#fdca26\"], [1.0, \"#f0f921\"]], \"sequentialminus\": [[0.0, \"#0d0887\"], [0.1111111111111111, \"#46039f\"], [0.2222222222222222, \"#7201a8\"], [0.3333333333333333, \"#9c179e\"], [0.4444444444444444, \"#bd3786\"], [0.5555555555555556, \"#d8576b\"], [0.6666666666666666, \"#ed7953\"], [0.7777777777777778, \"#fb9f3a\"], [0.8888888888888888, \"#fdca26\"], [1.0, \"#f0f921\"]]}, \"colorway\": [\"#636efa\", \"#EF553B\", \"#00cc96\", \"#ab63fa\", \"#FFA15A\", \"#19d3f3\", \"#FF6692\", \"#B6E880\", \"#FF97FF\", \"#FECB52\"], \"font\": {\"color\": \"#2a3f5f\"}, \"geo\": {\"bgcolor\": \"white\", \"lakecolor\": \"white\", \"landcolor\": \"#E5ECF6\", \"showlakes\": true, \"showland\": true, \"subunitcolor\": \"white\"}, \"hoverlabel\": {\"align\": \"left\"}, \"hovermode\": \"closest\", \"mapbox\": {\"style\": \"light\"}, \"paper_bgcolor\": \"white\", \"plot_bgcolor\": \"#E5ECF6\", \"polar\": {\"angularaxis\": {\"gridcolor\": \"white\", \"linecolor\": \"white\", \"ticks\": \"\"}, \"bgcolor\": \"#E5ECF6\", \"radialaxis\": {\"gridcolor\": \"white\", \"linecolor\": \"white\", \"ticks\": \"\"}}, \"scene\": {\"xaxis\": {\"backgroundcolor\": \"#E5ECF6\", \"gridcolor\": \"white\", \"gridwidth\": 2, \"linecolor\": \"white\", \"showbackground\": true, \"ticks\": \"\", \"zerolinecolor\": \"white\"}, \"yaxis\": {\"backgroundcolor\": \"#E5ECF6\", \"gridcolor\": \"white\", \"gridwidth\": 2, \"linecolor\": \"white\", \"showbackground\": true, \"ticks\": \"\", \"zerolinecolor\": \"white\"}, \"zaxis\": {\"backgroundcolor\": \"#E5ECF6\", \"gridcolor\": \"white\", \"gridwidth\": 2, \"linecolor\": \"white\", \"showbackground\": true, \"ticks\": \"\", \"zerolinecolor\": \"white\"}}, \"shapedefaults\": {\"line\": {\"color\": \"#2a3f5f\"}}, \"ternary\": {\"aaxis\": {\"gridcolor\": \"white\", \"linecolor\": \"white\", \"ticks\": \"\"}, \"baxis\": {\"gridcolor\": \"white\", \"linecolor\": \"white\", \"ticks\": \"\"}, \"bgcolor\": \"#E5ECF6\", \"caxis\": {\"gridcolor\": \"white\", \"linecolor\": \"white\", \"ticks\": \"\"}}, \"title\": {\"x\": 0.05}, \"xaxis\": {\"automargin\": true, \"gridcolor\": \"white\", \"linecolor\": \"white\", \"ticks\": \"\", \"title\": {\"standoff\": 15}, \"zerolinecolor\": \"white\", \"zerolinewidth\": 2}, \"yaxis\": {\"automargin\": true, \"gridcolor\": \"white\", \"linecolor\": \"white\", \"ticks\": \"\", \"title\": {\"standoff\": 15}, \"zerolinecolor\": \"white\", \"zerolinewidth\": 2}}}, \"title\": {\"text\": \"Targets et Predictions\"}, \"xaxis\": {\"showgrid\": true, \"ticklen\": 5, \"title\": {\"text\": \"Latitude\"}, \"zeroline\": false}, \"yaxis\": {\"showgrid\": true, \"ticklen\": 5, \"title\": {\"text\": \"Logitude\"}, \"zeroline\": false}},                        {\"responsive\": true}                    ).then(function(){\n",
       "                            \n",
       "var gd = document.getElementById('9c8c34da-090a-4e56-98c2-1e7f6492a9bf');\n",
       "var x = new MutationObserver(function (mutations, observer) {{\n",
       "        var display = window.getComputedStyle(gd).display;\n",
       "        if (!display || display === 'none') {{\n",
       "            console.log([gd, 'removed!']);\n",
       "            Plotly.purge(gd);\n",
       "            observer.disconnect();\n",
       "        }}\n",
       "}});\n",
       "\n",
       "// Listen for the removal of the full notebook cells\n",
       "var notebookContainer = gd.closest('#notebook-container');\n",
       "if (notebookContainer) {{\n",
       "    x.observe(notebookContainer, {childList: true});\n",
       "}}\n",
       "\n",
       "// Listen for the clearing of the current output cell\n",
       "var outputEl = gd.closest('.output');\n",
       "if (outputEl) {{\n",
       "    x.observe(outputEl, {childList: true});\n",
       "}}\n",
       "\n",
       "                        })                };                });            </script>        </div>"
      ]
     },
     "metadata": {},
     "output_type": "display_data"
    },
    {
     "data": {
      "text/plain": [
       "[0.5862600452785873,\n",
       " 47.53863881726349,\n",
       " 0.009064001167334926,\n",
       " 0.015285902082608892]"
      ]
     },
     "execution_count": 15,
     "metadata": {},
     "output_type": "execute_result"
    }
   ],
   "source": [
    "nb_points = 100\n",
    "begin_point = np.random.randint(0,13690-nb_points)\n",
    "end_point = begin_point+nb_points\n",
    "evaluateur.scatterPred(begin_point,end_point)"
   ]
  },
  {
   "cell_type": "code",
   "execution_count": 16,
   "id": "contemporary-taylor",
   "metadata": {
    "scrolled": true
   },
   "outputs": [
    {
     "name": "stdout",
     "output_type": "stream",
     "text": [
      "model_contextual_knnReg\n"
     ]
    },
    {
     "data": {
      "text/plain": [
       "array([[-1.12349563,  1.11147371],\n",
       "       [-1.12349563,  1.11147371],\n",
       "       [-1.12349563,  1.11147371],\n",
       "       [-1.12349563,  1.11147371],\n",
       "       [-1.12349563,  1.11147371],\n",
       "       [-1.12349563,  1.11147371],\n",
       "       [-1.12349563,  1.11147371],\n",
       "       [-1.12349563,  1.11147371],\n",
       "       [-1.12349563,  1.11147371],\n",
       "       [-1.12349563,  1.11147371],\n",
       "       [-1.12349563,  1.11147371],\n",
       "       [-1.12349563,  1.11147371],\n",
       "       [-1.12349563,  1.11147371],\n",
       "       [-1.10094824,  1.04103925],\n",
       "       [-1.10094824,  1.04103925],\n",
       "       [-1.10094824,  1.04103925],\n",
       "       [-1.09100087,  1.00917604],\n",
       "       [-1.09100087,  1.00917604],\n",
       "       [-1.09100087,  1.00917604],\n",
       "       [-1.09100087,  1.00917604],\n",
       "       [-1.09100087,  1.00917604],\n",
       "       [-1.08039033,  0.97060478],\n",
       "       [-1.08039033,  0.97060478],\n",
       "       [-1.08039033,  0.97060478],\n",
       "       [-1.08039033,  0.97060478],\n",
       "       [-1.08039033,  0.97060478],\n",
       "       [-1.06779032,  0.88759274],\n",
       "       [-1.06779032,  0.88759274],\n",
       "       [-1.06049558,  0.84315194],\n",
       "       [-1.06049558,  0.84315194],\n",
       "       [-1.06049558,  0.84315194],\n",
       "       [ 0.28505287, -0.36597303],\n",
       "       [ 0.28505287, -0.36597303],\n",
       "       [ 0.28505287, -0.36597303],\n",
       "       [ 0.28505287, -0.36597303],\n",
       "       [ 0.28505287, -0.36597303],\n",
       "       [ 0.28505287, -0.36597303],\n",
       "       [ 0.28505287, -0.36597303],\n",
       "       [ 0.28505287, -0.36597303],\n",
       "       [ 0.28505287, -0.36597303],\n",
       "       [ 0.28505287, -0.36597303],\n",
       "       [ 0.28505287, -0.36597303],\n",
       "       [ 0.28505287, -0.36597303],\n",
       "       [ 0.28505287, -0.36597303],\n",
       "       [ 0.28505287, -0.36597303],\n",
       "       [ 0.28505287, -0.36597303],\n",
       "       [ 0.28505287, -0.36597303],\n",
       "       [ 0.28505287, -0.36597303],\n",
       "       [ 0.28505287, -0.36597303],\n",
       "       [ 0.28505287, -0.36597303],\n",
       "       [ 0.28505287, -0.36597303],\n",
       "       [ 0.28505287, -0.36597303],\n",
       "       [ 0.28505287, -0.36597303],\n",
       "       [ 0.28505287, -0.36597303],\n",
       "       [ 0.28505287, -0.36597303],\n",
       "       [ 0.28505287, -0.36597303],\n",
       "       [ 0.28505287, -0.36597303],\n",
       "       [ 0.28505287, -0.36597303],\n",
       "       [ 0.28505287, -0.36597303],\n",
       "       [ 0.28505287, -0.36597303],\n",
       "       [ 0.28505287, -0.36597303],\n",
       "       [ 0.28505287, -0.36597303],\n",
       "       [ 0.28505287, -0.36597303],\n",
       "       [ 0.28505287, -0.36597303],\n",
       "       [ 0.28505287, -0.36597303],\n",
       "       [ 0.28505287, -0.36597303],\n",
       "       [ 0.28505287, -0.36597303],\n",
       "       [ 0.28505287, -0.36597303],\n",
       "       [ 0.28505287, -0.36597303],\n",
       "       [ 0.28505287, -0.36597303],\n",
       "       [ 0.28505287, -0.36597303],\n",
       "       [ 0.28505287, -0.36597303],\n",
       "       [ 0.28505287, -0.36597303],\n",
       "       [ 0.28505287, -0.36597303],\n",
       "       [ 0.28505287, -0.36597303],\n",
       "       [ 0.28505287, -0.36597303],\n",
       "       [ 0.28505287, -0.36597303],\n",
       "       [ 0.28505287, -0.36597303],\n",
       "       [ 0.28505287, -0.36597303],\n",
       "       [ 0.28505287, -0.36597303],\n",
       "       [ 0.28505287, -0.36597303],\n",
       "       [ 0.28505287, -0.36597303],\n",
       "       [ 0.28505287, -0.36597303],\n",
       "       [ 0.28505287, -0.36597303],\n",
       "       [ 0.28505287, -0.36597303],\n",
       "       [ 0.28505287, -0.36597303],\n",
       "       [ 0.28505287, -0.36597303],\n",
       "       [ 0.28505287, -0.36597303],\n",
       "       [ 0.28505287, -0.36597303],\n",
       "       [ 0.28505287, -0.36597303],\n",
       "       [ 0.28505287, -0.36597303],\n",
       "       [ 0.28505287, -0.36597303],\n",
       "       [ 0.28505287, -0.36597303],\n",
       "       [ 0.28505287, -0.36597303],\n",
       "       [ 0.28505287, -0.36597303],\n",
       "       [ 0.28505287, -0.36597303],\n",
       "       [ 0.28505287, -0.36597303],\n",
       "       [ 0.28505287, -0.36597303],\n",
       "       [ 0.28505287, -0.36597303],\n",
       "       [ 0.28505287, -0.36597303]])"
      ]
     },
     "execution_count": 16,
     "metadata": {},
     "output_type": "execute_result"
    }
   ],
   "source": [
    "print(type(models[1]).__name__)\n",
    "models[1].predict(evaluateur.l_Xtest[1])[begin_point:end_point]"
   ]
  },
  {
   "cell_type": "code",
   "execution_count": 17,
   "id": "broad-congress",
   "metadata": {
    "scrolled": true
   },
   "outputs": [
    {
     "name": "stdout",
     "output_type": "stream",
     "text": [
      "model_physique1\n"
     ]
    },
    {
     "data": {
      "text/plain": [
       "array([[0.06554743, 1.46364603],\n",
       "       [0.07284218, 1.46364603],\n",
       "       [0.07814744, 1.46364603],\n",
       "       [0.08809482, 1.46364603],\n",
       "       [0.09538956, 1.46364603],\n",
       "       [0.1060001 , 1.46364603],\n",
       "       [0.11594747, 1.46364603],\n",
       "       [0.12589485, 1.45693799],\n",
       "       [0.13849486, 1.45693799],\n",
       "       [0.14844224, 1.45106845],\n",
       "       [0.16170541, 1.43765236],\n",
       "       [0.17430542, 1.42507478],\n",
       "       [0.18425279, 1.4124972 ],\n",
       "       [0.19420017, 1.39991961],\n",
       "       [0.20414755, 1.38063399],\n",
       "       [0.21475808, 1.36134836],\n",
       "       [0.22205282, 1.33535469],\n",
       "       [0.22735809, 1.31019952],\n",
       "       [0.23465283, 1.28420585],\n",
       "       [0.23730547, 1.25905068],\n",
       "       [0.2399581 , 1.23305701],\n",
       "       [0.24261073, 1.2011938 ],\n",
       "       [0.24460021, 1.17603864],\n",
       "       [0.24460021, 1.14333692],\n",
       "       [0.24460021, 1.11147371],\n",
       "       [0.24261073, 1.0796105 ],\n",
       "       [0.24261073, 1.04774729],\n",
       "       [0.24261073, 1.01588408],\n",
       "       [0.2399581 , 0.98402087],\n",
       "       [0.2399581 , 0.95131916],\n",
       "       [0.23730547, 0.91945595],\n",
       "       [0.23730547, 0.88759274],\n",
       "       [0.23730547, 0.85572953],\n",
       "       [0.23730547, 0.83057436],\n",
       "       [0.23465283, 0.79787264],\n",
       "       [0.23465283, 0.77271748],\n",
       "       [0.23465283, 0.74672381],\n",
       "       [0.23465283, 0.72156864],\n",
       "       [0.2320002 , 0.69557497],\n",
       "       [0.2320002 , 0.6704198 ],\n",
       "       [0.2320002 , 0.65113418],\n",
       "       [0.2320002 , 0.62514051],\n",
       "       [0.2320002 , 0.59998534],\n",
       "       [0.2320002 , 0.58069971],\n",
       "       [0.23001072, 0.56141409],\n",
       "       [0.23001072, 0.54212846],\n",
       "       [0.23001072, 0.52284283],\n",
       "       [0.23001072, 0.5035572 ],\n",
       "       [0.23001072, 0.48511008],\n",
       "       [0.23001072, 0.46582445],\n",
       "       [0.22735809, 0.44653883],\n",
       "       [0.22735809, 0.4272532 ],\n",
       "       [0.22735809, 0.41467562],\n",
       "       [0.22735809, 0.39538999],\n",
       "       [0.22735809, 0.37610436],\n",
       "       [0.22735809, 0.36352678],\n",
       "       [0.22735809, 0.35011069],\n",
       "       [0.22735809, 0.33082506],\n",
       "       [0.22735809, 0.31824748],\n",
       "       [0.22470546, 0.31237794],\n",
       "       [0.22470546, 0.29896185],\n",
       "       [0.22470546, 0.29309232],\n",
       "       [0.22470546, 0.28638427],\n",
       "       [0.22470546, 0.27967623],\n",
       "       [0.22470546, 0.27967623],\n",
       "       [0.22470546, 0.27380669],\n",
       "       [0.22470546, 0.27380669],\n",
       "       [0.22470546, 0.27380669],\n",
       "       [0.22470546, 0.27380669],\n",
       "       [0.22470546, 0.27380669],\n",
       "       [0.22470546, 0.27380669],\n",
       "       [0.22470546, 0.27380669],\n",
       "       [0.22470546, 0.27380669],\n",
       "       [0.22470546, 0.27380669],\n",
       "       [0.22470546, 0.27380669],\n",
       "       [0.22470546, 0.27380669],\n",
       "       [0.22470546, 0.27380669],\n",
       "       [0.22470546, 0.27380669],\n",
       "       [0.22470546, 0.27380669],\n",
       "       [0.22470546, 0.27380669],\n",
       "       [0.22470546, 0.27380669],\n",
       "       [0.22470546, 0.27380669],\n",
       "       [0.22470546, 0.27380669],\n",
       "       [0.22470546, 0.27380669],\n",
       "       [0.22470546, 0.27380669],\n",
       "       [0.22470546, 0.26709864],\n",
       "       [0.22470546, 0.26709864],\n",
       "       [0.22470546, 0.26709864],\n",
       "       [0.22470546, 0.26709864],\n",
       "       [0.22470546, 0.26709864],\n",
       "       [0.22470546, 0.26709864],\n",
       "       [0.22470546, 0.26709864],\n",
       "       [0.22470546, 0.26709864],\n",
       "       [0.22470546, 0.26709864],\n",
       "       [0.22470546, 0.26709864],\n",
       "       [0.22470546, 0.26709864],\n",
       "       [0.22470546, 0.26709864],\n",
       "       [0.22470546, 0.26709864],\n",
       "       [0.22470546, 0.26709864],\n",
       "       [0.22470546, 0.26709864]])"
      ]
     },
     "execution_count": 17,
     "metadata": {},
     "output_type": "execute_result"
    }
   ],
   "source": [
    "print(type(models[3]).__name__)\n",
    "models[3].predict(evaluateur.l_Xtest[3])[begin_point:end_point]"
   ]
  },
  {
   "cell_type": "code",
   "execution_count": 18,
   "id": "universal-healing",
   "metadata": {
    "scrolled": true
   },
   "outputs": [
    {
     "name": "stdout",
     "output_type": "stream",
     "text": [
      "LinearRegression\n"
     ]
    },
    {
     "data": {
      "text/plain": [
       "array([[0.06952633, 1.48336096],\n",
       "       [0.07997283, 1.44084668],\n",
       "       [0.08526285, 1.44086205],\n",
       "       [0.09519163, 1.44075684],\n",
       "       [0.1024672 , 1.44075387],\n",
       "       [0.11304773, 1.440778  ],\n",
       "       [0.12294049, 1.44115564],\n",
       "       [0.1327956 , 1.43492205],\n",
       "       [0.14532049, 1.4354801 ],\n",
       "       [0.15518072, 1.43006732],\n",
       "       [0.16831782, 1.41705253],\n",
       "       [0.18079123, 1.40495812],\n",
       "       [0.19059786, 1.39314784],\n",
       "       [0.20041712, 1.38116824],\n",
       "       [0.21020608, 1.3624789 ],\n",
       "       [0.22065383, 1.3438244 ],\n",
       "       [0.22776652, 1.31843026],\n",
       "       [0.23290163, 1.29383717],\n",
       "       [0.2400137 , 1.26845132],\n",
       "       [0.24250826, 1.24379076],\n",
       "       [0.24499596, 1.21833259],\n",
       "       [0.24746464, 1.18690301],\n",
       "       [0.24930545, 1.16213989],\n",
       "       [0.24913838, 1.12968888],\n",
       "       [0.24898907, 1.09788924],\n",
       "       [0.24684737, 1.06619969],\n",
       "       [0.2466904 , 1.03450273],\n",
       "       [0.24654404, 1.00266363],\n",
       "       [0.24375421, 0.97079618],\n",
       "       [0.2436111 , 0.93802392],\n",
       "       [0.24082681, 0.90608217],\n",
       "       [0.24067832, 0.87427153],\n",
       "       [0.24052971, 0.84246264],\n",
       "       [0.24041829, 0.81727105],\n",
       "       [0.23762402, 0.78457369],\n",
       "       [0.23751128, 0.75939989],\n",
       "       [0.2373937 , 0.73340145],\n",
       "       [0.23727689, 0.70828225],\n",
       "       [0.23451188, 0.68230861],\n",
       "       [0.23439931, 0.65713252],\n",
       "       [0.23431395, 0.63781824],\n",
       "       [0.23420064, 0.61176258],\n",
       "       [0.23408325, 0.58665108],\n",
       "       [0.23399473, 0.56737914],\n",
       "       [0.23191423, 0.54821171],\n",
       "       [0.23183339, 0.52883681],\n",
       "       [0.23175972, 0.50936585],\n",
       "       [0.23166082, 0.49023303],\n",
       "       [0.23158049, 0.47174082],\n",
       "       [0.23149255, 0.4524611 ],\n",
       "       [0.22875454, 0.43324161],\n",
       "       [0.228669  , 0.41392972],\n",
       "       [0.22861546, 0.40130493],\n",
       "       [0.22853234, 0.38196062],\n",
       "       [0.2284556 , 0.36253072],\n",
       "       [0.22838771, 0.35009832],\n",
       "       [0.22829198, 0.33714972],\n",
       "       [0.2282274 , 0.31755671],\n",
       "       [0.2281848 , 0.3047853 ],\n",
       "       [0.22550826, 0.2989738 ],\n",
       "       [0.22544042, 0.28565127],\n",
       "       [0.22541775, 0.2797287 ],\n",
       "       [0.22539108, 0.27297014],\n",
       "       [0.22536389, 0.26621872],\n",
       "       [0.22537236, 0.26610526],\n",
       "       [0.22533694, 0.26035356],\n",
       "       [0.22535657, 0.26009047],\n",
       "       [0.22535657, 0.26009046],\n",
       "       [0.22535658, 0.26009044],\n",
       "       [0.22535659, 0.26009043],\n",
       "       [0.22535659, 0.26009041],\n",
       "       [0.2253566 , 0.2600904 ],\n",
       "       [0.2253566 , 0.26009038],\n",
       "       [0.22535661, 0.26009037],\n",
       "       [0.22535662, 0.26009035],\n",
       "       [0.22535662, 0.26009034],\n",
       "       [0.22535663, 0.26009032],\n",
       "       [0.22535663, 0.26009031],\n",
       "       [0.22535664, 0.26009029],\n",
       "       [0.22535665, 0.26009028],\n",
       "       [0.22535665, 0.26009026],\n",
       "       [0.22535666, 0.26009025],\n",
       "       [0.22535666, 0.26009023],\n",
       "       [0.22535667, 0.26009022],\n",
       "       [0.22535668, 0.2600902 ],\n",
       "       [0.22532626, 0.2533819 ],\n",
       "       [0.22532627, 0.25338189],\n",
       "       [0.22532628, 0.25338187],\n",
       "       [0.22532628, 0.25338186],\n",
       "       [0.22532629, 0.25338184],\n",
       "       [0.22532629, 0.25338183],\n",
       "       [0.2253263 , 0.25338181],\n",
       "       [0.22532631, 0.2533818 ],\n",
       "       [0.22532631, 0.25338178],\n",
       "       [0.22532632, 0.25338177],\n",
       "       [0.22532632, 0.25338175],\n",
       "       [0.22532633, 0.25338174],\n",
       "       [0.22532634, 0.25338172],\n",
       "       [0.22532634, 0.25338171],\n",
       "       [0.22532635, 0.25338169]])"
      ]
     },
     "execution_count": 18,
     "metadata": {},
     "output_type": "execute_result"
    }
   ],
   "source": [
    "print(type(models[2]).__name__)\n",
    "models[2].predict(evaluateur.l_Xtest[2])[begin_point:end_point]"
   ]
  },
  {
   "cell_type": "code",
   "execution_count": 19,
   "id": "upset-martin",
   "metadata": {
    "scrolled": true
   },
   "outputs": [
    {
     "data": {
      "text/html": [
       "<div>\n",
       "<style scoped>\n",
       "    .dataframe tbody tr th:only-of-type {\n",
       "        vertical-align: middle;\n",
       "    }\n",
       "\n",
       "    .dataframe tbody tr th {\n",
       "        vertical-align: top;\n",
       "    }\n",
       "\n",
       "    .dataframe thead th {\n",
       "        text-align: right;\n",
       "    }\n",
       "</style>\n",
       "<table border=\"1\" class=\"dataframe\">\n",
       "  <thead>\n",
       "    <tr style=\"text-align: right;\">\n",
       "      <th></th>\n",
       "      <th>Latitude</th>\n",
       "      <th>Longitude</th>\n",
       "    </tr>\n",
       "  </thead>\n",
       "  <tbody>\n",
       "    <tr>\n",
       "      <th>905287</th>\n",
       "      <td>0.072842</td>\n",
       "      <td>1.463646</td>\n",
       "    </tr>\n",
       "    <tr>\n",
       "      <th>905289</th>\n",
       "      <td>0.078147</td>\n",
       "      <td>1.463646</td>\n",
       "    </tr>\n",
       "    <tr>\n",
       "      <th>905291</th>\n",
       "      <td>0.088095</td>\n",
       "      <td>1.463646</td>\n",
       "    </tr>\n",
       "    <tr>\n",
       "      <th>905293</th>\n",
       "      <td>0.095390</td>\n",
       "      <td>1.463646</td>\n",
       "    </tr>\n",
       "    <tr>\n",
       "      <th>905295</th>\n",
       "      <td>0.106000</td>\n",
       "      <td>1.463646</td>\n",
       "    </tr>\n",
       "    <tr>\n",
       "      <th>...</th>\n",
       "      <td>...</td>\n",
       "      <td>...</td>\n",
       "    </tr>\n",
       "    <tr>\n",
       "      <th>905477</th>\n",
       "      <td>0.224705</td>\n",
       "      <td>0.267099</td>\n",
       "    </tr>\n",
       "    <tr>\n",
       "      <th>905479</th>\n",
       "      <td>0.224705</td>\n",
       "      <td>0.267099</td>\n",
       "    </tr>\n",
       "    <tr>\n",
       "      <th>905481</th>\n",
       "      <td>0.224705</td>\n",
       "      <td>0.267099</td>\n",
       "    </tr>\n",
       "    <tr>\n",
       "      <th>905483</th>\n",
       "      <td>0.224705</td>\n",
       "      <td>0.267099</td>\n",
       "    </tr>\n",
       "    <tr>\n",
       "      <th>905485</th>\n",
       "      <td>0.224705</td>\n",
       "      <td>0.267099</td>\n",
       "    </tr>\n",
       "  </tbody>\n",
       "</table>\n",
       "<p>100 rows × 2 columns</p>\n",
       "</div>"
      ],
      "text/plain": [
       "        Latitude  Longitude\n",
       "905287  0.072842   1.463646\n",
       "905289  0.078147   1.463646\n",
       "905291  0.088095   1.463646\n",
       "905293  0.095390   1.463646\n",
       "905295  0.106000   1.463646\n",
       "...          ...        ...\n",
       "905477  0.224705   0.267099\n",
       "905479  0.224705   0.267099\n",
       "905481  0.224705   0.267099\n",
       "905483  0.224705   0.267099\n",
       "905485  0.224705   0.267099\n",
       "\n",
       "[100 rows x 2 columns]"
      ]
     },
     "execution_count": 19,
     "metadata": {},
     "output_type": "execute_result"
    }
   ],
   "source": [
    "evaluateur.l_Ytest[3].iloc[begin_point:end_point]"
   ]
  },
  {
   "cell_type": "markdown",
   "id": "placed-fifth",
   "metadata": {},
   "source": [
    "#### Matrice erreurs MSE pour chaque case"
   ]
  },
  {
   "cell_type": "code",
   "execution_count": 20,
   "id": "muslim-biography",
   "metadata": {
    "scrolled": false,
    "tags": []
   },
   "outputs": [
    {
     "data": {
      "image/png": "[encoded data removed]",
      "text/plain": [
       "<Figure size 1080x360 with 4 Axes>"
      ]
     },
     "metadata": {
      "needs_background": "light"
     },
     "output_type": "display_data"
    },
    {
     "data": {
      "image/png": "[encoded data removed]",
      "text/plain": [
       "<Figure size 1080x936 with 8 Axes>"
      ]
     },
     "metadata": {
      "needs_background": "light"
     },
     "output_type": "display_data"
    }
   ],
   "source": [
    "min_datapoints = 5\n",
    "\n",
    "#fréquences\n",
    "freq_train = 400\n",
    "freq_test = freq_train\n",
    "\n",
    "dv.afficher_traffic(df, lat_min,lat_max, long_min, long_max, n_interval)\n",
    "\n",
    "#On apprend sur toutes les données puis on prédit et calcule l'erreur MSE sur chaque case\n",
    "evaluateur.matMSECase(freq_train,freq_test,lat_min,long_min,e_x,e_y,min_datapoints,train_size,n_interval)"
   ]
  }
 ],
 "metadata": {
  "kernelspec": {
   "display_name": "Python 3",
   "language": "python",
   "name": "python3"
  },
  "language_info": {
   "codemirror_mode": {
    "name": "ipython",
    "version": 3
   },
   "file_extension": ".py",
   "mimetype": "text/x-python",
   "name": "python",
   "nbconvert_exporter": "python",
   "pygments_lexer": "ipython3",
   "version": "3.7.9"
  }
 },
 "nbformat": 4,
 "nbformat_minor": 5
}
